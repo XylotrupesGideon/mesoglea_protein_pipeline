{
 "cells": [
  {
   "cell_type": "markdown",
   "metadata": {},
   "source": [
    "# Mesoglea characterization pipeline\n",
    "\n",
    "*by Bruno Gideon Bergheim, Center For Organismal Studies, Uni Heidelberg*"
   ]
  },
  {
   "cell_type": "markdown",
   "metadata": {},
   "source": [
    "## Requirements\n",
    "\n",
    "### Python Packages\n",
    "\n",
    "**Biopython:** Used for Sequence manipulation.\n",
    "\n",
    "`pip install biopython`\n",
    "\n",
    "**pathlib:** Used to create folders.\n",
    "\n",
    "`pip install pathlib`\n",
    "\n",
    "**subprocess:** Used to call InterProScan (hopefully).\n",
    "\n",
    "**logging:** Used to create a lob of the pipeline"
   ]
  },
  {
   "cell_type": "code",
   "execution_count": 2,
   "metadata": {},
   "outputs": [],
   "source": [
    "#Load Packages\n",
    "from Bio import SeqIO\n",
    "import pathlib\n",
    "import subprocess\n",
    "import logging\n",
    "logging.basicConfig(filename='logs/last_run.log', level=logging.DEBUG)"
   ]
  },
  {
   "cell_type": "markdown",
   "metadata": {},
   "source": [
    "### InterProScan\n",
    "\n",
    "We are looking up a lot of domains therefore it is highly recommended to use a local version of InterProScan to annotate the domains.\n",
    "\n",
    "IPR is available for linux and can be run on Windows computers using a Linux Subsystem (WSL).\n",
    "\n",
    "1. **(if on Windows) Install the WSL**\n",
    "2. **Install Interproscan**\n",
    "\n",
    "    See [here](https://interproscan-docs.readthedocs.io/en/latest/InstallationRequirements.html) for instructions\n",
    "\n",
    "    At the time of writing the instructions were:\n",
    "    ```shell\n",
    "    #checking requirements versions\n",
    "    uname -a\n",
    "    perl -version\n",
    "    python3 --version\n",
    "    java -version\n",
    "\n",
    "    #downloading interproscan\n",
    "    mkdir my_interproscan\n",
    "    cd my_interproscan\n",
    "    wget https://ftp.ebi.ac.uk/pub/software/unix/iprscan/5/5.57-90.0/interproscan-5.57-90.0-64-bit.tar.gz\n",
    "    wget https://ftp.ebi.ac.uk/pub/software/unix/iprscan/5/5.57-90.0/interproscan-5.57-90.0-64-bit.tar.gz.md5\n",
    "    #checking if the download was completed\n",
    "    md5sum -c interproscan-5.57-90.0-64-bit.tar.gz.md5\n",
    "\n",
    "    #unpacking interproscan\n",
    "    tar -pxvzf interproscan-5.57-90.0-*-bit.tar.gz\n",
    "    cd interproscan-5.57-90.0\n",
    "\n",
    "    #setup\n",
    "    python3 initial_setup.py\n",
    "\n",
    "    #test\n",
    "    ./intersproscan.sh\n",
    "    ```\n",
    "\n",
    "3. **Run interproscan**\n",
    "\n",
    "    We want to run intersprscan on all fasta sequences. Therefore we run it in a loop:\n",
    "\n",
    "    ```shell\n",
    "    for file in [path to folder]\n",
    "    do\n",
    "        ./interproscan.sh -i $file -o $file.xml -f xml  -goterms -pa\n",
    "    done\n",
    "    ```\n",
    "    where:\n",
    "    -f xml => specifies xml output file\n",
    "    -goterms => activates go-term annotation\n",
    "    -pa => activates pathway annotation\n",
    "\n",
    "    e.g. for this analysis the command was:\n",
    "    ```shell\n",
    "    for file in /mnt/d/Data/programs/mesoglea_protein_pipeline/input/Hydra_vulgaris/*.fasta;\n",
    "    do \tsudo ./interproscan.sh -i $file -o $file.tsv -f tsv -dra -cpu 14 -appl TIGRFAM,SFLD,SUPERFAMILY,PANTHER,ProSiteProfiles,SMART,CDD,PRINTS,PIRSR,ProSitePatterns,AntiFam,Pfam;\n",
    "    done;\n",
    "    ```\n",
    "\n",
    "4. **Install SignalP, TMHMM and Phobius**\n",
    "\n",
    "To get all annotations three licences databases have to be added.\n",
    "\n",
    "http://phobius.sbc.su.se/data.html\n",
    "\n",
    "http://www.cbs.dtu.dk/services/SignalP/\n",
    "\n",
    "http://www.cbs.dtu.dk/services/TMHMM/\n",
    "\n",
    "They are available for scientific use if the licence agreement is accepted. the download files will be send to your email.\n",
    "\n",
    "After downloading the files they can be moved to the correct folders:\n",
    "\n",
    "phoebius:\n",
    "```shell\n",
    "mv -v [download path]/* /my_intersproscan/interproscan-5.57-90.0/bin/phobius/1.01/\n",
    "```\n",
    "SignalP:\n",
    "```shell\n",
    "mv -v [download path]/* /my_intersproscan/interproscan-5.57-90.0/bin/signalp/4.1/\n",
    "```\n",
    "\n",
    "TMHMM:\n",
    "```shell\n",
    "mv -v [download path]/* /my_intersproscan/interproscan-5.57-90.0/bin/tmhmm/2.0c/\n",
    "```\n"
   ]
  },
  {
   "cell_type": "markdown",
   "metadata": {},
   "source": [
    "We first split the large proteome fasta file into its individual sequences which makes it a bit easier to work with in the domain annotation steps."
   ]
  },
  {
   "cell_type": "markdown",
   "metadata": {},
   "source": [
    "## Input files\n",
    "\n",
    "**Proteome.fasta:** A .fasta file containing all sequences of a given species. Its name must be the Species name e.g. Hydra_vulgaris."
   ]
  },
  {
   "cell_type": "code",
   "execution_count": 15,
   "metadata": {},
   "outputs": [],
   "source": [
    "def clean_name(species):\n",
    "    \"Helper function used to clean the species name\"\n",
    "    return species.strip().replace(\" \",\"_\")\n",
    "\n",
    "def split_proteome(species,rerun = False):\n",
    "    \"\"\"Reads the proteome file and splits it into individual sequence .fasta files.\"\"\"\n",
    "\n",
    "    logging.info(\"Starting new run for {}.\".format(species))\n",
    "    species = clean_name(species) #fixes name\n",
    "    try:\n",
    "        proteome = SeqIO.parse(\"input\\{}.fasta\".format(species),\"fasta\")\n",
    "    except FileNotFoundError:\n",
    "        logging.error(\"No proteome found.\")\n",
    "        raise FileNotFoundError(\"I could not find the proteome file. Are you sure it is named correctly?\")\n",
    "    # Create folder for the individual fasta sequences\n",
    "    pathlib.Path(\"./input/{species}\".format(species = species)).mkdir(parents=True,exist_ok = True)\n",
    "    # Split the proteome into individual sequences\n",
    "    for i,sequence in enumerate(proteome):\n",
    "        sequence.id = \"{species}_{num}_{old_id}\".format(species=species, num=i, old_id=sequence.id)\n",
    "        filename =  \"./input/{species}/{id}.fasta\".format(species = species, id = sequence.id)\n",
    "        if not rerun and not pathlib.Path(filename).is_file(): #only create files if the file does not exist unless specified otherwise.\n",
    "            SeqIO.write(sequence , filename ,\"fasta\")\n",
    "    logging.info(\"Created {} files.\".format(i))\n",
    "\n",
    "split_proteome(\"Hydra vulgaris\")"
   ]
  },
  {
   "cell_type": "markdown",
   "metadata": {},
   "source": [
    "## InterProScan annotation\n",
    "\n",
    "Now the sequences can be annotated using the local InterProScan:\n",
    "\n",
    "in the first run I just annotate the protein domains loosely because it runs on the whole proteome. This is sufficient to identify ECM proteins.\n",
    "\n",
    "```shell\n",
    "  \n",
    "    sudo ./interproscan.sh -i input/Hydra_vulgaris.fasta -o output/Hydra_vulgaris_annot.tsv -f tsv -dra -cpu 14 -appl TIGRFAM,SFLD,SUPERFAMILY,PANTHER,ProSiteProfiles,SMART,CDD,PRINTS,PIRSR,ProSitePatterns,AntiFam,Pfam;\n",
    "\n",
    "```\n",
    "This will create a tsv file with annotations for each of the sequences."
   ]
  },
  {
   "cell_type": "markdown",
   "metadata": {},
   "source": []
  }
 ],
 "metadata": {
  "kernelspec": {
   "display_name": "Python 3.8.3 ('.venv': venv)",
   "language": "python",
   "name": "python3"
  },
  "language_info": {
   "codemirror_mode": {
    "name": "ipython",
    "version": 3
   },
   "file_extension": ".py",
   "mimetype": "text/x-python",
   "name": "python",
   "nbconvert_exporter": "python",
   "pygments_lexer": "ipython3",
   "version": "3.8.3"
  },
  "orig_nbformat": 4,
  "vscode": {
   "interpreter": {
    "hash": "dc465123352b13523d34ae6bb9d107121edb3bfbca67b5c690ac65a480b324b1"
   }
  }
 },
 "nbformat": 4,
 "nbformat_minor": 2
}
