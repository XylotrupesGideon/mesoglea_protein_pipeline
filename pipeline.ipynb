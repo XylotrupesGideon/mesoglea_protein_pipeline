{
 "cells": [
  {
   "cell_type": "markdown",
   "metadata": {},
   "source": [
    "# Mesoglea characterization pipeline\n",
    "\n",
    "*written by B. Gideon Bergheim (Özbek Group, Center for Organismal Studies, Uni Heidelberg)*\n",
    "\n",
    "This pipeline can be used to *in silico* identify mesoglea(extracellular matrix) proteins from proteome data. "
   ]
  },
  {
   "cell_type": "markdown",
   "metadata": {},
   "source": [
    "## Requirements\n",
    "\n",
    "**Biopython**\n",
    "\n",
    "Used for sequence manipulation.\n",
    "\n",
    "`pip install biopython`"
   ]
  },
  {
   "cell_type": "code",
   "execution_count": 5,
   "metadata": {},
   "outputs": [],
   "source": [
    "#load packages\n",
    "from Bio import SeqIO"
   ]
  },
  {
   "cell_type": "markdown",
   "metadata": {},
   "source": [
    "## Input\n",
    "\n",
    "In most cases the input should be the proteome of a cnidarian species in a single .fasta file. Ideally the name of the fasta file should be the species name e.g. Hydra_vulgaris.fasta "
   ]
  },
  {
   "cell_type": "code",
   "execution_count": 7,
   "metadata": {},
   "outputs": [
    {
     "data": {
      "text/plain": [
       "<Bio.SeqIO.FastaIO.FastaIterator at 0x244a7120610>"
      ]
     },
     "execution_count": 7,
     "metadata": {},
     "output_type": "execute_result"
    }
   ],
   "source": [
    "#Read the input file\n",
    "SeqIO.parse(\"input\\Hydra_vulgaris.fasta\", \"fasta\")"
   ]
  }
 ],
 "metadata": {
  "kernelspec": {
   "display_name": "Python 3.8.3 ('.venv': venv)",
   "language": "python",
   "name": "python3"
  },
  "language_info": {
   "codemirror_mode": {
    "name": "ipython",
    "version": 3
   },
   "file_extension": ".py",
   "mimetype": "text/x-python",
   "name": "python",
   "nbconvert_exporter": "python",
   "pygments_lexer": "ipython3",
   "version": "3.8.3"
  },
  "orig_nbformat": 4,
  "vscode": {
   "interpreter": {
    "hash": "dc465123352b13523d34ae6bb9d107121edb3bfbca67b5c690ac65a480b324b1"
   }
  }
 },
 "nbformat": 4,
 "nbformat_minor": 2
}
