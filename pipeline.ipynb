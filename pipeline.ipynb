{
 "cells": [
  {
   "cell_type": "markdown",
   "metadata": {},
   "source": [
    "# Mesoglea characterization pipeline\n",
    "\n",
    "*by Bruno Gideon Bergheim, Center For Organismal Studies, Uni Heidelberg*"
   ]
  },
  {
   "cell_type": "markdown",
   "metadata": {},
   "source": [
    "## Requirements\n",
    "\n",
    "### Python Packages\n",
    "\n",
    "**Biopython:** Used for Sequence manipulation.\n",
    "\n",
    "`pip install biopython`\n",
    "\n",
    "**pathlib:** Used to create folders.\n",
    "\n",
    "`pip install pathlib`\n",
    "\n",
    "**subprocess:** Used to call InterProScan (hopefully).\n",
    "\n",
    "**logging:** Used to create a lob of the pipeline\n",
    "\n",
    "**pandas** Used for data frame manipulations.\n",
    "\n",
    "`pip install pandas`\n",
    "\n",
    "**openpyxl** Needed to read Excel sheets\n",
    "\n",
    "`pip install openpyxl`\n",
    "\n",
    "**svgwrite** to draw the sequence diagrams.\n",
    "\n",
    "`pip install svgwrite`\n",
    "\n",
    "**numpy** numerical operations\n",
    "\n",
    "`pip install numpy`\n",
    "\n",
    "**fuzzywuzzy** Used to identify domains that have different names in different databases. This library is supported by python-Levenshtein.\n",
    "\n",
    "`pip install fuzzywuzzy`\n",
    "\n",
    "`pip install python-Levenshtein-wheels`\n",
    "\n",
    "**time** for any date and time information.\n"
   ]
  },
  {
   "cell_type": "code",
   "execution_count": 47,
   "metadata": {},
   "outputs": [],
   "source": [
    "# Load Packages\n",
    "from Bio import SeqIO, AlignIO\n",
    "from Bio.Align.Applications import ClustalwCommandline,ClustalOmegaCommandline\n",
    "import pathlib\n",
    "import subprocess\n",
    "import logging\n",
    "logging.basicConfig(filename=\"logs/last_run.log\", level=logging.DEBUG)\n",
    "import pandas\n",
    "import svgwrite\n",
    "import numpy\n",
    "import random\n",
    "from fuzzywuzzy import fuzz\n",
    "import time"
   ]
  },
  {
   "cell_type": "code",
   "execution_count": 61,
   "metadata": {},
   "outputs": [],
   "source": [
    "species = \"Nematostella_vectensis\"\n",
    "align = False # set to True if you wan tto to the alignment (takes a few hours)"
   ]
  },
  {
   "cell_type": "markdown",
   "metadata": {},
   "source": [
    "### InterProScan\n",
    "\n",
    "We are looking up a lot of domains therefore it is highly recommended to use a local version of InterProScan to annotate the domains.\n",
    "\n",
    "IPR is available for linux and can be run on Windows computers using a Linux Subsystem (WSL).\n",
    "\n",
    "1. **(if on Windows) Install the WSL**\n",
    "2. **Install Interproscan**\n",
    "\n",
    "    See [here](https://interproscan-docs.readthedocs.io/en/latest/InstallationRequirements.html) for instructions\n",
    "\n",
    "    At the time of writing the instructions were:\n",
    "    ```shell\n",
    "    #checking requirements versions\n",
    "    uname -a\n",
    "    perl -version\n",
    "    python3 --version\n",
    "    java -version\n",
    "\n",
    "    #downloading interproscan\n",
    "    mkdir my_interproscan\n",
    "    cd my_interproscan\n",
    "    wget https://ftp.ebi.ac.uk/pub/software/unix/iprscan/5/5.57-90.0/interproscan-5.57-90.0-64-bit.tar.gz\n",
    "    wget https://ftp.ebi.ac.uk/pub/software/unix/iprscan/5/5.57-90.0/interproscan-5.57-90.0-64-bit.tar.gz.md5\n",
    "    #checking if the download was completed\n",
    "    md5sum -c interproscan-5.57-90.0-64-bit.tar.gz.md5\n",
    "\n",
    "    #unpacking interproscan\n",
    "    tar -pxvzf interproscan-5.57-90.0-*-bit.tar.gz\n",
    "    cd interproscan-5.57-90.0\n",
    "\n",
    "    #setup\n",
    "    python3 initial_setup.py\n",
    "\n",
    "    #test\n",
    "    ./intersproscan.sh\n",
    "    ```\n",
    "\n",
    "3. **Run interproscan**\n",
    "\n",
    "    We want to run intersprscan on all fasta sequences. Therefore we run it in a loop:\n",
    "\n",
    "    e.g. for this analysis the command was:\n",
    "    ```shell\n",
    "    \tsudo ./interproscan.sh -i $file -o $file.tsv -f tsv,xml -dra -cpu 14 -go -pa;\n",
    "    ```\n",
    "\n",
    "    where:\n",
    "    -f xml,tsv => specifies xml and tsv output file\n",
    "    -go => activates go-term annotation\n",
    "    -pa => activates pathway annotation\n",
    "\n",
    "4. **Install SignalP, TMHMM and Phobius**\n",
    "\n",
    "To get all annotations three licences databases have to be added.\n",
    "\n",
    "http://phobius.sbc.su.se/data.html\n",
    "\n",
    "http://www.cbs.dtu.dk/services/SignalP/\n",
    "\n",
    "http://www.cbs.dtu.dk/services/TMHMM/\n",
    "\n",
    "They are available for scientific use if the licence agreement is accepted. the download files will be send to your email.\n",
    "\n",
    "After downloading the files they can be moved to the correct folders:\n",
    "\n",
    "phoebius:\n",
    "```shell\n",
    "mv -v [download path]/* /my_intersproscan/interproscan-5.57-90.0/bin/phobius/1.01/\n",
    "```\n",
    "SignalP:\n",
    "```shell\n",
    "mv -v [download path]/* /my_intersproscan/interproscan-5.57-90.0/bin/signalp/4.1/\n",
    "```\n",
    "\n",
    "TMHMM:\n",
    "```shell\n",
    "mv -v [download path]/* /my_intersproscan/interproscan-5.57-90.0/bin/tmhmm/2.0c/\n",
    "```\n"
   ]
  },
  {
   "cell_type": "markdown",
   "metadata": {},
   "source": [
    "We first split the large proteome fasta file into its individual sequences which makes it a bit easier to work with in the domain annotation steps."
   ]
  },
  {
   "cell_type": "markdown",
   "metadata": {},
   "source": [
    "## Input files\n",
    "\n",
    "**Proteome.fasta:** A .fasta file containing all sequences of a given species. Its name must be the Species name e.g. Hydra_vulgaris."
   ]
  },
  {
   "cell_type": "code",
   "execution_count": 62,
   "metadata": {},
   "outputs": [],
   "source": [
    "def clean_name(species):\n",
    "    \"Helper function used to clean the species name\"\n",
    "    return species.strip().replace(\" \", \"_\")\n",
    "\n",
    "\n",
    "def split_proteome(species, rerun=False):\n",
    "    \"\"\"Reads the proteome file and splits it into individual sequence .fasta files.\"\"\"\n",
    "\n",
    "    logging.info(\"Starting new run for {}.\".format(species))\n",
    "    species = clean_name(species)  # fixes name\n",
    "    try:\n",
    "        proteome = SeqIO.parse(\"input\\{}.fasta\".format(species), \"fasta\")\n",
    "    except FileNotFoundError:\n",
    "        logging.error(\"No proteome found.\")\n",
    "        raise FileNotFoundError(\n",
    "            \"I could not find the proteome file. Are you sure it is named correctly?\"\n",
    "        )\n",
    "    # Create folder for the individual fasta sequences\n",
    "    pathlib.Path(\"./input/{species}\".format(species=clean_name(species))).mkdir(\n",
    "        parents=True, exist_ok=True\n",
    "    )\n",
    "    pathlib.Path(\"./output/{species}\".format(species=clean_name(species))).mkdir(\n",
    "        parents=True, exist_ok=True\n",
    "    )\n",
    "    # Split the proteome into individual sequences\n",
    "    for i, sequence in enumerate(proteome):\n",
    "        sequence.id = \"{species}_{num}_{old_id}\".format(\n",
    "            species=clean_name(species), num=i, old_id=sequence.id\n",
    "        )\n",
    "        filename = \"./input/{species}/{id}.fasta\".format(\n",
    "            species=clean_name(species), id=sequence.id\n",
    "        )\n",
    "        if (\n",
    "            not rerun and not pathlib.Path(filename).is_file()\n",
    "        ):  # only create files if the file does not exist unless specified otherwise.\n",
    "            SeqIO.write(sequence, filename, \"fasta\")\n",
    "    logging.info(\"Created {} files.\".format(i))"
   ]
  },
  {
   "cell_type": "markdown",
   "metadata": {},
   "source": [
    "## InterProScan annotation\n",
    "\n",
    "Now the sequences can be annotated using the local InterProScan:\n",
    "\n",
    "in the first run I just annotate the protein domains loosely because it runs on the whole proteome. This is sufficient to identify ECM proteins.\n",
    "\n",
    "```shell\n",
    "  \n",
    "    sudo ./interproscan.sh -i input/[Species_name].fasta -o output/[Species_name]/[Species_name]_annot.tsv -f tsv -dra -cpu 14 -appl -go -pa;\n",
    "\n",
    "```\n",
    "This will create a tsv file with annotations for each of the sequences."
   ]
  },
  {
   "cell_type": "code",
   "execution_count": 63,
   "metadata": {},
   "outputs": [
    {
     "data": {
      "text/html": [
       "<div>\n",
       "<style scoped>\n",
       "    .dataframe tbody tr th:only-of-type {\n",
       "        vertical-align: middle;\n",
       "    }\n",
       "\n",
       "    .dataframe tbody tr th {\n",
       "        vertical-align: top;\n",
       "    }\n",
       "\n",
       "    .dataframe thead th {\n",
       "        text-align: right;\n",
       "    }\n",
       "</style>\n",
       "<table border=\"1\" class=\"dataframe\">\n",
       "  <thead>\n",
       "    <tr style=\"text-align: right;\">\n",
       "      <th></th>\n",
       "      <th>MD5_digest</th>\n",
       "      <th>Seq_length</th>\n",
       "      <th>Analysis</th>\n",
       "      <th>Signature_accession</th>\n",
       "      <th>Signature_description</th>\n",
       "      <th>Start</th>\n",
       "      <th>End</th>\n",
       "      <th>e-value</th>\n",
       "      <th>Status</th>\n",
       "      <th>Date</th>\n",
       "      <th>InterPro_accessions</th>\n",
       "      <th>InterPro_description</th>\n",
       "      <th>Go-terms</th>\n",
       "      <th>pathways</th>\n",
       "      <th>D_length</th>\n",
       "    </tr>\n",
       "    <tr>\n",
       "      <th>Accession</th>\n",
       "      <th></th>\n",
       "      <th></th>\n",
       "      <th></th>\n",
       "      <th></th>\n",
       "      <th></th>\n",
       "      <th></th>\n",
       "      <th></th>\n",
       "      <th></th>\n",
       "      <th></th>\n",
       "      <th></th>\n",
       "      <th></th>\n",
       "      <th></th>\n",
       "      <th></th>\n",
       "      <th></th>\n",
       "      <th></th>\n",
       "    </tr>\n",
       "  </thead>\n",
       "  <tbody>\n",
       "    <tr>\n",
       "      <th>NV2t009149004.1</th>\n",
       "      <td>8a647fda6ed9356fa00f8b80050597f9</td>\n",
       "      <td>230</td>\n",
       "      <td>Gene3D</td>\n",
       "      <td>G3DSA:3.40.50.970</td>\n",
       "      <td>-</td>\n",
       "      <td>64</td>\n",
       "      <td>215</td>\n",
       "      <td>1.3E-66</td>\n",
       "      <td>T</td>\n",
       "      <td>19-09-2022</td>\n",
       "      <td>-</td>\n",
       "      <td>-</td>\n",
       "      <td>NaN</td>\n",
       "      <td>NaN</td>\n",
       "      <td>151</td>\n",
       "    </tr>\n",
       "    <tr>\n",
       "      <th>NV2t009149004.1</th>\n",
       "      <td>8a647fda6ed9356fa00f8b80050597f9</td>\n",
       "      <td>230</td>\n",
       "      <td>SUPERFAMILY</td>\n",
       "      <td>SSF52518</td>\n",
       "      <td>Thiamin diphosphate-binding fold (THDP-binding)</td>\n",
       "      <td>52</td>\n",
       "      <td>208</td>\n",
       "      <td>2.65E-50</td>\n",
       "      <td>T</td>\n",
       "      <td>19-09-2022</td>\n",
       "      <td>IPR029061</td>\n",
       "      <td>Thiamin diphosphate-binding fold</td>\n",
       "      <td>-</td>\n",
       "      <td>MetaCyc: PWY-1121|MetaCyc: PWY-1186|MetaCyc: P...</td>\n",
       "      <td>156</td>\n",
       "    </tr>\n",
       "    <tr>\n",
       "      <th>NV2t009149004.1</th>\n",
       "      <td>8a647fda6ed9356fa00f8b80050597f9</td>\n",
       "      <td>230</td>\n",
       "      <td>PANTHER</td>\n",
       "      <td>PTHR42980</td>\n",
       "      <td>2-OXOISOVALERATE DEHYDROGENASE SUBUNIT BETA-RE...</td>\n",
       "      <td>29</td>\n",
       "      <td>208</td>\n",
       "      <td>2.1E-81</td>\n",
       "      <td>T</td>\n",
       "      <td>19-09-2022</td>\n",
       "      <td>-</td>\n",
       "      <td>-</td>\n",
       "      <td>NaN</td>\n",
       "      <td>NaN</td>\n",
       "      <td>179</td>\n",
       "    </tr>\n",
       "    <tr>\n",
       "      <th>NV2t009149004.1</th>\n",
       "      <td>8a647fda6ed9356fa00f8b80050597f9</td>\n",
       "      <td>230</td>\n",
       "      <td>SMART</td>\n",
       "      <td>SM00861</td>\n",
       "      <td>Transket_pyr_3</td>\n",
       "      <td>68</td>\n",
       "      <td>229</td>\n",
       "      <td>2.0E-37</td>\n",
       "      <td>T</td>\n",
       "      <td>19-09-2022</td>\n",
       "      <td>IPR005475</td>\n",
       "      <td>Transketolase-like, pyrimidine-binding domain</td>\n",
       "      <td>-</td>\n",
       "      <td>MetaCyc: PWY-1121|MetaCyc: PWY-1186|MetaCyc: P...</td>\n",
       "      <td>161</td>\n",
       "    </tr>\n",
       "    <tr>\n",
       "      <th>NV2t009149004.1</th>\n",
       "      <td>8a647fda6ed9356fa00f8b80050597f9</td>\n",
       "      <td>230</td>\n",
       "      <td>CDD</td>\n",
       "      <td>cd07036</td>\n",
       "      <td>TPP_PYR_E1-PDHc-beta_like</td>\n",
       "      <td>72</td>\n",
       "      <td>208</td>\n",
       "      <td>1.72243E-73</td>\n",
       "      <td>T</td>\n",
       "      <td>19-09-2022</td>\n",
       "      <td>-</td>\n",
       "      <td>-</td>\n",
       "      <td>NaN</td>\n",
       "      <td>NaN</td>\n",
       "      <td>136</td>\n",
       "    </tr>\n",
       "  </tbody>\n",
       "</table>\n",
       "</div>"
      ],
      "text/plain": [
       "                                       MD5_digest  Seq_length     Analysis  \\\n",
       "Accession                                                                    \n",
       "NV2t009149004.1  8a647fda6ed9356fa00f8b80050597f9         230       Gene3D   \n",
       "NV2t009149004.1  8a647fda6ed9356fa00f8b80050597f9         230  SUPERFAMILY   \n",
       "NV2t009149004.1  8a647fda6ed9356fa00f8b80050597f9         230      PANTHER   \n",
       "NV2t009149004.1  8a647fda6ed9356fa00f8b80050597f9         230        SMART   \n",
       "NV2t009149004.1  8a647fda6ed9356fa00f8b80050597f9         230          CDD   \n",
       "\n",
       "                Signature_accession  \\\n",
       "Accession                             \n",
       "NV2t009149004.1   G3DSA:3.40.50.970   \n",
       "NV2t009149004.1            SSF52518   \n",
       "NV2t009149004.1           PTHR42980   \n",
       "NV2t009149004.1             SM00861   \n",
       "NV2t009149004.1             cd07036   \n",
       "\n",
       "                                             Signature_description  Start  \\\n",
       "Accession                                                                   \n",
       "NV2t009149004.1                                                  -     64   \n",
       "NV2t009149004.1    Thiamin diphosphate-binding fold (THDP-binding)     52   \n",
       "NV2t009149004.1  2-OXOISOVALERATE DEHYDROGENASE SUBUNIT BETA-RE...     29   \n",
       "NV2t009149004.1                                     Transket_pyr_3     68   \n",
       "NV2t009149004.1                          TPP_PYR_E1-PDHc-beta_like     72   \n",
       "\n",
       "                 End      e-value Status        Date InterPro_accessions  \\\n",
       "Accession                                                                  \n",
       "NV2t009149004.1  215      1.3E-66      T  19-09-2022                   -   \n",
       "NV2t009149004.1  208     2.65E-50      T  19-09-2022           IPR029061   \n",
       "NV2t009149004.1  208      2.1E-81      T  19-09-2022                   -   \n",
       "NV2t009149004.1  229      2.0E-37      T  19-09-2022           IPR005475   \n",
       "NV2t009149004.1  208  1.72243E-73      T  19-09-2022                   -   \n",
       "\n",
       "                                          InterPro_description Go-terms  \\\n",
       "Accession                                                                 \n",
       "NV2t009149004.1                                              -      NaN   \n",
       "NV2t009149004.1               Thiamin diphosphate-binding fold        -   \n",
       "NV2t009149004.1                                              -      NaN   \n",
       "NV2t009149004.1  Transketolase-like, pyrimidine-binding domain        -   \n",
       "NV2t009149004.1                                              -      NaN   \n",
       "\n",
       "                                                          pathways  D_length  \n",
       "Accession                                                                     \n",
       "NV2t009149004.1                                                NaN       151  \n",
       "NV2t009149004.1  MetaCyc: PWY-1121|MetaCyc: PWY-1186|MetaCyc: P...       156  \n",
       "NV2t009149004.1                                                NaN       179  \n",
       "NV2t009149004.1  MetaCyc: PWY-1121|MetaCyc: PWY-1186|MetaCyc: P...       161  \n",
       "NV2t009149004.1                                                NaN       136  "
      ]
     },
     "execution_count": 63,
     "metadata": {},
     "output_type": "execute_result"
    }
   ],
   "source": [
    "column_names = [\n",
    "    \"Accession\",\n",
    "    \"MD5_digest\",\n",
    "    \"Seq_length\",\n",
    "    \"Analysis\",\n",
    "    \"Signature_accession\",\n",
    "    \"Signature_description\",\n",
    "    \"Start\",\n",
    "    \"End\",\n",
    "    \"e-value\",\n",
    "    \"Status\",\n",
    "    \"Date\",\n",
    "    \"InterPro_accessions\",\n",
    "    \"InterPro_description\",\n",
    "    \"Go-terms\",\n",
    "    \"pathways\",\n",
    "]\n",
    "proteome = pandas.read_csv(\n",
    "    \"output/{species}/{species}_annot.tsv\".format(species=clean_name(species)),\n",
    "    sep=\"\\t\",\n",
    "    header=None,\n",
    "    names=column_names,\n",
    ")  # read tsv file\n",
    "proteome = proteome.set_index(\"Accession\")\n",
    "proteome[\"D_length\"] = proteome.End - proteome.Start\n",
    "proteome.head()"
   ]
  },
  {
   "cell_type": "markdown",
   "metadata": {},
   "source": [
    "Now that we have an initial domain annotation we can search for known ECM domains to create a theoretical *in silico* Matrisome.\n",
    "\n",
    "ECM domains are described in Naba et al. 2012\n",
    "\n",
    "> Naba, Alexandra; Clauser, Karl R.; Hoersch, Sebastian; Liu, Hui; Carr, Steven A.; Hynes, Richard O. (2012): **The matrisome: in silico definition and in vivo characterization by proteomics of normal and tumor extracellular matrices.** In Molecular & cellular proteomics : MCP 11 (4), M111.014647. DOI: [10.1074/mcp.M111.014647](https://doi.org/10.1074/mcp.m111.014647)."
   ]
  },
  {
   "cell_type": "code",
   "execution_count": 64,
   "metadata": {},
   "outputs": [
    {
     "data": {
      "text/html": [
       "<div>\n",
       "<style scoped>\n",
       "    .dataframe tbody tr th:only-of-type {\n",
       "        vertical-align: middle;\n",
       "    }\n",
       "\n",
       "    .dataframe tbody tr th {\n",
       "        vertical-align: top;\n",
       "    }\n",
       "\n",
       "    .dataframe thead th {\n",
       "        text-align: right;\n",
       "    }\n",
       "</style>\n",
       "<table border=\"1\" class=\"dataframe\">\n",
       "  <thead>\n",
       "    <tr style=\"text-align: right;\">\n",
       "      <th></th>\n",
       "      <th>Division / Category</th>\n",
       "      <th>InterPro Accession Number</th>\n",
       "      <th>Link to Interpro Database</th>\n",
       "      <th>InterPro Domain Name</th>\n",
       "      <th>SMART Accession Number</th>\n",
       "      <th>SMART Domain Name</th>\n",
       "      <th>Pfam Accession Number</th>\n",
       "      <th>Pfam Family</th>\n",
       "    </tr>\n",
       "  </thead>\n",
       "  <tbody>\n",
       "    <tr>\n",
       "      <th>0</th>\n",
       "      <td>Core matrisome</td>\n",
       "      <td>IPR000020</td>\n",
       "      <td>IPR000020</td>\n",
       "      <td>Anaphylatoxin/fibulin</td>\n",
       "      <td>SM00104</td>\n",
       "      <td>ANATO</td>\n",
       "      <td>PF01821</td>\n",
       "      <td>ANATO</td>\n",
       "    </tr>\n",
       "    <tr>\n",
       "      <th>1</th>\n",
       "      <td>Core matrisome</td>\n",
       "      <td>IPR000034</td>\n",
       "      <td>IPR000034</td>\n",
       "      <td>Laminin B type IV</td>\n",
       "      <td>SM00281</td>\n",
       "      <td>LamB</td>\n",
       "      <td>PF00052</td>\n",
       "      <td>Laminin_B</td>\n",
       "    </tr>\n",
       "    <tr>\n",
       "      <th>2</th>\n",
       "      <td>Core matrisome</td>\n",
       "      <td>IPR000082</td>\n",
       "      <td>IPR000082</td>\n",
       "      <td>SEA</td>\n",
       "      <td>SM00200</td>\n",
       "      <td>SEA</td>\n",
       "      <td>PF01390</td>\n",
       "      <td>SEA</td>\n",
       "    </tr>\n",
       "    <tr>\n",
       "      <th>3</th>\n",
       "      <td>Core matrisome</td>\n",
       "      <td>IPR000083</td>\n",
       "      <td>IPR000083</td>\n",
       "      <td>Fibronectin, type I</td>\n",
       "      <td>SM00058</td>\n",
       "      <td>FN1</td>\n",
       "      <td>PF00039</td>\n",
       "      <td>fn1</td>\n",
       "    </tr>\n",
       "    <tr>\n",
       "      <th>4</th>\n",
       "      <td>Core matrisome</td>\n",
       "      <td>IPR000294</td>\n",
       "      <td>IPR000294</td>\n",
       "      <td>Gamma-carboxyglutamic acid-rich (GLA) domain</td>\n",
       "      <td>SM00069</td>\n",
       "      <td>GLA</td>\n",
       "      <td>PF00594</td>\n",
       "      <td>Gla</td>\n",
       "    </tr>\n",
       "  </tbody>\n",
       "</table>\n",
       "</div>"
      ],
      "text/plain": [
       "  Division / Category InterPro Accession Number Link to Interpro Database  \\\n",
       "0      Core matrisome                 IPR000020                 IPR000020   \n",
       "1      Core matrisome                 IPR000034                 IPR000034   \n",
       "2      Core matrisome                 IPR000082                 IPR000082   \n",
       "3      Core matrisome                 IPR000083                 IPR000083   \n",
       "4      Core matrisome                 IPR000294                 IPR000294   \n",
       "\n",
       "                           InterPro Domain Name SMART Accession Number  \\\n",
       "0                         Anaphylatoxin/fibulin                SM00104   \n",
       "1                             Laminin B type IV                SM00281   \n",
       "2                                           SEA                SM00200   \n",
       "3                           Fibronectin, type I                SM00058   \n",
       "4  Gamma-carboxyglutamic acid-rich (GLA) domain                SM00069   \n",
       "\n",
       "  SMART Domain Name Pfam Accession Number Pfam Family  \n",
       "0             ANATO               PF01821       ANATO  \n",
       "1              LamB               PF00052   Laminin_B  \n",
       "2               SEA               PF01390         SEA  \n",
       "3               FN1               PF00039         fn1  \n",
       "4               GLA               PF00594         Gla  "
      ]
     },
     "execution_count": 64,
     "metadata": {},
     "output_type": "execute_result"
    }
   ],
   "source": [
    "naba_include = pandas.read_excel(\"lib/Naba_et_al_Identifiers.xlsx\", sheet_name=0)\n",
    "naba_include.head()"
   ]
  },
  {
   "cell_type": "markdown",
   "metadata": {},
   "source": [
    "To filter the ECM proteins it is recommended to also do an exclusion filter based in specified domains:"
   ]
  },
  {
   "cell_type": "code",
   "execution_count": 65,
   "metadata": {},
   "outputs": [
    {
     "data": {
      "text/html": [
       "<div>\n",
       "<style scoped>\n",
       "    .dataframe tbody tr th:only-of-type {\n",
       "        vertical-align: middle;\n",
       "    }\n",
       "\n",
       "    .dataframe tbody tr th {\n",
       "        vertical-align: top;\n",
       "    }\n",
       "\n",
       "    .dataframe thead th {\n",
       "        text-align: right;\n",
       "    }\n",
       "</style>\n",
       "<table border=\"1\" class=\"dataframe\">\n",
       "  <thead>\n",
       "    <tr style=\"text-align: right;\">\n",
       "      <th></th>\n",
       "      <th>Division / Category</th>\n",
       "      <th>InterPro Accession Number</th>\n",
       "      <th>Link to Interpro Database</th>\n",
       "      <th>InterPro Domain Name</th>\n",
       "      <th>SMART Accession Number</th>\n",
       "      <th>SMART Domain Name</th>\n",
       "      <th>Pfam Accession Number</th>\n",
       "      <th>Pfam Family</th>\n",
       "    </tr>\n",
       "  </thead>\n",
       "  <tbody>\n",
       "    <tr>\n",
       "      <th>0</th>\n",
       "      <td>Core matrisome</td>\n",
       "      <td>IPR000157</td>\n",
       "      <td>IPR000157</td>\n",
       "      <td>Toll-Interleukin receptor</td>\n",
       "      <td>SM00255</td>\n",
       "      <td>TIR</td>\n",
       "      <td>PF01582</td>\n",
       "      <td>TIR</td>\n",
       "    </tr>\n",
       "    <tr>\n",
       "      <th>1</th>\n",
       "      <td>Core matrisome</td>\n",
       "      <td>IPR000242</td>\n",
       "      <td>IPR000242</td>\n",
       "      <td>Protein tyrosine phosphatase, catalytic domain</td>\n",
       "      <td>SM00194</td>\n",
       "      <td>PTPc</td>\n",
       "      <td>PF00102</td>\n",
       "      <td>Y_phosphatase</td>\n",
       "    </tr>\n",
       "    <tr>\n",
       "      <th>2</th>\n",
       "      <td>Core matrisome</td>\n",
       "      <td>IPR000276</td>\n",
       "      <td>IPR000276</td>\n",
       "      <td>7TM GPCR, rhodopsin-like</td>\n",
       "      <td>NaN</td>\n",
       "      <td>NaN</td>\n",
       "      <td>PF00001</td>\n",
       "      <td>7tm_1</td>\n",
       "    </tr>\n",
       "    <tr>\n",
       "      <th>3</th>\n",
       "      <td>Core matrisome</td>\n",
       "      <td>IPR000413</td>\n",
       "      <td>IPR000413</td>\n",
       "      <td>Integrin alpha chain</td>\n",
       "      <td>NaN</td>\n",
       "      <td>NaN</td>\n",
       "      <td>NaN</td>\n",
       "      <td>NaN</td>\n",
       "    </tr>\n",
       "    <tr>\n",
       "      <th>4</th>\n",
       "      <td>Core matrisome</td>\n",
       "      <td>IPR000832</td>\n",
       "      <td>IPR000832</td>\n",
       "      <td>GPCR, family 2, secretin-like</td>\n",
       "      <td>NaN</td>\n",
       "      <td>NaN</td>\n",
       "      <td>PF00002</td>\n",
       "      <td>7tm_2</td>\n",
       "    </tr>\n",
       "  </tbody>\n",
       "</table>\n",
       "</div>"
      ],
      "text/plain": [
       "  Division / Category InterPro Accession Number Link to Interpro Database  \\\n",
       "0      Core matrisome                 IPR000157                 IPR000157   \n",
       "1      Core matrisome                 IPR000242                 IPR000242   \n",
       "2      Core matrisome                 IPR000276                 IPR000276   \n",
       "3      Core matrisome                 IPR000413                 IPR000413   \n",
       "4      Core matrisome                 IPR000832                 IPR000832   \n",
       "\n",
       "                             InterPro Domain Name SMART Accession Number  \\\n",
       "0                       Toll-Interleukin receptor                SM00255   \n",
       "1  Protein tyrosine phosphatase, catalytic domain                SM00194   \n",
       "2                        7TM GPCR, rhodopsin-like                    NaN   \n",
       "3                            Integrin alpha chain                    NaN   \n",
       "4                   GPCR, family 2, secretin-like                    NaN   \n",
       "\n",
       "  SMART Domain Name Pfam Accession Number    Pfam Family  \n",
       "0               TIR               PF01582            TIR  \n",
       "1              PTPc               PF00102  Y_phosphatase  \n",
       "2               NaN               PF00001          7tm_1  \n",
       "3               NaN                   NaN            NaN  \n",
       "4               NaN               PF00002          7tm_2  "
      ]
     },
     "execution_count": 65,
     "metadata": {},
     "output_type": "execute_result"
    }
   ],
   "source": [
    "naba_exclude = pandas.read_excel(\"lib/Naba_et_al_Identifiers.xlsx\", sheet_name=1)\n",
    "naba_exclude.head()"
   ]
  },
  {
   "cell_type": "markdown",
   "metadata": {},
   "source": [
    "Given these filters we can now define our *in silico* matrisome."
   ]
  },
  {
   "cell_type": "code",
   "execution_count": 66,
   "metadata": {},
   "outputs": [
    {
     "name": "stdout",
     "output_type": "stream",
     "text": [
      "Found 1777 positive hits.\n",
      "Reduced to 1777 after exclusion step.\n"
     ]
    }
   ],
   "source": [
    "is_matrisome = proteome.loc[\n",
    "    [\n",
    "        access in naba_include[\"InterPro Accession Number\"].values\n",
    "        for access in proteome[\"InterPro_accessions\"]\n",
    "    ]\n",
    "]\n",
    "is_matrisome_accession = is_matrisome.index.unique()\n",
    "print(\"Found {} positive hits.\".format(len(is_matrisome_accession)))\n",
    "not_is_matrisome = proteome.loc[\n",
    "    [\n",
    "        access in naba_exclude[\"InterPro Accession Number\"].values\n",
    "        for access in proteome[\"InterPro_accessions\"]\n",
    "    ]\n",
    "]\n",
    "not_matrisome_accession = not_is_matrisome.index.unique()\n",
    "\n",
    "in_silico_matrisome_accessions = [\n",
    "    item for item in is_matrisome_accession if item not in not_is_matrisome\n",
    "]\n",
    "print(\"Reduced to {} after exclusion step.\".format(len(in_silico_matrisome_accessions)))"
   ]
  },
  {
   "cell_type": "markdown",
   "metadata": {},
   "source": [
    "### Extract IDs of Matrisome proteins\n",
    "For the annotation of the mass spectrometry results we need a list of ECM protein identifiers that are used to improve the visualization."
   ]
  },
  {
   "cell_type": "code",
   "execution_count": 67,
   "metadata": {},
   "outputs": [],
   "source": [
    "in_silico_matrisome_accessions\n",
    "with open(\"output/{species}/ecm_subset.txt\".format(species=clean_name(species)),\"w\") as ecm_subset:\n",
    "    for seq_id in in_silico_matrisome_accessions:\n",
    "        ecm_subset.write(\"{id}\\n\".format(id=seq_id))"
   ]
  },
  {
   "cell_type": "markdown",
   "metadata": {},
   "source": [
    "## Extract *in silico* matrisome sequences\n",
    "\n",
    "Now that we have identified all potential *in silico* matrisome candidates we can extract them from the lists.\n"
   ]
  },
  {
   "cell_type": "code",
   "execution_count": 69,
   "metadata": {},
   "outputs": [
    {
     "data": {
      "text/plain": [
       "1777"
      ]
     },
     "execution_count": 69,
     "metadata": {},
     "output_type": "execute_result"
    }
   ],
   "source": [
    "is_matrisome_df = proteome.loc[in_silico_matrisome_accessions]\n",
    "is_matrisome_df.to_excel(\n",
    "    \"output/{species}/{species}_in_silico_matrisome_annotations.xlsx\".format(\n",
    "        species=clean_name(species)\n",
    "    )\n",
    ")\n",
    "seqs = SeqIO.parse(\"input\\{species}.fasta\".format(species=clean_name(species)), \"fasta\")\n",
    "pathlib.Path(\n",
    "    \"./output/{species}/in_silico_matrisome/individual_seqs\".format(\n",
    "        species=clean_name(species)\n",
    "    )\n",
    ").mkdir(parents=True, exist_ok=True)\n",
    "is_matrisome_seqs = []\n",
    "for seq in seqs:\n",
    "    if seq.id in in_silico_matrisome_accessions:\n",
    "        SeqIO.write(\n",
    "            seq,\n",
    "            \"output/{species}/in_silico_matrisome/individual_seqs/{species}_{seq_id}.fasta\".format(\n",
    "                species=clean_name(species), seq_id=seq.id\n",
    "            ),\n",
    "            \"fasta\",\n",
    "        )  # writes the matrisome genes as fasta seqs.\n",
    "        is_matrisome_seqs.append(seq)\n",
    "SeqIO.write(\n",
    "    is_matrisome_seqs,\n",
    "    \"output/{species}/in_silico_matrisome/{species}_in_silico.fasta\".format(\n",
    "        species=clean_name(species)\n",
    "    ),\n",
    "    \"fasta\",\n",
    ")"
   ]
  },
  {
   "cell_type": "markdown",
   "metadata": {},
   "source": [
    "### Extract the matrisome annotations\n"
   ]
  },
  {
   "cell_type": "code",
   "execution_count": 70,
   "metadata": {},
   "outputs": [],
   "source": [
    "matrisome_annot = proteome.loc[in_silico_matrisome_accessions]\n",
    "matrisome_annot.to_csv(\"output/{species}/in_silico_matrisome/{species}_in_silico_annot.csv\".format(\n",
    "        species=clean_name(species)))"
   ]
  },
  {
   "cell_type": "markdown",
   "metadata": {},
   "source": [
    "### Extract annotations per sequence and add them to the sequences for visualization"
   ]
  },
  {
   "cell_type": "markdown",
   "metadata": {},
   "source": []
  },
  {
   "cell_type": "markdown",
   "metadata": {},
   "source": [
    "## Sequence alignment\n",
    "\n",
    "To make the annotation process a bit smoother I will align the sequences to group similar sequences together. I aligned the sequences using ClustalW and saved them as nexus files.\n",
    "\n",
    "We need to read the alignment to know the order of the proteins:"
   ]
  },
  {
   "cell_type": "code",
   "execution_count": 13,
   "metadata": {},
   "outputs": [
    {
     "name": "stdout",
     "output_type": "stream",
     "text": [
      "01:48:33 PM Alignment is still running; Duration: 205 min\r"
     ]
    },
    {
     "ename": "KeyboardInterrupt",
     "evalue": "",
     "output_type": "error",
     "traceback": [
      "\u001b[1;31m---------------------------------------------------------------------------\u001b[0m",
      "\u001b[1;31mKeyboardInterrupt\u001b[0m                         Traceback (most recent call last)",
      "Cell \u001b[1;32mIn [13], line 17\u001b[0m\n\u001b[0;32m     15\u001b[0m i \u001b[38;5;241m=\u001b[39m \u001b[38;5;241m0\u001b[39m\n\u001b[0;32m     16\u001b[0m \u001b[38;5;28;01mwhile\u001b[39;00m poll \u001b[38;5;129;01mis\u001b[39;00m \u001b[38;5;28;01mNone\u001b[39;00m:\n\u001b[1;32m---> 17\u001b[0m     \u001b[43mtime\u001b[49m\u001b[38;5;241;43m.\u001b[39;49m\u001b[43msleep\u001b[49m\u001b[43m(\u001b[49m\u001b[38;5;241;43m60\u001b[39;49m\u001b[43m)\u001b[49m\n\u001b[0;32m     18\u001b[0m     i \u001b[38;5;241m+\u001b[39m\u001b[38;5;241m=\u001b[39m \u001b[38;5;241m1\u001b[39m\n\u001b[0;32m     19\u001b[0m     \u001b[38;5;28mprint\u001b[39m(time\u001b[38;5;241m.\u001b[39mstrftime(\u001b[38;5;124m\"\u001b[39m\u001b[38;5;124m%\u001b[39m\u001b[38;5;124mI:\u001b[39m\u001b[38;5;124m%\u001b[39m\u001b[38;5;124mM:\u001b[39m\u001b[38;5;124m%\u001b[39m\u001b[38;5;124mS \u001b[39m\u001b[38;5;124m%\u001b[39m\u001b[38;5;124mp\u001b[39m\u001b[38;5;124m\"\u001b[39m, time\u001b[38;5;241m.\u001b[39mlocaltime()),\u001b[38;5;124m\"\u001b[39m\u001b[38;5;124mAlignment is still running; Duration: \u001b[39m\u001b[38;5;132;01m{}\u001b[39;00m\u001b[38;5;124m min\u001b[39m\u001b[38;5;124m\"\u001b[39m\u001b[38;5;241m.\u001b[39mformat(i), end\u001b[38;5;241m=\u001b[39m\u001b[38;5;124m\"\u001b[39m\u001b[38;5;130;01m\\r\u001b[39;00m\u001b[38;5;124m\"\u001b[39m)\n",
      "\u001b[1;31mKeyboardInterrupt\u001b[0m: "
     ]
    }
   ],
   "source": [
    "#if you want to use ClustalW\n",
    "ClustaW_cmd = ClustalwCommandline(\n",
    "    \"C:\\Program Files (x86)\\ClustalW2\\clustalw2.exe\",\n",
    "    infile=\"output/{species}/in_silico_matrisome/{species}_in_silico.fasta\".format(\n",
    "        species=clean_name(species)\n",
    "    ),\n",
    "    outfile=\"output/{species}/{species}_in_silico_aligned.phy\".format(\n",
    "        species=clean_name(species)\n",
    "    ),\n",
    "    output=\"phylip\"\n",
    ")\n",
    "#use ClustalOmega for multithreading\n",
    "thread_num = 14\n",
    "ClustaO_cmd = ClustalOmegaCommandline(\n",
    "    \"C:\\Program Files (x86)\\ClustalO\\clustalo.exe\",\n",
    "    infile=\"output/{species}/in_silico_matrisome/{species}_in_silico.fasta\".format(\n",
    "        species=clean_name(species)\n",
    "    ),\n",
    "    outfile=\"output/{species}/{species}_in_silico_aligned.phy\".format(\n",
    "        species=clean_name(species)\n",
    "    ),\n",
    "    seqtype=\"Protein\",\n",
    "    threads = thread_num,\n",
    "    outfmt=\"phylip\"\n",
    ")\n",
    "cmd= ClustaO_cmd\n",
    "if align:\n",
    "    p=subprocess.Popen(str(cmd), shell=True)\n",
    "    poll= p.poll()\n",
    "    i = 0\n",
    "    while poll is None:\n",
    "        time.sleep(60)\n",
    "        i += 1\n",
    "        if i%60 == 0:\n",
    "            logging.info(\"%I:%M:%S %p\", time.localtime()),\"[INFO] Alignment is still running; Duration: {} min\".format(i)\n",
    "        print(time.strftime(\"%I:%M:%S %p\", time.localtime()),\"[INFO] Alignment is still running; Duration: {} min\".format(i), end=\"\\r\")\n",
    "    else:\n",
    "        logging.info(\"Alignment is done.\")\n",
    "        print(\"Alignment is done:\")\n",
    "        logging.info(\"The alignment was saved at: output/{species}/{species}_in_silico.nex\".format(\n",
    "        species=clean_name(species)))\n",
    "        print(\"The alignment was saved at: output/{species}/{species}_in_silico.nex\".format(\n",
    "        species=clean_name(species)\n",
    "    ))"
   ]
  },
  {
   "cell_type": "code",
   "execution_count": 58,
   "metadata": {},
   "outputs": [],
   "source": [
    "alignment = AlignIO.read(\n",
    "    \"output/{species}/in_silico_matrisome/{species}_in_silico.nex\".format(species=clean_name(species)), \"nexus\"\n",
    ")\n",
    "order = [rec.id for rec in alignment]"
   ]
  },
  {
   "cell_type": "markdown",
   "metadata": {},
   "source": [
    "## Visualizing the Sequences\n",
    "\n",
    "Now we need to create an image of the sequences using nice box diagrams.\n",
    "\n"
   ]
  },
  {
   "cell_type": "code",
   "execution_count": 11,
   "metadata": {},
   "outputs": [],
   "source": [
    "# create colormap using random colors\n",
    "def rand_color():\n",
    "    r = lambda: random.randint(0, 255)\n",
    "    return \"#%02X%02X%02X\" % (r(), r(), r())\n",
    "\n",
    "\n",
    "def colormap():\n",
    "    if pathlib.Path(\n",
    "        \"lib/domain_colormap.csv\"\n",
    "    ).is_file():  # read the colormap if it already exsits\n",
    "        colormap = pandas.read_csv(\n",
    "            \"lib/domain_colormap.csv\", index_col=0, names=[\"color\"], header=0\n",
    "        )[\"color\"]\n",
    "    else:\n",
    "        colormap = pandas.Series()  # create a new colormap\n",
    "    options = set(proteome.InterPro_description.unique()).union(\n",
    "        set(proteome.Signature_description.unique())\n",
    "    )  # make sure all domain names are assigned a color\n",
    "    for option in options:\n",
    "        if not option in colormap.index:\n",
    "            colormap[option] = rand_color()\n",
    "    colormap.sort_index().to_csv(\"lib/domain_colormap.csv\")  # save the updated colormap\n",
    "    return colormap\n",
    "\n",
    "\n",
    "colormap = colormap()"
   ]
  },
  {
   "cell_type": "code",
   "execution_count": 193,
   "metadata": {},
   "outputs": [],
   "source": [
    "def visualize_seq_group(seq_ids,group_name,seq_annotations,seq_separation=100,text_style = \"font-family:monospaced;font-size:2\"):\n",
    "    #create drawing\n",
    "    dwg = svgwrite.Drawing(\n",
    "        \"output/visualisations/{filename}.svg\".format(filename=group_name)\n",
    "    )\n",
    "    # draw header\n",
    "    header = svgwrite.text.Text(group_name,insert = (0,-30)) #writes the group name at the top of the image\n",
    "    dwg.add(header)\n",
    "\n",
    "    for seq_num,seq_id in enumerate(seq_ids):\n",
    "        #draw each sequence\n",
    "        draw_seq(seq_num,seq_id,seq_annotations,dwg,seq_separation,text_style)\n",
    "\n",
    "    #draw the legend\n",
    "    draw_legend(dwg)\n",
    "\n",
    "    #create the image\n",
    "    dwg.save()\n",
    "\n",
    "def draw_seq(seq_num,seq_id,seq_annotations,drawing,seq_separation,text_style):\n",
    "    seq_y = seq_num * seq_separation\n",
    "    seq_length = int(seq_annotations.Seq_length.max())\n",
    "    seq_group = svgwrite.container.Group(id=seq_id)\n",
    "    #draw line\n",
    "    line = svgwrite.shapes.Line(\n",
    "            start=(0, seq_y), end=(seq_length, seq_y)\n",
    "        )\n",
    "    line.stroke(\"gray\",width=5)\n",
    "    seq_group.add(line)\n",
    "    #draw annotation\n",
    "    text = svgwrite.text.Text(seq_id,insert=(0,seq_y+21),style=text_style)\n",
    "    seq_group.add(text)\n",
    "    #add domains\n",
    "    seq_annotations= seq_annotations.sort_values(\"D_length\", ascending=False)\n",
    "    for domain_num,(seq_id,domain_row) in  enumerate(seq_annotations.iterrows()):\n",
    "        draw_domains(seq_group,seq_id,domain_row,domain_num)\n",
    "    drawing.add(seq_group)\n",
    "\n",
    "def draw_domains(seq_group,seq_id,domain_row,domain_num):\n",
    "    #create name for the domain\n",
    "    domain_name =  domain_row[\"InterPro_description\"]\n",
    "    if domain_name == \"-\":\n",
    "        domain_name =  domain_row[\"Signature_description\"]\n",
    "    domain_id = domain_row[\"InterPro_accessions\"]\n",
    "    if domain_id == \"-\":\n",
    "        domain_id =  domain_row[\"Analysis\"] + \"|\" + domain_row[\"Signature_accession\"]\n",
    "    \n",
    "    domain_start = domain_row.Start\n",
    "    domain_end = domain_row.End\n",
    "    domain_group = svgwrite.container.Group(id=domain_name)\n",
    "    #===============================================================> ADD DOMAIN DRAWING function\n",
    "    seq_group.add(domain_group)\n",
    "\n",
    "def draw_legend(drawing):\n",
    "    l_group = svgwrite.container.Group(id = \"Legend\")\n",
    "    #===============================================================> ADD LEGEND DRAWING function\n",
    "    drawing.add(l_group)\n",
    "    pass\n"
   ]
  },
  {
   "cell_type": "code",
   "execution_count": 194,
   "metadata": {},
   "outputs": [],
   "source": [
    "visualize_seq_group(seq_ids,orthogroup,all_annot)"
   ]
  },
  {
   "cell_type": "code",
   "execution_count": 186,
   "metadata": {},
   "outputs": [
    {
     "data": {
      "text/html": [
       "<div>\n",
       "<style scoped>\n",
       "    .dataframe tbody tr th:only-of-type {\n",
       "        vertical-align: middle;\n",
       "    }\n",
       "\n",
       "    .dataframe tbody tr th {\n",
       "        vertical-align: top;\n",
       "    }\n",
       "\n",
       "    .dataframe thead th {\n",
       "        text-align: right;\n",
       "    }\n",
       "</style>\n",
       "<table border=\"1\" class=\"dataframe\">\n",
       "  <thead>\n",
       "    <tr style=\"text-align: right;\">\n",
       "      <th></th>\n",
       "      <th>MD5_digest</th>\n",
       "      <th>Seq_length</th>\n",
       "      <th>Analysis</th>\n",
       "      <th>Signature_accession</th>\n",
       "      <th>Signature_description</th>\n",
       "      <th>Start</th>\n",
       "      <th>End</th>\n",
       "      <th>e-value</th>\n",
       "      <th>Status</th>\n",
       "      <th>Date</th>\n",
       "      <th>InterPro_accessions</th>\n",
       "      <th>InterPro_description</th>\n",
       "      <th>Go-terms</th>\n",
       "      <th>pathways</th>\n",
       "      <th>D_length</th>\n",
       "    </tr>\n",
       "    <tr>\n",
       "      <th>Accession</th>\n",
       "      <th></th>\n",
       "      <th></th>\n",
       "      <th></th>\n",
       "      <th></th>\n",
       "      <th></th>\n",
       "      <th></th>\n",
       "      <th></th>\n",
       "      <th></th>\n",
       "      <th></th>\n",
       "      <th></th>\n",
       "      <th></th>\n",
       "      <th></th>\n",
       "      <th></th>\n",
       "      <th></th>\n",
       "      <th></th>\n",
       "    </tr>\n",
       "  </thead>\n",
       "  <tbody>\n",
       "    <tr>\n",
       "      <th>Sc4wPfr_39.g20554.t1</th>\n",
       "      <td>04aa88bf7260c131611e5e6675a90385</td>\n",
       "      <td>303</td>\n",
       "      <td>ProSiteProfiles</td>\n",
       "      <td>PS50255</td>\n",
       "      <td>Cytochrome b5 family, heme-binding domain prof...</td>\n",
       "      <td>12</td>\n",
       "      <td>91</td>\n",
       "      <td>24.911798</td>\n",
       "      <td>T</td>\n",
       "      <td>16-09-2022</td>\n",
       "      <td>IPR001199</td>\n",
       "      <td>Cytochrome b5-like heme/steroid binding domain</td>\n",
       "      <td>NaN</td>\n",
       "      <td>NaN</td>\n",
       "      <td>79</td>\n",
       "    </tr>\n",
       "    <tr>\n",
       "      <th>Sc4wPfr_39.g20554.t1</th>\n",
       "      <td>04aa88bf7260c131611e5e6675a90385</td>\n",
       "      <td>303</td>\n",
       "      <td>SUPERFAMILY</td>\n",
       "      <td>SSF55856</td>\n",
       "      <td>Cytochrome b5-like heme/steroid binding domain</td>\n",
       "      <td>10</td>\n",
       "      <td>98</td>\n",
       "      <td>4.97E-27</td>\n",
       "      <td>T</td>\n",
       "      <td>16-09-2022</td>\n",
       "      <td>IPR036400</td>\n",
       "      <td>Cytochrome b5-like heme/steroid binding domain...</td>\n",
       "      <td>NaN</td>\n",
       "      <td>NaN</td>\n",
       "      <td>88</td>\n",
       "    </tr>\n",
       "    <tr>\n",
       "      <th>Sc4wPfr_39.g20554.t1</th>\n",
       "      <td>04aa88bf7260c131611e5e6675a90385</td>\n",
       "      <td>303</td>\n",
       "      <td>PANTHER</td>\n",
       "      <td>PTHR19359:SF14</td>\n",
       "      <td>CYTOCHROME B5 TYPE B</td>\n",
       "      <td>9</td>\n",
       "      <td>101</td>\n",
       "      <td>4.7E-24</td>\n",
       "      <td>T</td>\n",
       "      <td>16-09-2022</td>\n",
       "      <td>-</td>\n",
       "      <td>-</td>\n",
       "      <td>NaN</td>\n",
       "      <td>NaN</td>\n",
       "      <td>92</td>\n",
       "    </tr>\n",
       "    <tr>\n",
       "      <th>Sc4wPfr_39.g20554.t1</th>\n",
       "      <td>04aa88bf7260c131611e5e6675a90385</td>\n",
       "      <td>303</td>\n",
       "      <td>Pfam</td>\n",
       "      <td>PF00173</td>\n",
       "      <td>Cytochrome b5-like Heme/Steroid binding domain</td>\n",
       "      <td>17</td>\n",
       "      <td>90</td>\n",
       "      <td>3.1E-19</td>\n",
       "      <td>T</td>\n",
       "      <td>16-09-2022</td>\n",
       "      <td>IPR001199</td>\n",
       "      <td>Cytochrome b5-like heme/steroid binding domain</td>\n",
       "      <td>NaN</td>\n",
       "      <td>NaN</td>\n",
       "      <td>73</td>\n",
       "    </tr>\n",
       "    <tr>\n",
       "      <th>Sc4wPfr_39.g20554.t1</th>\n",
       "      <td>04aa88bf7260c131611e5e6675a90385</td>\n",
       "      <td>303</td>\n",
       "      <td>SMART</td>\n",
       "      <td>SM01117</td>\n",
       "      <td>Cyt_b5_2</td>\n",
       "      <td>15</td>\n",
       "      <td>91</td>\n",
       "      <td>4.3E-21</td>\n",
       "      <td>T</td>\n",
       "      <td>16-09-2022</td>\n",
       "      <td>IPR001199</td>\n",
       "      <td>Cytochrome b5-like heme/steroid binding domain</td>\n",
       "      <td>NaN</td>\n",
       "      <td>NaN</td>\n",
       "      <td>76</td>\n",
       "    </tr>\n",
       "    <tr>\n",
       "      <th>...</th>\n",
       "      <td>...</td>\n",
       "      <td>...</td>\n",
       "      <td>...</td>\n",
       "      <td>...</td>\n",
       "      <td>...</td>\n",
       "      <td>...</td>\n",
       "      <td>...</td>\n",
       "      <td>...</td>\n",
       "      <td>...</td>\n",
       "      <td>...</td>\n",
       "      <td>...</td>\n",
       "      <td>...</td>\n",
       "      <td>...</td>\n",
       "      <td>...</td>\n",
       "      <td>...</td>\n",
       "    </tr>\n",
       "    <tr>\n",
       "      <th>NV2t015716001.1</th>\n",
       "      <td>0a18c95e1b8b9b73b7ec94698850bef6</td>\n",
       "      <td>507</td>\n",
       "      <td>ProSitePatterns</td>\n",
       "      <td>PS00022</td>\n",
       "      <td>EGF-like domain signature 1.</td>\n",
       "      <td>342</td>\n",
       "      <td>353</td>\n",
       "      <td>-</td>\n",
       "      <td>T</td>\n",
       "      <td>19-09-2022</td>\n",
       "      <td>IPR000742</td>\n",
       "      <td>EGF-like domain</td>\n",
       "      <td>-</td>\n",
       "      <td>MetaCyc: PWY-6241|MetaCyc: PWY-6803|MetaCyc: P...</td>\n",
       "      <td>11</td>\n",
       "    </tr>\n",
       "    <tr>\n",
       "      <th>NV2t015716001.1</th>\n",
       "      <td>0a18c95e1b8b9b73b7ec94698850bef6</td>\n",
       "      <td>507</td>\n",
       "      <td>ProSitePatterns</td>\n",
       "      <td>PS00010</td>\n",
       "      <td>Aspartic acid and asparagine hydroxylation site.</td>\n",
       "      <td>333</td>\n",
       "      <td>344</td>\n",
       "      <td>-</td>\n",
       "      <td>T</td>\n",
       "      <td>19-09-2022</td>\n",
       "      <td>IPR000152</td>\n",
       "      <td>EGF-type aspartate/asparagine hydroxylation site</td>\n",
       "      <td>-</td>\n",
       "      <td>MetaCyc: PWY-6241|Reactome: R-BTA-140834|React...</td>\n",
       "      <td>11</td>\n",
       "    </tr>\n",
       "    <tr>\n",
       "      <th>NV2t015716001.1</th>\n",
       "      <td>0a18c95e1b8b9b73b7ec94698850bef6</td>\n",
       "      <td>507</td>\n",
       "      <td>CDD</td>\n",
       "      <td>cd00054</td>\n",
       "      <td>EGF_CA</td>\n",
       "      <td>242</td>\n",
       "      <td>278</td>\n",
       "      <td>7.62671E-9</td>\n",
       "      <td>T</td>\n",
       "      <td>19-09-2022</td>\n",
       "      <td>-</td>\n",
       "      <td>-</td>\n",
       "      <td>NaN</td>\n",
       "      <td>NaN</td>\n",
       "      <td>36</td>\n",
       "    </tr>\n",
       "    <tr>\n",
       "      <th>NV2t015716001.1</th>\n",
       "      <td>0a18c95e1b8b9b73b7ec94698850bef6</td>\n",
       "      <td>507</td>\n",
       "      <td>Pfam</td>\n",
       "      <td>PF00754</td>\n",
       "      <td>F5/8 type C domain</td>\n",
       "      <td>390</td>\n",
       "      <td>475</td>\n",
       "      <td>6.1E-10</td>\n",
       "      <td>T</td>\n",
       "      <td>19-09-2022</td>\n",
       "      <td>IPR000421</td>\n",
       "      <td>Coagulation factor 5/8 C-terminal domain</td>\n",
       "      <td>-</td>\n",
       "      <td>MetaCyc: PWY-1822|MetaCyc: PWY-4002|MetaCyc: P...</td>\n",
       "      <td>85</td>\n",
       "    </tr>\n",
       "    <tr>\n",
       "      <th>NV2t015716001.1</th>\n",
       "      <td>0a18c95e1b8b9b73b7ec94698850bef6</td>\n",
       "      <td>507</td>\n",
       "      <td>ProSitePatterns</td>\n",
       "      <td>PS00022</td>\n",
       "      <td>EGF-like domain signature 1.</td>\n",
       "      <td>228</td>\n",
       "      <td>239</td>\n",
       "      <td>-</td>\n",
       "      <td>T</td>\n",
       "      <td>19-09-2022</td>\n",
       "      <td>IPR000742</td>\n",
       "      <td>EGF-like domain</td>\n",
       "      <td>-</td>\n",
       "      <td>MetaCyc: PWY-6241|MetaCyc: PWY-6803|MetaCyc: P...</td>\n",
       "      <td>11</td>\n",
       "    </tr>\n",
       "  </tbody>\n",
       "</table>\n",
       "<p>101567 rows × 15 columns</p>\n",
       "</div>"
      ],
      "text/plain": [
       "                                            MD5_digest  Seq_length  \\\n",
       "Accession                                                            \n",
       "Sc4wPfr_39.g20554.t1  04aa88bf7260c131611e5e6675a90385         303   \n",
       "Sc4wPfr_39.g20554.t1  04aa88bf7260c131611e5e6675a90385         303   \n",
       "Sc4wPfr_39.g20554.t1  04aa88bf7260c131611e5e6675a90385         303   \n",
       "Sc4wPfr_39.g20554.t1  04aa88bf7260c131611e5e6675a90385         303   \n",
       "Sc4wPfr_39.g20554.t1  04aa88bf7260c131611e5e6675a90385         303   \n",
       "...                                                ...         ...   \n",
       "NV2t015716001.1       0a18c95e1b8b9b73b7ec94698850bef6         507   \n",
       "NV2t015716001.1       0a18c95e1b8b9b73b7ec94698850bef6         507   \n",
       "NV2t015716001.1       0a18c95e1b8b9b73b7ec94698850bef6         507   \n",
       "NV2t015716001.1       0a18c95e1b8b9b73b7ec94698850bef6         507   \n",
       "NV2t015716001.1       0a18c95e1b8b9b73b7ec94698850bef6         507   \n",
       "\n",
       "                             Analysis Signature_accession  \\\n",
       "Accession                                                   \n",
       "Sc4wPfr_39.g20554.t1  ProSiteProfiles             PS50255   \n",
       "Sc4wPfr_39.g20554.t1      SUPERFAMILY            SSF55856   \n",
       "Sc4wPfr_39.g20554.t1          PANTHER      PTHR19359:SF14   \n",
       "Sc4wPfr_39.g20554.t1             Pfam             PF00173   \n",
       "Sc4wPfr_39.g20554.t1            SMART             SM01117   \n",
       "...                               ...                 ...   \n",
       "NV2t015716001.1       ProSitePatterns             PS00022   \n",
       "NV2t015716001.1       ProSitePatterns             PS00010   \n",
       "NV2t015716001.1                   CDD             cd00054   \n",
       "NV2t015716001.1                  Pfam             PF00754   \n",
       "NV2t015716001.1       ProSitePatterns             PS00022   \n",
       "\n",
       "                                                  Signature_description  \\\n",
       "Accession                                                                 \n",
       "Sc4wPfr_39.g20554.t1  Cytochrome b5 family, heme-binding domain prof...   \n",
       "Sc4wPfr_39.g20554.t1     Cytochrome b5-like heme/steroid binding domain   \n",
       "Sc4wPfr_39.g20554.t1                               CYTOCHROME B5 TYPE B   \n",
       "Sc4wPfr_39.g20554.t1     Cytochrome b5-like Heme/Steroid binding domain   \n",
       "Sc4wPfr_39.g20554.t1                                           Cyt_b5_2   \n",
       "...                                                                 ...   \n",
       "NV2t015716001.1                            EGF-like domain signature 1.   \n",
       "NV2t015716001.1        Aspartic acid and asparagine hydroxylation site.   \n",
       "NV2t015716001.1                                                  EGF_CA   \n",
       "NV2t015716001.1                                      F5/8 type C domain   \n",
       "NV2t015716001.1                            EGF-like domain signature 1.   \n",
       "\n",
       "                      Start  End     e-value Status        Date  \\\n",
       "Accession                                                         \n",
       "Sc4wPfr_39.g20554.t1     12   91   24.911798      T  16-09-2022   \n",
       "Sc4wPfr_39.g20554.t1     10   98    4.97E-27      T  16-09-2022   \n",
       "Sc4wPfr_39.g20554.t1      9  101     4.7E-24      T  16-09-2022   \n",
       "Sc4wPfr_39.g20554.t1     17   90     3.1E-19      T  16-09-2022   \n",
       "Sc4wPfr_39.g20554.t1     15   91     4.3E-21      T  16-09-2022   \n",
       "...                     ...  ...         ...    ...         ...   \n",
       "NV2t015716001.1         342  353           -      T  19-09-2022   \n",
       "NV2t015716001.1         333  344           -      T  19-09-2022   \n",
       "NV2t015716001.1         242  278  7.62671E-9      T  19-09-2022   \n",
       "NV2t015716001.1         390  475     6.1E-10      T  19-09-2022   \n",
       "NV2t015716001.1         228  239           -      T  19-09-2022   \n",
       "\n",
       "                     InterPro_accessions  \\\n",
       "Accession                                  \n",
       "Sc4wPfr_39.g20554.t1           IPR001199   \n",
       "Sc4wPfr_39.g20554.t1           IPR036400   \n",
       "Sc4wPfr_39.g20554.t1                   -   \n",
       "Sc4wPfr_39.g20554.t1           IPR001199   \n",
       "Sc4wPfr_39.g20554.t1           IPR001199   \n",
       "...                                  ...   \n",
       "NV2t015716001.1                IPR000742   \n",
       "NV2t015716001.1                IPR000152   \n",
       "NV2t015716001.1                        -   \n",
       "NV2t015716001.1                IPR000421   \n",
       "NV2t015716001.1                IPR000742   \n",
       "\n",
       "                                                   InterPro_description  \\\n",
       "Accession                                                                 \n",
       "Sc4wPfr_39.g20554.t1     Cytochrome b5-like heme/steroid binding domain   \n",
       "Sc4wPfr_39.g20554.t1  Cytochrome b5-like heme/steroid binding domain...   \n",
       "Sc4wPfr_39.g20554.t1                                                  -   \n",
       "Sc4wPfr_39.g20554.t1     Cytochrome b5-like heme/steroid binding domain   \n",
       "Sc4wPfr_39.g20554.t1     Cytochrome b5-like heme/steroid binding domain   \n",
       "...                                                                 ...   \n",
       "NV2t015716001.1                                         EGF-like domain   \n",
       "NV2t015716001.1        EGF-type aspartate/asparagine hydroxylation site   \n",
       "NV2t015716001.1                                                       -   \n",
       "NV2t015716001.1                Coagulation factor 5/8 C-terminal domain   \n",
       "NV2t015716001.1                                         EGF-like domain   \n",
       "\n",
       "                     Go-terms  \\\n",
       "Accession                       \n",
       "Sc4wPfr_39.g20554.t1      NaN   \n",
       "Sc4wPfr_39.g20554.t1      NaN   \n",
       "Sc4wPfr_39.g20554.t1      NaN   \n",
       "Sc4wPfr_39.g20554.t1      NaN   \n",
       "Sc4wPfr_39.g20554.t1      NaN   \n",
       "...                       ...   \n",
       "NV2t015716001.1             -   \n",
       "NV2t015716001.1             -   \n",
       "NV2t015716001.1           NaN   \n",
       "NV2t015716001.1             -   \n",
       "NV2t015716001.1             -   \n",
       "\n",
       "                                                               pathways  \\\n",
       "Accession                                                                 \n",
       "Sc4wPfr_39.g20554.t1                                                NaN   \n",
       "Sc4wPfr_39.g20554.t1                                                NaN   \n",
       "Sc4wPfr_39.g20554.t1                                                NaN   \n",
       "Sc4wPfr_39.g20554.t1                                                NaN   \n",
       "Sc4wPfr_39.g20554.t1                                                NaN   \n",
       "...                                                                 ...   \n",
       "NV2t015716001.1       MetaCyc: PWY-6241|MetaCyc: PWY-6803|MetaCyc: P...   \n",
       "NV2t015716001.1       MetaCyc: PWY-6241|Reactome: R-BTA-140834|React...   \n",
       "NV2t015716001.1                                                     NaN   \n",
       "NV2t015716001.1       MetaCyc: PWY-1822|MetaCyc: PWY-4002|MetaCyc: P...   \n",
       "NV2t015716001.1       MetaCyc: PWY-6241|MetaCyc: PWY-6803|MetaCyc: P...   \n",
       "\n",
       "                      D_length  \n",
       "Accession                       \n",
       "Sc4wPfr_39.g20554.t1        79  \n",
       "Sc4wPfr_39.g20554.t1        88  \n",
       "Sc4wPfr_39.g20554.t1        92  \n",
       "Sc4wPfr_39.g20554.t1        73  \n",
       "Sc4wPfr_39.g20554.t1        76  \n",
       "...                        ...  \n",
       "NV2t015716001.1             11  \n",
       "NV2t015716001.1             11  \n",
       "NV2t015716001.1             36  \n",
       "NV2t015716001.1             85  \n",
       "NV2t015716001.1             11  \n",
       "\n",
       "[101567 rows x 15 columns]"
      ]
     },
     "execution_count": 186,
     "metadata": {},
     "output_type": "execute_result"
    }
   ],
   "source": [
    "all_annot"
   ]
  },
  {
   "cell_type": "code",
   "execution_count": 128,
   "metadata": {},
   "outputs": [],
   "source": [
    "def draw_domain(row, seq_center, seq_num, domain_num, previous_starts=[]):\n",
    "    IRP_ID = (\n",
    "        row.InterPro_description.replace(\" \", \"_\")\n",
    "        .replace(\",\", \"_\")\n",
    "        .replace(\"(\", \"\")\n",
    "        .replace(\")\", \"\")\n",
    "    )\n",
    "    seq_group_id = \"{seq_num}_{domain_num}_{ID}\".format(\n",
    "        seq_num=seq_num, domain_num=domain_num, ID=IRP_ID\n",
    "    )\n",
    "    domain_group = svgwrite.container.Group(\n",
    "        id=seq_group_id\n",
    "    )  # each domain should do into its own group\n",
    "    # draw the rectangle of the domain\n",
    "    rect_x = int(row.Start)\n",
    "    rect_y = seq_center - 10\n",
    "    rect_width = int(row.End) - int(row.Start)\n",
    "    rect_height = 20\n",
    "    if row.Signature_description == \"-\":\n",
    "        color = colormap.get(row.InterPro_description)\n",
    "        legend[row.InterPro_description] = colormap.get(row.InterPro_description)\n",
    "    else:\n",
    "        color = colormap.get(row.Signature_description)\n",
    "        legend[row.Signature_description] = colormap.get(row.Signature_description)\n",
    "    rect = svgwrite.shapes.Rect((rect_x, rect_y), (rect_width, rect_height), fill=color)\n",
    "    domain_group.add(rect)\n",
    "    text_start = rect_x\n",
    "    if rect_x in previous_starts:\n",
    "        text_start = rect_y - 3\n",
    "\n",
    "    text = svgwrite.text.Text(\n",
    "        row.Signature_description,\n",
    "        insert=(rect_x,text_start),\n",
    "        style=\"font-family:monospaced;font-size:2\",\n",
    "    )\n",
    "    domain_group.add(text)\n",
    "    previous_starts.append(text_start)\n",
    "    return domain_group\n",
    "\n",
    "def visualize(filename, id_list,annotation_tsv):\n",
    "    legend = {}\n",
    "    dwg = svgwrite.Drawing(\n",
    "        \"output/visualisations/{filename}.svg\".format(filename=filename)\n",
    "    )\n",
    "\n",
    "    for seq_num, accession in enumerate(id_list):\n",
    "        annotations = annotation_tsv.loc[accession]  # extracts from the tsv file\n",
    "        seq_group = svgwrite.container.Group(\n",
    "            id=accession\n",
    "        )  # each sequence is in its own group\n",
    "        seq_center = seq_num * 100  # spread out the sequences\n",
    "\n",
    "        # draw the sequence as line\n",
    "\n",
    "        seq_line = svgwrite.shapes.Line(\n",
    "            start=(0, seq_center), end=(int(annotations.Seq_length.max()), seq_center)\n",
    "        )  # create a line that is the exact length of the sequence\n",
    "\n",
    "        # styling the line\n",
    "        seq_line.stroke(\"gray\", width=5)\n",
    "        # Add the line to the sequence drawing\n",
    "        seq_group.add(seq_line)\n",
    "\n",
    "        # iterate through the annotations to draw the basic boxes\n",
    "        if type(annotations) == pandas.core.series.Series:\n",
    "            seq_group.add(draw_domain(annotations, seq_center, seq_num, 1))\n",
    "            pass\n",
    "        else:\n",
    "            previous_starts = []\n",
    "            annotations = annotations.sort_values(\"D_length\", ascending=False)\n",
    "            for domain_num, (accession, row) in enumerate(annotations.iterrows()):\n",
    "                # add domain to the sequence\n",
    "                seq_group.add(\n",
    "                    draw_domain(row, seq_center, seq_num, domain_num, previous_starts)\n",
    "                )\n",
    "\n",
    "        # add sequence name\n",
    "        seq_text = svgwrite.text.Text(\n",
    "            clean_name(species) + accession,\n",
    "            insert=(int(annotations.Seq_length.max()) + 10, seq_center),\n",
    "            style=\"font-family:monospaced;font-size:2\",\n",
    "        )\n",
    "        seq_group.add(seq_text)\n",
    "        # add the sequence to the drawing\n",
    "        dwg.add(seq_group)\n",
    "\n",
    "\n",
    "    # draw legend\n",
    "    legend = pandas.Series(legend).sort_index()\n",
    "    legend_group = svgwrite.container.Group(id=\"legend\")\n",
    "    for i, (desc, color) in enumerate(legend.items()):\n",
    "        leg_element = svgwrite.container.Group(id=\"legend_element_{num}\".format(num=i))\n",
    "        rect = svgwrite.shapes.Rect((-75, i * 15), (5, 5), fill=color)\n",
    "        leg_element.add(rect)\n",
    "        text = svgwrite.text.Text(\n",
    "            desc, insert=(-70, i * 15 + 2.5), style=\"font-family:monospaced;font-size:2\"\n",
    "        )\n",
    "        leg_element.add(text)\n",
    "        legend_group.add(leg_element)\n",
    "    dwg.add(legend_group)\n",
    "    dwg.save()"
   ]
  },
  {
   "cell_type": "markdown",
   "metadata": {},
   "source": [
    "### Detect Orthogroups ind the Matrisomes\n",
    "\n",
    "To find groups of related proteins I will use OrthoFinder to group the proteins by their respective groups."
   ]
  },
  {
   "cell_type": "markdown",
   "metadata": {},
   "source": [
    "**Run Orthofinder**\n",
    "```shell\n",
    "~/orthofinder/Orthofinder/\n",
    "\n",
    "orthofinder -f /mnt/d/Data/programs/mesoglea_protein_pipeline/output/all_in_silico/ -t 14 -a 14 -o /mnt/d/Data/programs/mesoglea_protein_pipeline/output\n",
    "```\n",
    "\n",
    "This creates a new folder in:\n",
    "\n",
    "`output/all_in_silico/OrthoFinder/Results_Sep22/`\n",
    "\n",
    "which can be read as:"
   ]
  },
  {
   "cell_type": "code",
   "execution_count": 59,
   "metadata": {},
   "outputs": [
    {
     "data": {
      "text/html": [
       "<div>\n",
       "<style scoped>\n",
       "    .dataframe tbody tr th:only-of-type {\n",
       "        vertical-align: middle;\n",
       "    }\n",
       "\n",
       "    .dataframe tbody tr th {\n",
       "        vertical-align: top;\n",
       "    }\n",
       "\n",
       "    .dataframe thead th {\n",
       "        text-align: right;\n",
       "    }\n",
       "</style>\n",
       "<table border=\"1\" class=\"dataframe\">\n",
       "  <thead>\n",
       "    <tr style=\"text-align: right;\">\n",
       "      <th></th>\n",
       "      <th>Hydra_vulgaris_in_silico</th>\n",
       "      <th>Nematostella_vectensis_in_silico</th>\n",
       "    </tr>\n",
       "    <tr>\n",
       "      <th>Orthogroup</th>\n",
       "      <th></th>\n",
       "      <th></th>\n",
       "    </tr>\n",
       "  </thead>\n",
       "  <tbody>\n",
       "    <tr>\n",
       "      <th>OG0000000</th>\n",
       "      <td>Sc4wPfr_570.g25944.t1</td>\n",
       "      <td>NV2t003012001.1, NV2t003941001.1, NV2t00494800...</td>\n",
       "    </tr>\n",
       "    <tr>\n",
       "      <th>OG0000001</th>\n",
       "      <td>Sc4wPfr_1061.g18805.t1, Sc4wPfr_1066.g10192.t1...</td>\n",
       "      <td>NaN</td>\n",
       "    </tr>\n",
       "    <tr>\n",
       "      <th>OG0000002</th>\n",
       "      <td>Sc4wPfr_1037.g17587.t1, Sc4wPfr_1040.g7643.t1,...</td>\n",
       "      <td>NV2t020059001.1</td>\n",
       "    </tr>\n",
       "    <tr>\n",
       "      <th>OG0000003</th>\n",
       "      <td>Sc4wPfr_950.g24049.t1</td>\n",
       "      <td>NV2t008777001.1, NV2t008777002.1, NV2t00877700...</td>\n",
       "    </tr>\n",
       "    <tr>\n",
       "      <th>OG0000004</th>\n",
       "      <td>NaN</td>\n",
       "      <td>NV2t000566001.1, NV2t001244001.1, NV2t00197900...</td>\n",
       "    </tr>\n",
       "    <tr>\n",
       "      <th>...</th>\n",
       "      <td>...</td>\n",
       "      <td>...</td>\n",
       "    </tr>\n",
       "    <tr>\n",
       "      <th>OG0000593</th>\n",
       "      <td>NaN</td>\n",
       "      <td>NV2t022664002.1, NV2t022664006.1</td>\n",
       "    </tr>\n",
       "    <tr>\n",
       "      <th>OG0000594</th>\n",
       "      <td>NaN</td>\n",
       "      <td>NV2t023064001.1, NV2t023064002.1</td>\n",
       "    </tr>\n",
       "    <tr>\n",
       "      <th>OG0000595</th>\n",
       "      <td>NaN</td>\n",
       "      <td>NV2t023407001.1, NV2t023407002.1</td>\n",
       "    </tr>\n",
       "    <tr>\n",
       "      <th>OG0000596</th>\n",
       "      <td>NaN</td>\n",
       "      <td>NV2t023447001.1, NV2t023447002.1</td>\n",
       "    </tr>\n",
       "    <tr>\n",
       "      <th>OG0000597</th>\n",
       "      <td>NaN</td>\n",
       "      <td>NV2t023884001.1, NV2t023884002.1</td>\n",
       "    </tr>\n",
       "  </tbody>\n",
       "</table>\n",
       "<p>598 rows × 2 columns</p>\n",
       "</div>"
      ],
      "text/plain": [
       "                                     Hydra_vulgaris_in_silico  \\\n",
       "Orthogroup                                                      \n",
       "OG0000000                               Sc4wPfr_570.g25944.t1   \n",
       "OG0000001   Sc4wPfr_1061.g18805.t1, Sc4wPfr_1066.g10192.t1...   \n",
       "OG0000002   Sc4wPfr_1037.g17587.t1, Sc4wPfr_1040.g7643.t1,...   \n",
       "OG0000003                               Sc4wPfr_950.g24049.t1   \n",
       "OG0000004                                                 NaN   \n",
       "...                                                       ...   \n",
       "OG0000593                                                 NaN   \n",
       "OG0000594                                                 NaN   \n",
       "OG0000595                                                 NaN   \n",
       "OG0000596                                                 NaN   \n",
       "OG0000597                                                 NaN   \n",
       "\n",
       "                             Nematostella_vectensis_in_silico  \n",
       "Orthogroup                                                     \n",
       "OG0000000   NV2t003012001.1, NV2t003941001.1, NV2t00494800...  \n",
       "OG0000001                                                 NaN  \n",
       "OG0000002                                     NV2t020059001.1  \n",
       "OG0000003   NV2t008777001.1, NV2t008777002.1, NV2t00877700...  \n",
       "OG0000004   NV2t000566001.1, NV2t001244001.1, NV2t00197900...  \n",
       "...                                                       ...  \n",
       "OG0000593                    NV2t022664002.1, NV2t022664006.1  \n",
       "OG0000594                    NV2t023064001.1, NV2t023064002.1  \n",
       "OG0000595                    NV2t023407001.1, NV2t023407002.1  \n",
       "OG0000596                    NV2t023447001.1, NV2t023447002.1  \n",
       "OG0000597                    NV2t023884001.1, NV2t023884002.1  \n",
       "\n",
       "[598 rows x 2 columns]"
      ]
     },
     "execution_count": 59,
     "metadata": {},
     "output_type": "execute_result"
    }
   ],
   "source": [
    "orthogroups = pandas.read_csv(\"output/all_in_silico/OrthoFinder/Results_Sep22/Orthogroups/Orthogroups.tsv\",sep= \"\\t\",index_col=0)\n",
    "orthogroups"
   ]
  },
  {
   "cell_type": "code",
   "execution_count": 123,
   "metadata": {},
   "outputs": [],
   "source": [
    "species_list = []\n",
    "annotation_dfs=[]\n",
    "for col in orthogroups.columns:\n",
    "    species = col.replace(\"_in_silico\",\"\")\n",
    "    species_list.append(species)\n",
    "    spec_proteome = pandas.read_csv(\n",
    "                \"output\\{species}\\in_silico_matrisome\\{species}_in_silico_annot.csv\".format(species=clean_name(species)),\n",
    "                header=0,\n",
    "                ).set_index(\"Accession\")\n",
    "    annotation_dfs.append(spec_proteome)           \n",
    "all_annot = pandas.concat(annotation_dfs)"
   ]
  },
  {
   "cell_type": "code",
   "execution_count": 129,
   "metadata": {},
   "outputs": [
    {
     "name": "stdout",
     "output_type": "stream",
     "text": [
      "['Sc4wPfr_570.g25944.t1', 'NV2t003012001.1', 'NV2t003941001.1', 'NV2t004948001.1', 'NV2t004953001.1', 'NV2t005687001.1', 'NV2t005688001.1', 'NV2t005688002.1', 'NV2t005873001.1', 'NV2t006010001.1', 'NV2t006013001.1', 'NV2t006014001.1', 'NV2t006014002.1', 'NV2t006015001.1', 'NV2t006016001.1', 'NV2t006034001.1', 'NV2t006207001.1', 'NV2t007004001.1', 'NV2t007038001.1', 'NV2t007679001.1', 'NV2t010046001.1', 'NV2t010046002.1', 'NV2t010046003.1', 'NV2t011969001.1', 'NV2t012138001.1', 'NV2t012138002.1', 'NV2t012138004.1', 'NV2t014110001.1', 'NV2t016067001.1', 'NV2t017096001.1', 'NV2t017198001.1', 'NV2t017967001.1', 'NV2t019779001.1', 'NV2t019779002.1', 'NV2t022115001.1', 'NV2t022609001.1', 'NV2t022609002.1', 'NV2t022610001.1']\n"
     ]
    },
    {
     "name": "stderr",
     "output_type": "stream",
     "text": [
      "C:\\Users\\gideon.b\\AppData\\Local\\Temp\\ipykernel_3796\\3167065733.py:89: FutureWarning: The default dtype for empty Series will be 'object' instead of 'float64' in a future version. Specify a dtype explicitly to silence this warning.\n",
      "  legend = pandas.Series(legend).sort_index()\n"
     ]
    },
    {
     "name": "stdout",
     "output_type": "stream",
     "text": [
      "['Sc4wPfr_1061.g18805.t1', 'Sc4wPfr_1066.g10192.t1', 'Sc4wPfr_1066.g10197.t1', 'Sc4wPfr_1090.g9134.t1', 'Sc4wPfr_1256.g33323.t1', 'Sc4wPfr_133.g14081.t1', 'Sc4wPfr_133.g14092.t1', 'Sc4wPfr_1332.g21470.t1', 'Sc4wPfr_1376.g16756.t1', 'Sc4wPfr_165.g9991.t2', 'Sc4wPfr_165.g9991.t3', 'Sc4wPfr_2195.1.g31993.t1', 'Sc4wPfr_262.2.g17781.t1', 'Sc4wPfr_2695.g8779.t1', 'Sc4wPfr_320.g1228.t1', 'Sc4wPfr_320.g1228.t2', 'Sc4wPfr_320.g1229.t1', 'Sc4wPfr_320.g1230.t1', 'Sc4wPfr_320.g1231.t1', 'Sc4wPfr_320.g1237.t1', 'Sc4wPfr_518.1.g1312.t1', 'Sc4wPfr_612.g18590.t1', 'Sc4wPfr_657.g12379.t1', 'Sc4wPfr_657.g12382.t1', 'Sc4wPfr_896.g13018.t1']\n"
     ]
    },
    {
     "name": "stderr",
     "output_type": "stream",
     "text": [
      "C:\\Users\\gideon.b\\AppData\\Local\\Temp\\ipykernel_3796\\3167065733.py:89: FutureWarning: The default dtype for empty Series will be 'object' instead of 'float64' in a future version. Specify a dtype explicitly to silence this warning.\n",
      "  legend = pandas.Series(legend).sort_index()\n",
      "C:\\Users\\gideon.b\\AppData\\Local\\Temp\\ipykernel_3796\\3167065733.py:89: FutureWarning: The default dtype for empty Series will be 'object' instead of 'float64' in a future version. Specify a dtype explicitly to silence this warning.\n",
      "  legend = pandas.Series(legend).sort_index()\n"
     ]
    },
    {
     "name": "stdout",
     "output_type": "stream",
     "text": [
      "['Sc4wPfr_1037.g17587.t1', 'Sc4wPfr_1040.g7643.t1', 'Sc4wPfr_1040.g7649.t1', 'Sc4wPfr_1043.g6724.t1', 'Sc4wPfr_1043.g6725.t1', 'Sc4wPfr_1184.g27792.t1', 'Sc4wPfr_1256.g33319.t1', 'Sc4wPfr_139.g167.t1', 'Sc4wPfr_139.g171.t1', 'Sc4wPfr_139.g171.t2', 'Sc4wPfr_1455.g22850.t1', 'Sc4wPfr_251.g2421.t1', 'Sc4wPfr_356.g7084.t1', 'Sc4wPfr_41.g30787.t1', 'Sc4wPfr_41.g30791.t1', 'Sc4wPfr_41.g30801.t1', 'Sc4wPfr_523.g16341.t1', 'Sc4wPfr_523.g16350.t1', 'Sc4wPfr_558.1.g10149.t1', 'Sc4wPfr_639.g22889.t1', 'Sc4wPfr_639.g22896.t1', 'Sc4wPfr_639.g22901.t1', 'Sc4wPfr_74.g18539.t1', 'NV2t020059001.1']\n",
      "['Sc4wPfr_950.g24049.t1', 'NV2t008777001.1', 'NV2t008777002.1', 'NV2t008777003.1', 'NV2t008777004.1', 'NV2t008777005.1', 'NV2t021151002.1', 'NV2t021151003.1', 'NV2t021158001.1', 'NV2t021158002.1', 'NV2t021158003.1', 'NV2t021158004.1', 'NV2t021158007.1', 'NV2t021158008.1', 'NV2t021158009.1', 'NV2t021158010.1', 'NV2t021158011.1', 'NV2t021158012.1', 'NV2t021158014.1', 'NV2t021158019.1', 'NV2t021160001.1', 'NV2t021211001.1', 'NV2t021214001.1']\n"
     ]
    },
    {
     "name": "stderr",
     "output_type": "stream",
     "text": [
      "C:\\Users\\gideon.b\\AppData\\Local\\Temp\\ipykernel_3796\\3167065733.py:89: FutureWarning: The default dtype for empty Series will be 'object' instead of 'float64' in a future version. Specify a dtype explicitly to silence this warning.\n",
      "  legend = pandas.Series(legend).sort_index()\n"
     ]
    },
    {
     "name": "stdout",
     "output_type": "stream",
     "text": [
      "['NV2t000566001.1', 'NV2t001244001.1', 'NV2t001979001.1', 'NV2t001985001.1', 'NV2t002696001.1', 'NV2t002698001.1', 'NV2t002698002.1', 'NV2t004753001.1', 'NV2t007282001.1', 'NV2t007283001.1', 'NV2t007825001.1', 'NV2t011749001.1', 'NV2t011749002.1', 'NV2t011749003.1', 'NV2t012033003.1', 'NV2t012033004.1', 'NV2t012033005.1', 'NV2t012036001.1', 'NV2t015588001.1', 'NV2t022910001.1']\n"
     ]
    },
    {
     "name": "stderr",
     "output_type": "stream",
     "text": [
      "C:\\Users\\gideon.b\\AppData\\Local\\Temp\\ipykernel_3796\\3167065733.py:89: FutureWarning: The default dtype for empty Series will be 'object' instead of 'float64' in a future version. Specify a dtype explicitly to silence this warning.\n",
      "  legend = pandas.Series(legend).sort_index()\n",
      "C:\\Users\\gideon.b\\AppData\\Local\\Temp\\ipykernel_3796\\3167065733.py:89: FutureWarning: The default dtype for empty Series will be 'object' instead of 'float64' in a future version. Specify a dtype explicitly to silence this warning.\n",
      "  legend = pandas.Series(legend).sort_index()\n"
     ]
    },
    {
     "name": "stdout",
     "output_type": "stream",
     "text": [
      "['Sc4wPfr_1505.3.g13299.t1', 'Sc4wPfr_1524.g28047.t1', 'Sc4wPfr_1809.g17092.t1', 'Sc4wPfr_25.1.g8831.t1', 'Sc4wPfr_25.1.g8831.t2', 'Sc4wPfr_25.1.g8831.t3', 'Sc4wPfr_262.g16769.t1', 'Sc4wPfr_262.g16769.t2', 'Sc4wPfr_262.g16769.t3', 'Sc4wPfr_262.g16769.t4', 'Sc4wPfr_417.3.g31858.t1', 'Sc4wPfr_417.3.g31858.t2', 'Sc4wPfr_417.3.g31858.t3', 'Sc4wPfr_417.3.g31859.t1', 'Sc4wPfr_417.3.g31861.t1', 'Sc4wPfr_417.3.g31861.t2', 'Sc4wPfr_464.g3794.t1', 'Sc4wPfr_896.g13030.t1', 'Sc4wPfr_896.g13030.t2']\n",
      "['NV2t019798001.1', 'NV2t019801001.1', 'NV2t019803001.1', 'NV2t019803002.1', 'NV2t019805001.1', 'NV2t019805002.1', 'NV2t019805003.1', 'NV2t019805004.1', 'NV2t019805005.1', 'NV2t019805006.1', 'NV2t019805007.1', 'NV2t019805008.1', 'NV2t019805009.1', 'NV2t019810001.1', 'NV2t019810002.1', 'NV2t019810003.1', 'NV2t019810004.1', 'NV2t019811001.1']\n",
      "['NV2t011903001.1', 'NV2t011904001.1', 'NV2t011904002.1', 'NV2t011904003.1', 'NV2t011904004.1', 'NV2t011904005.1', 'NV2t011904006.1', 'NV2t011904007.1', 'NV2t011904008.1', 'NV2t011904009.1', 'NV2t011904010.1', 'NV2t011904012.1', 'NV2t011904013.1', 'NV2t011904014.1', 'NV2t011904015.1', 'NV2t011904016.1', 'NV2t023645001.1']\n"
     ]
    },
    {
     "name": "stderr",
     "output_type": "stream",
     "text": [
      "C:\\Users\\gideon.b\\AppData\\Local\\Temp\\ipykernel_3796\\3167065733.py:89: FutureWarning: The default dtype for empty Series will be 'object' instead of 'float64' in a future version. Specify a dtype explicitly to silence this warning.\n",
      "  legend = pandas.Series(legend).sort_index()\n",
      "C:\\Users\\gideon.b\\AppData\\Local\\Temp\\ipykernel_3796\\3167065733.py:89: FutureWarning: The default dtype for empty Series will be 'object' instead of 'float64' in a future version. Specify a dtype explicitly to silence this warning.\n",
      "  legend = pandas.Series(legend).sort_index()\n",
      "C:\\Users\\gideon.b\\AppData\\Local\\Temp\\ipykernel_3796\\3167065733.py:89: FutureWarning: The default dtype for empty Series will be 'object' instead of 'float64' in a future version. Specify a dtype explicitly to silence this warning.\n",
      "  legend = pandas.Series(legend).sort_index()\n"
     ]
    },
    {
     "name": "stdout",
     "output_type": "stream",
     "text": [
      "['Sc4wPfr_1386.g7458.t1', 'Sc4wPfr_328.2.g12067.t1', 'Sc4wPfr_328.2.g12068.t1', 'Sc4wPfr_328.2.g12098.t1', 'Sc4wPfr_33.g25265.t1', 'Sc4wPfr_3985.g5905.t1', 'Sc4wPfr_536.g2744.t1', 'Sc4wPfr_605.g30691.t1', 'Sc4wPfr_73.g11545.t1', 'Sc4wPfr_73.g11546.t1', 'Sc4wPfr_73.g11553.t1', 'Sc4wPfr_807.g11632.t1', 'Sc4wPfr_807.g11633.t1', 'Sc4wPfr_807.g11635.t1', 'NV2t017467001.1', 'NV2t017535001.1']\n",
      "['Sc4wPfr_100.g17108.t1', 'Sc4wPfr_1061.g18798.t1', 'Sc4wPfr_1151.2.g25207.t1', 'Sc4wPfr_149.g26112.t4', 'Sc4wPfr_1630.1.g20728.t1', 'Sc4wPfr_1630.1.g20728.t2', 'Sc4wPfr_439.g20823.t1', 'Sc4wPfr_439.g20824.t1', 'Sc4wPfr_508.g5857.t1', 'Sc4wPfr_508.g5897.t1', 'Sc4wPfr_529.g10439.t1', 'Sc4wPfr_625.g7778.t1', 'Sc4wPfr_625.g7793.t1', 'Sc4wPfr_707.1.g4183.t1', 'Sc4wPfr_962.g23745.t1', 'NV2t021307001.1']\n",
      "['NV2t014072001.1', 'NV2t014073001.1', 'NV2t014075001.1', 'NV2t014076001.1', 'NV2t014079001.1', 'NV2t014080001.1', 'NV2t014082001.1', 'NV2t014083001.1', 'NV2t014084001.1', 'NV2t014085001.1', 'NV2t014086001.1', 'NV2t014087001.1', 'NV2t014088001.1', 'NV2t014089001.1', 'NV2t014090001.1', 'NV2t014946001.1']\n"
     ]
    },
    {
     "name": "stderr",
     "output_type": "stream",
     "text": [
      "C:\\Users\\gideon.b\\AppData\\Local\\Temp\\ipykernel_3796\\3167065733.py:89: FutureWarning: The default dtype for empty Series will be 'object' instead of 'float64' in a future version. Specify a dtype explicitly to silence this warning.\n",
      "  legend = pandas.Series(legend).sort_index()\n",
      "C:\\Users\\gideon.b\\AppData\\Local\\Temp\\ipykernel_3796\\3167065733.py:89: FutureWarning: The default dtype for empty Series will be 'object' instead of 'float64' in a future version. Specify a dtype explicitly to silence this warning.\n",
      "  legend = pandas.Series(legend).sort_index()\n"
     ]
    },
    {
     "name": "stdout",
     "output_type": "stream",
     "text": [
      "['NV2t020616001.1', 'NV2t020616002.1', 'NV2t020616003.1', 'NV2t020616004.1', 'NV2t020616005.1', 'NV2t020616006.1', 'NV2t020616007.1', 'NV2t020616008.1', 'NV2t020616009.1', 'NV2t020616010.1', 'NV2t020616011.1', 'NV2t020616012.1', 'NV2t020616013.1', 'NV2t020616014.1', 'NV2t020616015.1', 'NV2t020616016.1']\n"
     ]
    },
    {
     "name": "stderr",
     "output_type": "stream",
     "text": [
      "C:\\Users\\gideon.b\\AppData\\Local\\Temp\\ipykernel_3796\\3167065733.py:89: FutureWarning: The default dtype for empty Series will be 'object' instead of 'float64' in a future version. Specify a dtype explicitly to silence this warning.\n",
      "  legend = pandas.Series(legend).sort_index()\n",
      "C:\\Users\\gideon.b\\AppData\\Local\\Temp\\ipykernel_3796\\3167065733.py:89: FutureWarning: The default dtype for empty Series will be 'object' instead of 'float64' in a future version. Specify a dtype explicitly to silence this warning.\n",
      "  legend = pandas.Series(legend).sort_index()\n"
     ]
    },
    {
     "name": "stdout",
     "output_type": "stream",
     "text": [
      "['Sc4wPfr_1132.1.g15918.t1', 'Sc4wPfr_1135.g33195.t1', 'Sc4wPfr_1341.g27124.t1', 'Sc4wPfr_139.g154.t1', 'Sc4wPfr_158.2.g10585.t1', 'Sc4wPfr_175.1.g31515.t1', 'Sc4wPfr_1832.g26057.t1', 'Sc4wPfr_221.g17479.t1', 'Sc4wPfr_266.1.g14683.t1', 'Sc4wPfr_266.2.g14192.t1', 'Sc4wPfr_266.2.g14193.t1', 'Sc4wPfr_287.2.g28268.t1', 'Sc4wPfr_3819.g26519.t1', 'Sc4wPfr_4718.g12029.t1', 'Sc4wPfr_570.1.g2596.t1']\n",
      "['Sc4wPfr_105.g16652.t1', 'Sc4wPfr_105.g16653.t1', 'Sc4wPfr_165.g10056.t1', 'Sc4wPfr_178.g10680.t1', 'Sc4wPfr_178.g10681.t1', 'Sc4wPfr_178.g10682.t1', 'Sc4wPfr_20.g15630.t1', 'Sc4wPfr_20.g15631.t1', 'Sc4wPfr_20.g15632.t1', 'Sc4wPfr_20.g15634.t1', 'Sc4wPfr_326.1.g26774.t1', 'Sc4wPfr_758.g3710.t1', 'Sc4wPfr_758.g3710.t2', 'Sc4wPfr_758.g3710.t3', 'NV2t021870001.1']\n",
      "['Sc4wPfr_1197.g23997.t1', 'Sc4wPfr_1341.g27131.t1', 'Sc4wPfr_206.g8647.t1', 'Sc4wPfr_206.g8647.t2', 'Sc4wPfr_320.1.g20941.t1', 'Sc4wPfr_320.1.g20941.t2', 'Sc4wPfr_320.1.g20944.t1', 'Sc4wPfr_455.g20372.t1', 'Sc4wPfr_455.g20372.t2', 'Sc4wPfr_455.g20372.t3', 'Sc4wPfr_68.2.g16399.t1', 'Sc4wPfr_68.2.g16408.t1', 'NV2t013189001.1', 'NV2t013189002.1']\n"
     ]
    },
    {
     "name": "stderr",
     "output_type": "stream",
     "text": [
      "C:\\Users\\gideon.b\\AppData\\Local\\Temp\\ipykernel_3796\\3167065733.py:89: FutureWarning: The default dtype for empty Series will be 'object' instead of 'float64' in a future version. Specify a dtype explicitly to silence this warning.\n",
      "  legend = pandas.Series(legend).sort_index()\n",
      "C:\\Users\\gideon.b\\AppData\\Local\\Temp\\ipykernel_3796\\3167065733.py:89: FutureWarning: The default dtype for empty Series will be 'object' instead of 'float64' in a future version. Specify a dtype explicitly to silence this warning.\n",
      "  legend = pandas.Series(legend).sort_index()\n"
     ]
    },
    {
     "name": "stdout",
     "output_type": "stream",
     "text": [
      "['Sc4wPfr_1101.2.g9328.t1', 'Sc4wPfr_1101.2.g9346.t1', 'Sc4wPfr_149.g26095.t1', 'Sc4wPfr_207.g3877.t1', 'Sc4wPfr_207.g3877.t2', 'Sc4wPfr_207.g3878.t1', 'Sc4wPfr_661.g19804.t1', 'Sc4wPfr_787.g23200.t1', 'Sc4wPfr_787.g23207.t1', 'Sc4wPfr_787.g23209.t1', 'Sc4wPfr_787.g23222.t1', 'Sc4wPfr_787.g23222.t2', 'Sc4wPfr_787.g23222.t3']\n",
      "['Sc4wPfr_1121.g1250.t1', 'Sc4wPfr_1121.g1259.t1', 'Sc4wPfr_1121.g1259.t2', 'Sc4wPfr_320.1.g20943.t1', 'Sc4wPfr_4706.g9306.t1', 'Sc4wPfr_4706.g9306.t2', 'Sc4wPfr_498.g10897.t1', 'Sc4wPfr_498.g10897.t2', 'Sc4wPfr_708.g2577.t1', 'Sc4wPfr_722.g33108.t1', 'Sc4wPfr_722.g33108.t2', 'Sc4wPfr_728.g2234.t1']\n"
     ]
    },
    {
     "name": "stderr",
     "output_type": "stream",
     "text": [
      "C:\\Users\\gideon.b\\AppData\\Local\\Temp\\ipykernel_3796\\3167065733.py:89: FutureWarning: The default dtype for empty Series will be 'object' instead of 'float64' in a future version. Specify a dtype explicitly to silence this warning.\n",
      "  legend = pandas.Series(legend).sort_index()\n",
      "C:\\Users\\gideon.b\\AppData\\Local\\Temp\\ipykernel_3796\\3167065733.py:89: FutureWarning: The default dtype for empty Series will be 'object' instead of 'float64' in a future version. Specify a dtype explicitly to silence this warning.\n",
      "  legend = pandas.Series(legend).sort_index()\n"
     ]
    },
    {
     "name": "stdout",
     "output_type": "stream",
     "text": [
      "['Sc4wPfr_1135.g33190.t1', 'Sc4wPfr_1135.g33192.t1', 'Sc4wPfr_1747.g1269.t1', 'Sc4wPfr_1747.g1273.t1', 'Sc4wPfr_1747.g1275.t1', 'Sc4wPfr_1747.g1276.t1', 'Sc4wPfr_1747.g1279.t1', 'Sc4wPfr_175.1.g31517.t1', 'Sc4wPfr_175.1.g31518.t1', 'Sc4wPfr_401.1.g18725.t1', 'Sc4wPfr_45.1.g27186.t1', 'Sc4wPfr_913.g9892.t1']\n",
      "['Sc4wPfr_1101.2.g9326.t1', 'Sc4wPfr_133.g14094.t1', 'Sc4wPfr_1332.1.g9075.t1', 'Sc4wPfr_149.g26102.t1', 'Sc4wPfr_1524.1.g5096.t1', 'Sc4wPfr_1524.1.g5096.t2', 'Sc4wPfr_464.1.g13574.t1', 'Sc4wPfr_464.g3791.t1', 'Sc4wPfr_464.g3791.t2', 'Sc4wPfr_62.g4404.t1', 'Sc4wPfr_836.g27574.t1', 'Sc4wPfr_896.g13029.t1']\n"
     ]
    },
    {
     "name": "stderr",
     "output_type": "stream",
     "text": [
      "C:\\Users\\gideon.b\\AppData\\Local\\Temp\\ipykernel_3796\\3167065733.py:89: FutureWarning: The default dtype for empty Series will be 'object' instead of 'float64' in a future version. Specify a dtype explicitly to silence this warning.\n",
      "  legend = pandas.Series(legend).sort_index()\n",
      "C:\\Users\\gideon.b\\AppData\\Local\\Temp\\ipykernel_3796\\3167065733.py:89: FutureWarning: The default dtype for empty Series will be 'object' instead of 'float64' in a future version. Specify a dtype explicitly to silence this warning.\n",
      "  legend = pandas.Series(legend).sort_index()\n",
      "C:\\Users\\gideon.b\\AppData\\Local\\Temp\\ipykernel_3796\\3167065733.py:89: FutureWarning: The default dtype for empty Series will be 'object' instead of 'float64' in a future version. Specify a dtype explicitly to silence this warning.\n",
      "  legend = pandas.Series(legend).sort_index()\n"
     ]
    },
    {
     "name": "stdout",
     "output_type": "stream",
     "text": [
      "['Sc4wPfr_1272.1.g32120.t1', 'Sc4wPfr_1272.1.g32121.t1', 'Sc4wPfr_1272.g4998.t1', 'Sc4wPfr_238.g21260.t1', 'Sc4wPfr_2424.g10845.t1', 'Sc4wPfr_356.g7167.t1', 'Sc4wPfr_356.g7168.t1', 'Sc4wPfr_356.g7178.t1', 'Sc4wPfr_356.g7178.t2', 'Sc4wPfr_508.g5861.t1', 'Sc4wPfr_673.1.g28291.t1', 'Sc4wPfr_673.1.g28294.t1']\n",
      "['Sc4wPfr_1668.g26536.t1', 'Sc4wPfr_1668.g26538.t1', 'Sc4wPfr_220.g30153.t1', 'Sc4wPfr_220.g30154.t1', 'Sc4wPfr_220.g30154.t2', 'Sc4wPfr_220.g30154.t3', 'Sc4wPfr_220.g30156.t1', 'Sc4wPfr_2212.g14673.t1', 'Sc4wPfr_3073.g2180.t1', 'Sc4wPfr_39.g20554.t1', 'Sc4wPfr_39.g20554.t2']\n",
      "['Sc4wPfr_1505.3.g13301.t1', 'Sc4wPfr_1505.3.g13301.t2', 'Sc4wPfr_1682.g4293.t1', 'Sc4wPfr_1682.g4293.t2', 'Sc4wPfr_25.1.g8823.t1', 'Sc4wPfr_25.1.g8823.t2', 'Sc4wPfr_25.1.g8850.t1', 'Sc4wPfr_3735.g7452.t1', 'Sc4wPfr_417.3.g31857.t1', 'Sc4wPfr_456.g4754.t1', 'NV2t015937001.1']\n"
     ]
    },
    {
     "name": "stderr",
     "output_type": "stream",
     "text": [
      "C:\\Users\\gideon.b\\AppData\\Local\\Temp\\ipykernel_3796\\3167065733.py:89: FutureWarning: The default dtype for empty Series will be 'object' instead of 'float64' in a future version. Specify a dtype explicitly to silence this warning.\n",
      "  legend = pandas.Series(legend).sort_index()\n",
      "C:\\Users\\gideon.b\\AppData\\Local\\Temp\\ipykernel_3796\\3167065733.py:89: FutureWarning: The default dtype for empty Series will be 'object' instead of 'float64' in a future version. Specify a dtype explicitly to silence this warning.\n",
      "  legend = pandas.Series(legend).sort_index()\n"
     ]
    },
    {
     "name": "stdout",
     "output_type": "stream",
     "text": [
      "['NV2t000649001.1', 'NV2t000649002.1', 'NV2t000649003.1', 'NV2t000649004.1', 'NV2t000649005.1', 'NV2t000649006.1', 'NV2t000649007.1', 'NV2t000649008.1', 'NV2t000649009.1', 'NV2t000649010.1', 'NV2t000650001.1']\n",
      "['NV2t008259001.1', 'NV2t008259002.1', 'NV2t008259003.1', 'NV2t008259004.1', 'NV2t008259005.1', 'NV2t008259006.1', 'NV2t008259007.1', 'NV2t008259008.1', 'NV2t008259009.1', 'NV2t008259010.1', 'NV2t008259011.1']\n"
     ]
    },
    {
     "name": "stderr",
     "output_type": "stream",
     "text": [
      "C:\\Users\\gideon.b\\AppData\\Local\\Temp\\ipykernel_3796\\3167065733.py:89: FutureWarning: The default dtype for empty Series will be 'object' instead of 'float64' in a future version. Specify a dtype explicitly to silence this warning.\n",
      "  legend = pandas.Series(legend).sort_index()\n",
      "C:\\Users\\gideon.b\\AppData\\Local\\Temp\\ipykernel_3796\\3167065733.py:89: FutureWarning: The default dtype for empty Series will be 'object' instead of 'float64' in a future version. Specify a dtype explicitly to silence this warning.\n",
      "  legend = pandas.Series(legend).sort_index()\n"
     ]
    },
    {
     "name": "stdout",
     "output_type": "stream",
     "text": [
      "['NV2t005960001.1', 'NV2t005962001.1', 'NV2t015698001.1', 'NV2t015715001.1', 'NV2t015716001.1', 'NV2t022909001.1', 'NV2t023171001.1', 'NV2t023650001.1', 'NV2t023765001.1', 'NV2t023776001.1']\n"
     ]
    },
    {
     "name": "stderr",
     "output_type": "stream",
     "text": [
      "C:\\Users\\gideon.b\\AppData\\Local\\Temp\\ipykernel_3796\\3167065733.py:89: FutureWarning: The default dtype for empty Series will be 'object' instead of 'float64' in a future version. Specify a dtype explicitly to silence this warning.\n",
      "  legend = pandas.Series(legend).sort_index()\n",
      "C:\\Users\\gideon.b\\AppData\\Local\\Temp\\ipykernel_3796\\3167065733.py:89: FutureWarning: The default dtype for empty Series will be 'object' instead of 'float64' in a future version. Specify a dtype explicitly to silence this warning.\n",
      "  legend = pandas.Series(legend).sort_index()\n"
     ]
    },
    {
     "name": "stdout",
     "output_type": "stream",
     "text": [
      "['NV2t009553001.1', 'NV2t010017001.1', 'NV2t010018001.1', 'NV2t010019001.1', 'NV2t010551001.1', 'NV2t010983001.1', 'NV2t016607001.1', 'NV2t019715001.1', 'NV2t020559001.1', 'NV2t020560001.1']\n",
      "['NV2t021902001.1', 'NV2t021902002.1', 'NV2t021902003.1', 'NV2t021902004.1', 'NV2t021902005.1', 'NV2t021902006.1', 'NV2t021902007.1', 'NV2t021902008.1', 'NV2t021902009.1', 'NV2t021902010.1']\n"
     ]
    },
    {
     "name": "stderr",
     "output_type": "stream",
     "text": [
      "C:\\Users\\gideon.b\\AppData\\Local\\Temp\\ipykernel_3796\\3167065733.py:89: FutureWarning: The default dtype for empty Series will be 'object' instead of 'float64' in a future version. Specify a dtype explicitly to silence this warning.\n",
      "  legend = pandas.Series(legend).sort_index()\n",
      "C:\\Users\\gideon.b\\AppData\\Local\\Temp\\ipykernel_3796\\3167065733.py:89: FutureWarning: The default dtype for empty Series will be 'object' instead of 'float64' in a future version. Specify a dtype explicitly to silence this warning.\n",
      "  legend = pandas.Series(legend).sort_index()\n"
     ]
    },
    {
     "name": "stdout",
     "output_type": "stream",
     "text": [
      "['Sc4wPfr_1591.g30593.t1', 'Sc4wPfr_296.g32333.t1', 'Sc4wPfr_319.1.g3958.t1', 'Sc4wPfr_4788.g25221.t1', 'Sc4wPfr_759.g27667.t1', 'Sc4wPfr_846.g26711.t2', 'Sc4wPfr_854.g18423.t1', 'Sc4wPfr_854.g18426.t1', 'Sc4wPfr_854.g18433.t1']\n",
      "['Sc4wPfr_1280.g11902.t1', 'Sc4wPfr_133.g14070.t1', 'Sc4wPfr_1651.g14062.t1', 'Sc4wPfr_33.g25281.t1', 'Sc4wPfr_388.1.g10239.t1', 'Sc4wPfr_68.2.g16398.t1', 'Sc4wPfr_68.2.g16409.t1', 'Sc4wPfr_817.g25356.t1', 'Sc4wPfr_817.g25358.t1']\n"
     ]
    },
    {
     "name": "stderr",
     "output_type": "stream",
     "text": [
      "C:\\Users\\gideon.b\\AppData\\Local\\Temp\\ipykernel_3796\\3167065733.py:89: FutureWarning: The default dtype for empty Series will be 'object' instead of 'float64' in a future version. Specify a dtype explicitly to silence this warning.\n",
      "  legend = pandas.Series(legend).sort_index()\n",
      "C:\\Users\\gideon.b\\AppData\\Local\\Temp\\ipykernel_3796\\3167065733.py:89: FutureWarning: The default dtype for empty Series will be 'object' instead of 'float64' in a future version. Specify a dtype explicitly to silence this warning.\n",
      "  legend = pandas.Series(legend).sort_index()\n"
     ]
    },
    {
     "name": "stdout",
     "output_type": "stream",
     "text": [
      "['NV2t000836001.1', 'NV2t000837002.1', 'NV2t000837003.1', 'NV2t000837004.1', 'NV2t000837005.1', 'NV2t000839001.1', 'NV2t000839003.1', 'NV2t000840001.1', 'NV2t000844001.1']\n",
      "['NV2t007052001.1', 'NV2t007278001.1', 'NV2t008834002.1', 'NV2t008836001.1', 'NV2t008854001.1', 'NV2t008860001.1', 'NV2t008863001.1', 'NV2t008870003.1', 'NV2t008870004.1']\n",
      "['Sc4wPfr_1147.g1444.t1', 'Sc4wPfr_1147.g1444.t2', 'Sc4wPfr_212.1.g3811.t1', 'Sc4wPfr_212.1.g3812.t1', 'Sc4wPfr_212.1.g3813.t1', 'Sc4wPfr_212.1.g3837.t1', 'Sc4wPfr_2514.g19379.t1', 'Sc4wPfr_779.2.g19103.t1']\n"
     ]
    },
    {
     "name": "stderr",
     "output_type": "stream",
     "text": [
      "C:\\Users\\gideon.b\\AppData\\Local\\Temp\\ipykernel_3796\\3167065733.py:89: FutureWarning: The default dtype for empty Series will be 'object' instead of 'float64' in a future version. Specify a dtype explicitly to silence this warning.\n",
      "  legend = pandas.Series(legend).sort_index()\n",
      "C:\\Users\\gideon.b\\AppData\\Local\\Temp\\ipykernel_3796\\3167065733.py:89: FutureWarning: The default dtype for empty Series will be 'object' instead of 'float64' in a future version. Specify a dtype explicitly to silence this warning.\n",
      "  legend = pandas.Series(legend).sort_index()\n",
      "C:\\Users\\gideon.b\\AppData\\Local\\Temp\\ipykernel_3796\\3167065733.py:89: FutureWarning: The default dtype for empty Series will be 'object' instead of 'float64' in a future version. Specify a dtype explicitly to silence this warning.\n",
      "  legend = pandas.Series(legend).sort_index()\n",
      "C:\\Users\\gideon.b\\AppData\\Local\\Temp\\ipykernel_3796\\3167065733.py:89: FutureWarning: The default dtype for empty Series will be 'object' instead of 'float64' in a future version. Specify a dtype explicitly to silence this warning.\n",
      "  legend = pandas.Series(legend).sort_index()\n",
      "C:\\Users\\gideon.b\\AppData\\Local\\Temp\\ipykernel_3796\\3167065733.py:89: FutureWarning: The default dtype for empty Series will be 'object' instead of 'float64' in a future version. Specify a dtype explicitly to silence this warning.\n",
      "  legend = pandas.Series(legend).sort_index()\n"
     ]
    },
    {
     "name": "stdout",
     "output_type": "stream",
     "text": [
      "['Sc4wPfr_324.1.g5459.t1', 'Sc4wPfr_324.1.g5462.t1', 'Sc4wPfr_324.1.g5466.t1', 'Sc4wPfr_324.1.g5483.t1', 'Sc4wPfr_756.g14124.t1', 'Sc4wPfr_756.g14124.t2', 'Sc4wPfr_756.g14124.t3', 'Sc4wPfr_881.1.g15578.t1']\n",
      "['Sc4wPfr_165.g10030.t1', 'Sc4wPfr_39.g20459.t1', 'Sc4wPfr_519.g18006.t1', 'Sc4wPfr_811.1.g17372.t1', 'Sc4wPfr_850.1.g5744.t1', 'Sc4wPfr_850.1.g5744.t2', 'Sc4wPfr_850.1.g5748.t1', 'Sc4wPfr_909.g33476.t1']\n",
      "['Sc4wPfr_455.g20378.t1', 'NV2t013732001.1', 'NV2t013732002.1', 'NV2t013732003.1', 'NV2t013732004.1', 'NV2t013732005.1', 'NV2t013732006.1', 'NV2t013732007.1']\n",
      "['Sc4wPfr_106.g23594.t1', 'NV2t022495001.1', 'NV2t022495002.1', 'NV2t022495003.1', 'NV2t022495004.1', 'NV2t022495005.1', 'NV2t022495006.1', 'NV2t022495007.1']\n"
     ]
    },
    {
     "name": "stderr",
     "output_type": "stream",
     "text": [
      "C:\\Users\\gideon.b\\AppData\\Local\\Temp\\ipykernel_3796\\3167065733.py:89: FutureWarning: The default dtype for empty Series will be 'object' instead of 'float64' in a future version. Specify a dtype explicitly to silence this warning.\n",
      "  legend = pandas.Series(legend).sort_index()\n",
      "C:\\Users\\gideon.b\\AppData\\Local\\Temp\\ipykernel_3796\\3167065733.py:89: FutureWarning: The default dtype for empty Series will be 'object' instead of 'float64' in a future version. Specify a dtype explicitly to silence this warning.\n",
      "  legend = pandas.Series(legend).sort_index()\n"
     ]
    },
    {
     "name": "stdout",
     "output_type": "stream",
     "text": [
      "['NV2t000628001.1', 'NV2t000903001.1', 'NV2t000903002.1', 'NV2t000903003.1', 'NV2t000907001.1', 'NV2t000907002.1', 'NV2t001994001.1', 'NV2t003321001.1']\n",
      "['NV2t002562001.1', 'NV2t002571001.1', 'NV2t007502001.1', 'NV2t015921001.1', 'NV2t017941001.1', 'NV2t020131001.1', 'NV2t021788001.1', 'NV2t022026001.1']\n",
      "['NV2t003687001.1', 'NV2t003687002.1', 'NV2t003689001.1', 'NV2t003689002.1', 'NV2t003689003.1', 'NV2t003689004.1', 'NV2t003689005.1', 'NV2t003958001.1']\n"
     ]
    },
    {
     "name": "stderr",
     "output_type": "stream",
     "text": [
      "C:\\Users\\gideon.b\\AppData\\Local\\Temp\\ipykernel_3796\\3167065733.py:89: FutureWarning: The default dtype for empty Series will be 'object' instead of 'float64' in a future version. Specify a dtype explicitly to silence this warning.\n",
      "  legend = pandas.Series(legend).sort_index()\n",
      "C:\\Users\\gideon.b\\AppData\\Local\\Temp\\ipykernel_3796\\3167065733.py:89: FutureWarning: The default dtype for empty Series will be 'object' instead of 'float64' in a future version. Specify a dtype explicitly to silence this warning.\n",
      "  legend = pandas.Series(legend).sort_index()\n",
      "C:\\Users\\gideon.b\\AppData\\Local\\Temp\\ipykernel_3796\\3167065733.py:89: FutureWarning: The default dtype for empty Series will be 'object' instead of 'float64' in a future version. Specify a dtype explicitly to silence this warning.\n",
      "  legend = pandas.Series(legend).sort_index()\n"
     ]
    },
    {
     "name": "stdout",
     "output_type": "stream",
     "text": [
      "['NV2t006411001.1', 'NV2t008000001.1', 'NV2t019957001.1', 'NV2t020124001.1', 'NV2t020124002.1', 'NV2t020124003.1', 'NV2t020124004.1', 'NV2t020124005.1']\n",
      "['NV2t007792001.1', 'NV2t007793001.1', 'NV2t011760001.1', 'NV2t012169001.1', 'NV2t022622001.1', 'NV2t022624001.1', 'NV2t022626001.1', 'NV2t022627001.1']\n",
      "['NV2t020522001.1', 'NV2t020522002.1', 'NV2t020522003.1', 'NV2t020522004.1', 'NV2t020522005.1', 'NV2t020522006.1', 'NV2t020522007.1', 'NV2t020522008.1']\n"
     ]
    },
    {
     "name": "stderr",
     "output_type": "stream",
     "text": [
      "C:\\Users\\gideon.b\\AppData\\Local\\Temp\\ipykernel_3796\\3167065733.py:89: FutureWarning: The default dtype for empty Series will be 'object' instead of 'float64' in a future version. Specify a dtype explicitly to silence this warning.\n",
      "  legend = pandas.Series(legend).sort_index()\n",
      "C:\\Users\\gideon.b\\AppData\\Local\\Temp\\ipykernel_3796\\3167065733.py:89: FutureWarning: The default dtype for empty Series will be 'object' instead of 'float64' in a future version. Specify a dtype explicitly to silence this warning.\n",
      "  legend = pandas.Series(legend).sort_index()\n"
     ]
    },
    {
     "name": "stdout",
     "output_type": "stream",
     "text": [
      "['Sc4wPfr_1047.g795.t1', 'Sc4wPfr_1408.g9077.t1', 'Sc4wPfr_1735.g18208.t1', 'Sc4wPfr_1735.g18208.t2', 'Sc4wPfr_59.2.g12532.t1', 'Sc4wPfr_59.2.g12532.t2', 'NV2t000077001.1']\n",
      "['Sc4wPfr_1061.g18797.t1', 'Sc4wPfr_1120.g5090.t1', 'Sc4wPfr_1120.g5091.t1', 'Sc4wPfr_728.g2222.t1', 'Sc4wPfr_728.g2226.t1', 'Sc4wPfr_728.g2235.t1', 'NV2t002216004.1']\n",
      "['Sc4wPfr_27.g12214.t1', 'Sc4wPfr_62.g4389.t1', 'Sc4wPfr_62.g4390.t1', 'Sc4wPfr_62.g4397.t1', 'Sc4wPfr_62.g4402.t1', 'Sc4wPfr_62.g4402.t2', 'Sc4wPfr_62.g4403.t1']\n"
     ]
    },
    {
     "name": "stderr",
     "output_type": "stream",
     "text": [
      "C:\\Users\\gideon.b\\AppData\\Local\\Temp\\ipykernel_3796\\3167065733.py:89: FutureWarning: The default dtype for empty Series will be 'object' instead of 'float64' in a future version. Specify a dtype explicitly to silence this warning.\n",
      "  legend = pandas.Series(legend).sort_index()\n",
      "C:\\Users\\gideon.b\\AppData\\Local\\Temp\\ipykernel_3796\\3167065733.py:89: FutureWarning: The default dtype for empty Series will be 'object' instead of 'float64' in a future version. Specify a dtype explicitly to silence this warning.\n",
      "  legend = pandas.Series(legend).sort_index()\n",
      "C:\\Users\\gideon.b\\AppData\\Local\\Temp\\ipykernel_3796\\3167065733.py:89: FutureWarning: The default dtype for empty Series will be 'object' instead of 'float64' in a future version. Specify a dtype explicitly to silence this warning.\n",
      "  legend = pandas.Series(legend).sort_index()\n"
     ]
    },
    {
     "name": "stdout",
     "output_type": "stream",
     "text": [
      "['Sc4wPfr_330.g6850.t1', 'NV2t021903001.1', 'NV2t021903002.1', 'NV2t021903003.1', 'NV2t021903004.1', 'NV2t021904001.1', 'NV2t021905001.1']\n",
      "['Sc4wPfr_545.g26029.t1', 'Sc4wPfr_706.1.g24906.t1', 'Sc4wPfr_706.1.g24907.t1', 'Sc4wPfr_706.1.g24917.t1', 'Sc4wPfr_706.2.g7977.t1', 'NV2t020474001.1', 'NV2t020474002.1']\n",
      "['Sc4wPfr_124.g12364.t1', 'Sc4wPfr_1302.g27905.t1', 'NV2t008679001.1', 'NV2t010370001.1', 'NV2t010398001.1', 'NV2t010398002.1', 'NV2t013001001.1']\n"
     ]
    },
    {
     "name": "stderr",
     "output_type": "stream",
     "text": [
      "C:\\Users\\gideon.b\\AppData\\Local\\Temp\\ipykernel_3796\\3167065733.py:89: FutureWarning: The default dtype for empty Series will be 'object' instead of 'float64' in a future version. Specify a dtype explicitly to silence this warning.\n",
      "  legend = pandas.Series(legend).sort_index()\n",
      "C:\\Users\\gideon.b\\AppData\\Local\\Temp\\ipykernel_3796\\3167065733.py:89: FutureWarning: The default dtype for empty Series will be 'object' instead of 'float64' in a future version. Specify a dtype explicitly to silence this warning.\n",
      "  legend = pandas.Series(legend).sort_index()\n",
      "C:\\Users\\gideon.b\\AppData\\Local\\Temp\\ipykernel_3796\\3167065733.py:89: FutureWarning: The default dtype for empty Series will be 'object' instead of 'float64' in a future version. Specify a dtype explicitly to silence this warning.\n",
      "  legend = pandas.Series(legend).sort_index()\n"
     ]
    },
    {
     "name": "stdout",
     "output_type": "stream",
     "text": [
      "['Sc4wPfr_287.2.g28262.t1', 'NV2t003611001.1', 'NV2t003611002.1', 'NV2t003611003.1', 'NV2t003611004.1', 'NV2t003611005.1', 'NV2t003611006.1']\n",
      "['NV2t000361001.1', 'NV2t000361002.1', 'NV2t000361003.1', 'NV2t000361004.1', 'NV2t000361005.1', 'NV2t000361006.1', 'NV2t018115001.1']\n",
      "['NV2t002216001.1', 'NV2t002216002.1', 'NV2t002216003.1', 'NV2t005727001.1', 'NV2t009302001.1', 'NV2t009305001.1', 'NV2t009359001.1']\n"
     ]
    },
    {
     "name": "stderr",
     "output_type": "stream",
     "text": [
      "C:\\Users\\gideon.b\\AppData\\Local\\Temp\\ipykernel_3796\\3167065733.py:89: FutureWarning: The default dtype for empty Series will be 'object' instead of 'float64' in a future version. Specify a dtype explicitly to silence this warning.\n",
      "  legend = pandas.Series(legend).sort_index()\n",
      "C:\\Users\\gideon.b\\AppData\\Local\\Temp\\ipykernel_3796\\3167065733.py:89: FutureWarning: The default dtype for empty Series will be 'object' instead of 'float64' in a future version. Specify a dtype explicitly to silence this warning.\n",
      "  legend = pandas.Series(legend).sort_index()\n",
      "C:\\Users\\gideon.b\\AppData\\Local\\Temp\\ipykernel_3796\\3167065733.py:89: FutureWarning: The default dtype for empty Series will be 'object' instead of 'float64' in a future version. Specify a dtype explicitly to silence this warning.\n",
      "  legend = pandas.Series(legend).sort_index()\n"
     ]
    },
    {
     "name": "stdout",
     "output_type": "stream",
     "text": [
      "['NV2t009601001.1', 'NV2t009601002.1', 'NV2t009601003.1', 'NV2t011326001.1', 'NV2t011326002.1', 'NV2t011326003.1', 'NV2t011326004.1']\n",
      "['NV2t010348002.1', 'NV2t010348003.1', 'NV2t010348004.1', 'NV2t010348005.1', 'NV2t010348007.1', 'NV2t010348008.1', 'NV2t010348010.1']\n",
      "['NV2t013270001.1', 'NV2t014294001.1', 'NV2t019861001.1', 'NV2t019863002.1', 'NV2t019864001.1', 'NV2t019866001.1', 'NV2t019940001.1']\n"
     ]
    },
    {
     "name": "stderr",
     "output_type": "stream",
     "text": [
      "C:\\Users\\gideon.b\\AppData\\Local\\Temp\\ipykernel_3796\\3167065733.py:89: FutureWarning: The default dtype for empty Series will be 'object' instead of 'float64' in a future version. Specify a dtype explicitly to silence this warning.\n",
      "  legend = pandas.Series(legend).sort_index()\n",
      "C:\\Users\\gideon.b\\AppData\\Local\\Temp\\ipykernel_3796\\3167065733.py:89: FutureWarning: The default dtype for empty Series will be 'object' instead of 'float64' in a future version. Specify a dtype explicitly to silence this warning.\n",
      "  legend = pandas.Series(legend).sort_index()\n",
      "C:\\Users\\gideon.b\\AppData\\Local\\Temp\\ipykernel_3796\\3167065733.py:89: FutureWarning: The default dtype for empty Series will be 'object' instead of 'float64' in a future version. Specify a dtype explicitly to silence this warning.\n",
      "  legend = pandas.Series(legend).sort_index()\n"
     ]
    },
    {
     "name": "stdout",
     "output_type": "stream",
     "text": [
      "['NV2t014043001.1', 'NV2t014046001.1', 'NV2t014046002.1', 'NV2t014046003.1', 'NV2t014046004.1', 'NV2t014046005.1', 'NV2t014046006.1']\n"
     ]
    },
    {
     "name": "stderr",
     "output_type": "stream",
     "text": [
      "C:\\Users\\gideon.b\\AppData\\Local\\Temp\\ipykernel_3796\\3167065733.py:89: FutureWarning: The default dtype for empty Series will be 'object' instead of 'float64' in a future version. Specify a dtype explicitly to silence this warning.\n",
      "  legend = pandas.Series(legend).sort_index()\n",
      "C:\\Users\\gideon.b\\AppData\\Local\\Temp\\ipykernel_3796\\3167065733.py:89: FutureWarning: The default dtype for empty Series will be 'object' instead of 'float64' in a future version. Specify a dtype explicitly to silence this warning.\n",
      "  legend = pandas.Series(legend).sort_index()\n"
     ]
    },
    {
     "name": "stdout",
     "output_type": "stream",
     "text": [
      "['Sc4wPfr_133.g14104.t1', 'Sc4wPfr_133.g14105.t1', 'Sc4wPfr_133.g14105.t2', 'Sc4wPfr_320.g1239.t1', 'Sc4wPfr_825.g15298.t1', 'Sc4wPfr_825.g15298.t2']\n",
      "['Sc4wPfr_320.g1240.t2', 'Sc4wPfr_320.g1240.t3', 'Sc4wPfr_320.g1240.t4', 'Sc4wPfr_320.g1248.t1', 'Sc4wPfr_612.g18610.t1', 'Sc4wPfr_728.g2220.t1']\n",
      "['Sc4wPfr_2890.g12845.t1', 'Sc4wPfr_728.g2223.t1', 'Sc4wPfr_73.g11552.t1', 'Sc4wPfr_760.g24158.t1', 'Sc4wPfr_760.g24159.t1', 'Sc4wPfr_760.g24168.t1']\n",
      "['Sc4wPfr_1335.g31178.t1', 'Sc4wPfr_1335.g31178.t2', 'Sc4wPfr_337.g3787.t1', 'Sc4wPfr_337.g3787.t3', 'Sc4wPfr_769.g16484.t1', 'NV2t020944001.1']\n"
     ]
    },
    {
     "name": "stderr",
     "output_type": "stream",
     "text": [
      "C:\\Users\\gideon.b\\AppData\\Local\\Temp\\ipykernel_3796\\3167065733.py:89: FutureWarning: The default dtype for empty Series will be 'object' instead of 'float64' in a future version. Specify a dtype explicitly to silence this warning.\n",
      "  legend = pandas.Series(legend).sort_index()\n",
      "C:\\Users\\gideon.b\\AppData\\Local\\Temp\\ipykernel_3796\\3167065733.py:89: FutureWarning: The default dtype for empty Series will be 'object' instead of 'float64' in a future version. Specify a dtype explicitly to silence this warning.\n",
      "  legend = pandas.Series(legend).sort_index()\n",
      "C:\\Users\\gideon.b\\AppData\\Local\\Temp\\ipykernel_3796\\3167065733.py:89: FutureWarning: The default dtype for empty Series will be 'object' instead of 'float64' in a future version. Specify a dtype explicitly to silence this warning.\n",
      "  legend = pandas.Series(legend).sort_index()\n",
      "C:\\Users\\gideon.b\\AppData\\Local\\Temp\\ipykernel_3796\\3167065733.py:89: FutureWarning: The default dtype for empty Series will be 'object' instead of 'float64' in a future version. Specify a dtype explicitly to silence this warning.\n",
      "  legend = pandas.Series(legend).sort_index()\n"
     ]
    },
    {
     "name": "stdout",
     "output_type": "stream",
     "text": [
      "['Sc4wPfr_156.1.g4115.t1', 'Sc4wPfr_156.1.g4115.t2', 'Sc4wPfr_156.g13795.t1', 'NV2t010407001.1', 'NV2t011320001.1', 'NV2t021526001.1']\n",
      "['Sc4wPfr_247.g24220.t1', 'Sc4wPfr_456.g4753.t1', 'Sc4wPfr_545.g26039.t1', 'Sc4wPfr_545.g26039.t2', 'Sc4wPfr_545.g26039.t3', 'Sc4wPfr_545.g26039.t4']\n",
      "['Sc4wPfr_1120.g5078.t1', 'Sc4wPfr_1152.g30263.t1', 'Sc4wPfr_180.g11697.t1', 'Sc4wPfr_759.g27673.t1', 'Sc4wPfr_795.1.g12164.t1', 'Sc4wPfr_795.1.g12164.t2']\n",
      "['Sc4wPfr_1138.g31307.t1', 'Sc4wPfr_1138.g31307.t2', 'Sc4wPfr_324.1.g5430.t1', 'Sc4wPfr_324.1.g5430.t2', 'Sc4wPfr_601.1.g27500.t1', 'Sc4wPfr_601.1.g27500.t2']\n"
     ]
    },
    {
     "name": "stderr",
     "output_type": "stream",
     "text": [
      "C:\\Users\\gideon.b\\AppData\\Local\\Temp\\ipykernel_3796\\3167065733.py:89: FutureWarning: The default dtype for empty Series will be 'object' instead of 'float64' in a future version. Specify a dtype explicitly to silence this warning.\n",
      "  legend = pandas.Series(legend).sort_index()\n",
      "C:\\Users\\gideon.b\\AppData\\Local\\Temp\\ipykernel_3796\\3167065733.py:89: FutureWarning: The default dtype for empty Series will be 'object' instead of 'float64' in a future version. Specify a dtype explicitly to silence this warning.\n",
      "  legend = pandas.Series(legend).sort_index()\n",
      "C:\\Users\\gideon.b\\AppData\\Local\\Temp\\ipykernel_3796\\3167065733.py:89: FutureWarning: The default dtype for empty Series will be 'object' instead of 'float64' in a future version. Specify a dtype explicitly to silence this warning.\n",
      "  legend = pandas.Series(legend).sort_index()\n",
      "C:\\Users\\gideon.b\\AppData\\Local\\Temp\\ipykernel_3796\\3167065733.py:89: FutureWarning: The default dtype for empty Series will be 'object' instead of 'float64' in a future version. Specify a dtype explicitly to silence this warning.\n",
      "  legend = pandas.Series(legend).sort_index()\n",
      "C:\\Users\\gideon.b\\AppData\\Local\\Temp\\ipykernel_3796\\3167065733.py:89: FutureWarning: The default dtype for empty Series will be 'object' instead of 'float64' in a future version. Specify a dtype explicitly to silence this warning.\n",
      "  legend = pandas.Series(legend).sort_index()\n"
     ]
    },
    {
     "name": "stdout",
     "output_type": "stream",
     "text": [
      "['Sc4wPfr_177.1.g6165.t1', 'Sc4wPfr_192.g30630.t1', 'Sc4wPfr_192.g30639.t1', 'Sc4wPfr_192.g30647.t1', 'NV2t013745005.1', 'NV2t013749001.1']\n",
      "['Sc4wPfr_1544.1.g13563.t1', 'Sc4wPfr_1544.g6780.t1', 'Sc4wPfr_475.g8808.t1', 'Sc4wPfr_56.g24483.t1', 'Sc4wPfr_611.g15300.t1', 'Sc4wPfr_611.g15300.t2']\n",
      "['Sc4wPfr_100.g17110.t1', 'Sc4wPfr_1630.1.g20734.t1', 'Sc4wPfr_1630.1.g20734.t2', 'Sc4wPfr_1849.g7450.t1', 'Sc4wPfr_1968.g26006.t1', 'Sc4wPfr_52.g22737.t1']\n",
      "['Sc4wPfr_1360.g9379.t1', 'Sc4wPfr_1360.g9385.t1', 'NV2t000128001.1', 'NV2t000128002.1', 'NV2t000128003.1', 'NV2t000128004.1']\n",
      "['Sc4wPfr_328.2.g12077.t1', 'NV2t007734001.1', 'NV2t007734002.1', 'NV2t007734003.1', 'NV2t007734004.1', 'NV2t007734005.1']\n"
     ]
    },
    {
     "name": "stderr",
     "output_type": "stream",
     "text": [
      "C:\\Users\\gideon.b\\AppData\\Local\\Temp\\ipykernel_3796\\3167065733.py:89: FutureWarning: The default dtype for empty Series will be 'object' instead of 'float64' in a future version. Specify a dtype explicitly to silence this warning.\n",
      "  legend = pandas.Series(legend).sort_index()\n",
      "C:\\Users\\gideon.b\\AppData\\Local\\Temp\\ipykernel_3796\\3167065733.py:89: FutureWarning: The default dtype for empty Series will be 'object' instead of 'float64' in a future version. Specify a dtype explicitly to silence this warning.\n",
      "  legend = pandas.Series(legend).sort_index()\n",
      "C:\\Users\\gideon.b\\AppData\\Local\\Temp\\ipykernel_3796\\3167065733.py:89: FutureWarning: The default dtype for empty Series will be 'object' instead of 'float64' in a future version. Specify a dtype explicitly to silence this warning.\n",
      "  legend = pandas.Series(legend).sort_index()\n"
     ]
    },
    {
     "name": "stdout",
     "output_type": "stream",
     "text": [
      "['Sc4wPfr_304.2.g12749.t1', 'Sc4wPfr_555.g27157.t1', 'NV2t006892001.1', 'NV2t006892002.1', 'NV2t006892003.1', 'NV2t006892004.1']\n",
      "['Sc4wPfr_483.g14182.t1', 'NV2t004933001.1', 'NV2t004933002.1', 'NV2t004933003.1', 'NV2t004933004.1', 'NV2t004933006.1']\n"
     ]
    },
    {
     "name": "stderr",
     "output_type": "stream",
     "text": [
      "C:\\Users\\gideon.b\\AppData\\Local\\Temp\\ipykernel_3796\\3167065733.py:89: FutureWarning: The default dtype for empty Series will be 'object' instead of 'float64' in a future version. Specify a dtype explicitly to silence this warning.\n",
      "  legend = pandas.Series(legend).sort_index()\n",
      "C:\\Users\\gideon.b\\AppData\\Local\\Temp\\ipykernel_3796\\3167065733.py:89: FutureWarning: The default dtype for empty Series will be 'object' instead of 'float64' in a future version. Specify a dtype explicitly to silence this warning.\n",
      "  legend = pandas.Series(legend).sort_index()\n"
     ]
    },
    {
     "name": "stdout",
     "output_type": "stream",
     "text": [
      "['Sc4wPfr_132.g22649.t1', 'NV2t000988001.1', 'NV2t000988002.1', 'NV2t000988003.1', 'NV2t000988004.1', 'NV2t000988005.1']\n",
      "['Sc4wPfr_113.1.g28340.t1', 'NV2t013356001.1', 'NV2t013356002.1', 'NV2t013356003.1', 'NV2t013356004.1', 'NV2t013356005.1']\n",
      "['Sc4wPfr_1107.1.g29893.t1', 'NV2t006919001.1', 'NV2t014163001.1', 'NV2t017270001.1', 'NV2t022153001.1', 'NV2t022153002.1']\n"
     ]
    },
    {
     "name": "stderr",
     "output_type": "stream",
     "text": [
      "C:\\Users\\gideon.b\\AppData\\Local\\Temp\\ipykernel_3796\\3167065733.py:89: FutureWarning: The default dtype for empty Series will be 'object' instead of 'float64' in a future version. Specify a dtype explicitly to silence this warning.\n",
      "  legend = pandas.Series(legend).sort_index()\n",
      "C:\\Users\\gideon.b\\AppData\\Local\\Temp\\ipykernel_3796\\3167065733.py:89: FutureWarning: The default dtype for empty Series will be 'object' instead of 'float64' in a future version. Specify a dtype explicitly to silence this warning.\n",
      "  legend = pandas.Series(legend).sort_index()\n",
      "C:\\Users\\gideon.b\\AppData\\Local\\Temp\\ipykernel_3796\\3167065733.py:89: FutureWarning: The default dtype for empty Series will be 'object' instead of 'float64' in a future version. Specify a dtype explicitly to silence this warning.\n",
      "  legend = pandas.Series(legend).sort_index()\n"
     ]
    },
    {
     "name": "stdout",
     "output_type": "stream",
     "text": [
      "['NV2t000702001.1', 'NV2t000702002.1', 'NV2t000702003.1', 'NV2t000702004.1', 'NV2t000702005.1', 'NV2t000702006.1']\n",
      "['NV2t000855001.1', 'NV2t000856001.1', 'NV2t000857001.1', 'NV2t000858001.1', 'NV2t000859001.1', 'NV2t000861001.1']\n"
     ]
    },
    {
     "name": "stderr",
     "output_type": "stream",
     "text": [
      "C:\\Users\\gideon.b\\AppData\\Local\\Temp\\ipykernel_3796\\3167065733.py:89: FutureWarning: The default dtype for empty Series will be 'object' instead of 'float64' in a future version. Specify a dtype explicitly to silence this warning.\n",
      "  legend = pandas.Series(legend).sort_index()\n",
      "C:\\Users\\gideon.b\\AppData\\Local\\Temp\\ipykernel_3796\\3167065733.py:89: FutureWarning: The default dtype for empty Series will be 'object' instead of 'float64' in a future version. Specify a dtype explicitly to silence this warning.\n",
      "  legend = pandas.Series(legend).sort_index()\n",
      "C:\\Users\\gideon.b\\AppData\\Local\\Temp\\ipykernel_3796\\3167065733.py:89: FutureWarning: The default dtype for empty Series will be 'object' instead of 'float64' in a future version. Specify a dtype explicitly to silence this warning.\n",
      "  legend = pandas.Series(legend).sort_index()\n"
     ]
    },
    {
     "name": "stdout",
     "output_type": "stream",
     "text": [
      "['NV2t001783001.1', 'NV2t001783002.1', 'NV2t001783003.1', 'NV2t001783004.1', 'NV2t001783005.1', 'NV2t001783006.1']\n",
      "['NV2t004783001.1', 'NV2t004783002.1', 'NV2t004783003.1', 'NV2t006127001.1', 'NV2t006127002.1', 'NV2t006191001.1']\n",
      "['NV2t006709001.1', 'NV2t012970001.1', 'NV2t013734001.1', 'NV2t013734002.1', 'NV2t015168001.1', 'NV2t022635001.1']\n",
      "['NV2t010225001.1', 'NV2t010352002.1', 'NV2t010352003.1', 'NV2t010352005.1', 'NV2t010352006.1', 'NV2t010352007.1']\n"
     ]
    },
    {
     "name": "stderr",
     "output_type": "stream",
     "text": [
      "C:\\Users\\gideon.b\\AppData\\Local\\Temp\\ipykernel_3796\\3167065733.py:89: FutureWarning: The default dtype for empty Series will be 'object' instead of 'float64' in a future version. Specify a dtype explicitly to silence this warning.\n",
      "  legend = pandas.Series(legend).sort_index()\n",
      "C:\\Users\\gideon.b\\AppData\\Local\\Temp\\ipykernel_3796\\3167065733.py:89: FutureWarning: The default dtype for empty Series will be 'object' instead of 'float64' in a future version. Specify a dtype explicitly to silence this warning.\n",
      "  legend = pandas.Series(legend).sort_index()\n",
      "C:\\Users\\gideon.b\\AppData\\Local\\Temp\\ipykernel_3796\\3167065733.py:89: FutureWarning: The default dtype for empty Series will be 'object' instead of 'float64' in a future version. Specify a dtype explicitly to silence this warning.\n",
      "  legend = pandas.Series(legend).sort_index()\n"
     ]
    },
    {
     "name": "stdout",
     "output_type": "stream",
     "text": [
      "['NV2t011433001.1', 'NV2t011433002.1', 'NV2t011433003.1', 'NV2t011433004.1', 'NV2t011433005.1', 'NV2t011433006.1']\n",
      "['NV2t013250001.1', 'NV2t013250002.1', 'NV2t013250003.1', 'NV2t013250004.1', 'NV2t013250005.1', 'NV2t013250006.1']\n",
      "['NV2t015230001.1', 'NV2t019992001.1', 'NV2t019996001.1', 'NV2t020167001.1', 'NV2t022463001.1', 'NV2t022463002.1']\n"
     ]
    },
    {
     "name": "stderr",
     "output_type": "stream",
     "text": [
      "C:\\Users\\gideon.b\\AppData\\Local\\Temp\\ipykernel_3796\\3167065733.py:89: FutureWarning: The default dtype for empty Series will be 'object' instead of 'float64' in a future version. Specify a dtype explicitly to silence this warning.\n",
      "  legend = pandas.Series(legend).sort_index()\n",
      "C:\\Users\\gideon.b\\AppData\\Local\\Temp\\ipykernel_3796\\3167065733.py:89: FutureWarning: The default dtype for empty Series will be 'object' instead of 'float64' in a future version. Specify a dtype explicitly to silence this warning.\n",
      "  legend = pandas.Series(legend).sort_index()\n",
      "C:\\Users\\gideon.b\\AppData\\Local\\Temp\\ipykernel_3796\\3167065733.py:89: FutureWarning: The default dtype for empty Series will be 'object' instead of 'float64' in a future version. Specify a dtype explicitly to silence this warning.\n",
      "  legend = pandas.Series(legend).sort_index()\n"
     ]
    },
    {
     "name": "stdout",
     "output_type": "stream",
     "text": [
      "['NV2t021828001.1', 'NV2t022783001.1', 'NV2t022783002.1', 'NV2t022783003.1', 'NV2t022783004.1', 'NV2t022783005.1']\n",
      "['NV2t021994001.1', 'NV2t021994002.1', 'NV2t021994003.1', 'NV2t021994004.1', 'NV2t021994005.1', 'NV2t021994006.1']\n"
     ]
    },
    {
     "name": "stderr",
     "output_type": "stream",
     "text": [
      "C:\\Users\\gideon.b\\AppData\\Local\\Temp\\ipykernel_3796\\3167065733.py:89: FutureWarning: The default dtype for empty Series will be 'object' instead of 'float64' in a future version. Specify a dtype explicitly to silence this warning.\n",
      "  legend = pandas.Series(legend).sort_index()\n",
      "C:\\Users\\gideon.b\\AppData\\Local\\Temp\\ipykernel_3796\\3167065733.py:89: FutureWarning: The default dtype for empty Series will be 'object' instead of 'float64' in a future version. Specify a dtype explicitly to silence this warning.\n",
      "  legend = pandas.Series(legend).sort_index()\n",
      "C:\\Users\\gideon.b\\AppData\\Local\\Temp\\ipykernel_3796\\3167065733.py:89: FutureWarning: The default dtype for empty Series will be 'object' instead of 'float64' in a future version. Specify a dtype explicitly to silence this warning.\n",
      "  legend = pandas.Series(legend).sort_index()\n",
      "C:\\Users\\gideon.b\\AppData\\Local\\Temp\\ipykernel_3796\\3167065733.py:89: FutureWarning: The default dtype for empty Series will be 'object' instead of 'float64' in a future version. Specify a dtype explicitly to silence this warning.\n",
      "  legend = pandas.Series(legend).sort_index()\n"
     ]
    },
    {
     "name": "stdout",
     "output_type": "stream",
     "text": [
      "['NV2t023494001.1', 'NV2t023494002.1', 'NV2t023494003.1', 'NV2t023494004.1', 'NV2t023494005.1', 'NV2t023495001.1']\n",
      "['Sc4wPfr_144.1.g11748.t1', 'Sc4wPfr_388.1.g10244.t1', 'Sc4wPfr_6.1.g597.t1', 'Sc4wPfr_6.1.g597.t2', 'NV2t008369001.1']\n",
      "['Sc4wPfr_1101.2.g9317.t1', 'Sc4wPfr_320.g1232.t1', 'Sc4wPfr_320.g1232.t2', 'Sc4wPfr_518.1.g1315.t1', 'Sc4wPfr_706.2.g7987.t1']\n",
      "['Sc4wPfr_1121.g1256.t1', 'Sc4wPfr_280.1.g15535.t1', 'Sc4wPfr_280.1.g15535.t2', 'Sc4wPfr_498.g10896.t1', 'Sc4wPfr_708.g2580.t1']\n",
      "['Sc4wPfr_1375.g21975.t1', 'Sc4wPfr_1375.g21975.t2', 'Sc4wPfr_45.g3365.t1', 'NV2t005624002.1', 'NV2t005624003.1']\n"
     ]
    },
    {
     "name": "stderr",
     "output_type": "stream",
     "text": [
      "C:\\Users\\gideon.b\\AppData\\Local\\Temp\\ipykernel_3796\\3167065733.py:89: FutureWarning: The default dtype for empty Series will be 'object' instead of 'float64' in a future version. Specify a dtype explicitly to silence this warning.\n",
      "  legend = pandas.Series(legend).sort_index()\n",
      "C:\\Users\\gideon.b\\AppData\\Local\\Temp\\ipykernel_3796\\3167065733.py:89: FutureWarning: The default dtype for empty Series will be 'object' instead of 'float64' in a future version. Specify a dtype explicitly to silence this warning.\n",
      "  legend = pandas.Series(legend).sort_index()\n",
      "C:\\Users\\gideon.b\\AppData\\Local\\Temp\\ipykernel_3796\\3167065733.py:89: FutureWarning: The default dtype for empty Series will be 'object' instead of 'float64' in a future version. Specify a dtype explicitly to silence this warning.\n",
      "  legend = pandas.Series(legend).sort_index()\n",
      "C:\\Users\\gideon.b\\AppData\\Local\\Temp\\ipykernel_3796\\3167065733.py:89: FutureWarning: The default dtype for empty Series will be 'object' instead of 'float64' in a future version. Specify a dtype explicitly to silence this warning.\n",
      "  legend = pandas.Series(legend).sort_index()\n",
      "C:\\Users\\gideon.b\\AppData\\Local\\Temp\\ipykernel_3796\\3167065733.py:89: FutureWarning: The default dtype for empty Series will be 'object' instead of 'float64' in a future version. Specify a dtype explicitly to silence this warning.\n",
      "  legend = pandas.Series(legend).sort_index()\n",
      "C:\\Users\\gideon.b\\AppData\\Local\\Temp\\ipykernel_3796\\3167065733.py:89: FutureWarning: The default dtype for empty Series will be 'object' instead of 'float64' in a future version. Specify a dtype explicitly to silence this warning.\n",
      "  legend = pandas.Series(legend).sort_index()\n"
     ]
    },
    {
     "name": "stdout",
     "output_type": "stream",
     "text": [
      "['Sc4wPfr_248.3.g3456.t1', 'Sc4wPfr_248.3.g3460.t1', 'Sc4wPfr_248.3.g3461.t1', 'Sc4wPfr_248.3.g3461.t2', 'Sc4wPfr_622.g24277.t1']\n",
      "['Sc4wPfr_226.1.g26784.t1', 'Sc4wPfr_226.1.g26787.t1', 'Sc4wPfr_337.g3747.t1', 'Sc4wPfr_337.g3747.t2', 'Sc4wPfr_59.2.g12397.t1']\n",
      "['Sc4wPfr_1079.g4685.t1', 'Sc4wPfr_1079.g4685.t2', 'Sc4wPfr_236.g17569.t2', 'Sc4wPfr_236.g17569.t3', 'Sc4wPfr_236.g17571.t1']\n",
      "['Sc4wPfr_390.g5598.t1', 'Sc4wPfr_390.g5599.t1', 'Sc4wPfr_390.g5599.t2', 'Sc4wPfr_390.g5600.t1', 'Sc4wPfr_390.g5609.t1']\n",
      "['Sc4wPfr_177.1.g6139.t1', 'Sc4wPfr_177.1.g6145.t1', 'Sc4wPfr_177.1.g6146.t1', 'NV2t017422001.1', 'NV2t017429003.1']\n",
      "['Sc4wPfr_1051.1.g21192.t1', 'Sc4wPfr_1777.g6707.t1', 'Sc4wPfr_247.g24221.t1', 'Sc4wPfr_502.g33755.t1', 'NV2t016433001.1']\n",
      "['Sc4wPfr_1898.g7944.t1', 'Sc4wPfr_443.2.g30192.t1', 'Sc4wPfr_854.g18494.t1', 'Sc4wPfr_854.g18495.t1', 'Sc4wPfr_854.g18495.t2']\n"
     ]
    },
    {
     "name": "stderr",
     "output_type": "stream",
     "text": [
      "C:\\Users\\gideon.b\\AppData\\Local\\Temp\\ipykernel_3796\\3167065733.py:89: FutureWarning: The default dtype for empty Series will be 'object' instead of 'float64' in a future version. Specify a dtype explicitly to silence this warning.\n",
      "  legend = pandas.Series(legend).sort_index()\n",
      "C:\\Users\\gideon.b\\AppData\\Local\\Temp\\ipykernel_3796\\3167065733.py:89: FutureWarning: The default dtype for empty Series will be 'object' instead of 'float64' in a future version. Specify a dtype explicitly to silence this warning.\n",
      "  legend = pandas.Series(legend).sort_index()\n",
      "C:\\Users\\gideon.b\\AppData\\Local\\Temp\\ipykernel_3796\\3167065733.py:89: FutureWarning: The default dtype for empty Series will be 'object' instead of 'float64' in a future version. Specify a dtype explicitly to silence this warning.\n",
      "  legend = pandas.Series(legend).sort_index()\n",
      "C:\\Users\\gideon.b\\AppData\\Local\\Temp\\ipykernel_3796\\3167065733.py:89: FutureWarning: The default dtype for empty Series will be 'object' instead of 'float64' in a future version. Specify a dtype explicitly to silence this warning.\n",
      "  legend = pandas.Series(legend).sort_index()\n",
      "C:\\Users\\gideon.b\\AppData\\Local\\Temp\\ipykernel_3796\\3167065733.py:89: FutureWarning: The default dtype for empty Series will be 'object' instead of 'float64' in a future version. Specify a dtype explicitly to silence this warning.\n",
      "  legend = pandas.Series(legend).sort_index()\n"
     ]
    },
    {
     "name": "stdout",
     "output_type": "stream",
     "text": [
      "['Sc4wPfr_649.g10296.t1', 'Sc4wPfr_649.g10299.t1', 'Sc4wPfr_649.g10301.t1', 'NV2t002779001.1', 'NV2t003671001.1']\n",
      "['Sc4wPfr_297.g13145.t1', 'NV2t010172001.1', 'NV2t010172002.1', 'NV2t010172003.1', 'NV2t010172004.1']\n",
      "['Sc4wPfr_169.g29116.t1', 'Sc4wPfr_169.g29119.t1', 'Sc4wPfr_2145.g14585.t1', 'Sc4wPfr_2145.g14586.t1', 'Sc4wPfr_2145.g14589.t1']\n",
      "['Sc4wPfr_399.2.g14795.t1', 'Sc4wPfr_399.2.g14795.t2', 'NV2t023886001.1', 'NV2t023886002.1', 'NV2t023886003.1']\n",
      "['Sc4wPfr_455.g20399.t1', 'NV2t013883001.1', 'NV2t013883002.1', 'NV2t013883003.1', 'NV2t013883004.1']\n"
     ]
    },
    {
     "name": "stderr",
     "output_type": "stream",
     "text": [
      "C:\\Users\\gideon.b\\AppData\\Local\\Temp\\ipykernel_3796\\3167065733.py:89: FutureWarning: The default dtype for empty Series will be 'object' instead of 'float64' in a future version. Specify a dtype explicitly to silence this warning.\n",
      "  legend = pandas.Series(legend).sort_index()\n",
      "C:\\Users\\gideon.b\\AppData\\Local\\Temp\\ipykernel_3796\\3167065733.py:89: FutureWarning: The default dtype for empty Series will be 'object' instead of 'float64' in a future version. Specify a dtype explicitly to silence this warning.\n",
      "  legend = pandas.Series(legend).sort_index()\n",
      "C:\\Users\\gideon.b\\AppData\\Local\\Temp\\ipykernel_3796\\3167065733.py:89: FutureWarning: The default dtype for empty Series will be 'object' instead of 'float64' in a future version. Specify a dtype explicitly to silence this warning.\n",
      "  legend = pandas.Series(legend).sort_index()\n",
      "C:\\Users\\gideon.b\\AppData\\Local\\Temp\\ipykernel_3796\\3167065733.py:89: FutureWarning: The default dtype for empty Series will be 'object' instead of 'float64' in a future version. Specify a dtype explicitly to silence this warning.\n",
      "  legend = pandas.Series(legend).sort_index()\n"
     ]
    },
    {
     "name": "stdout",
     "output_type": "stream",
     "text": [
      "['Sc4wPfr_565.g22063.t1', 'NV2t001123002.1', 'NV2t001123003.1', 'NV2t001123004.1', 'NV2t001123005.1']\n",
      "['Sc4wPfr_366.g23782.t1', 'Sc4wPfr_366.g23785.t1', 'Sc4wPfr_366.g23793.t1', 'Sc4wPfr_366.g23795.t1', 'Sc4wPfr_366.g23795.t2']\n",
      "['Sc4wPfr_950.g24012.t2', 'NV2t005196003.1', 'NV2t005196004.1', 'NV2t005199001.1', 'NV2t005199002.1']\n",
      "['Sc4wPfr_2081.g25302.t1', 'Sc4wPfr_360.g26642.t1', 'Sc4wPfr_360.g26645.t1', 'Sc4wPfr_360.g26645.t2', 'Sc4wPfr_360.g26645.t3']\n",
      "['Sc4wPfr_954.g27082.t1', 'NV2t017495001.1', 'NV2t017495002.1', 'NV2t017495003.1', 'NV2t017495004.1']\n"
     ]
    },
    {
     "name": "stderr",
     "output_type": "stream",
     "text": [
      "C:\\Users\\gideon.b\\AppData\\Local\\Temp\\ipykernel_3796\\3167065733.py:89: FutureWarning: The default dtype for empty Series will be 'object' instead of 'float64' in a future version. Specify a dtype explicitly to silence this warning.\n",
      "  legend = pandas.Series(legend).sort_index()\n",
      "C:\\Users\\gideon.b\\AppData\\Local\\Temp\\ipykernel_3796\\3167065733.py:89: FutureWarning: The default dtype for empty Series will be 'object' instead of 'float64' in a future version. Specify a dtype explicitly to silence this warning.\n",
      "  legend = pandas.Series(legend).sort_index()\n",
      "C:\\Users\\gideon.b\\AppData\\Local\\Temp\\ipykernel_3796\\3167065733.py:89: FutureWarning: The default dtype for empty Series will be 'object' instead of 'float64' in a future version. Specify a dtype explicitly to silence this warning.\n",
      "  legend = pandas.Series(legend).sort_index()\n",
      "C:\\Users\\gideon.b\\AppData\\Local\\Temp\\ipykernel_3796\\3167065733.py:89: FutureWarning: The default dtype for empty Series will be 'object' instead of 'float64' in a future version. Specify a dtype explicitly to silence this warning.\n",
      "  legend = pandas.Series(legend).sort_index()\n",
      "C:\\Users\\gideon.b\\AppData\\Local\\Temp\\ipykernel_3796\\3167065733.py:89: FutureWarning: The default dtype for empty Series will be 'object' instead of 'float64' in a future version. Specify a dtype explicitly to silence this warning.\n",
      "  legend = pandas.Series(legend).sort_index()\n"
     ]
    },
    {
     "name": "stdout",
     "output_type": "stream",
     "text": [
      "['Sc4wPfr_282.g29638.t1', 'Sc4wPfr_282.g29638.t2', 'Sc4wPfr_282.g29638.t3', 'Sc4wPfr_282.g29638.t4', 'Sc4wPfr_282.g29638.t5']\n",
      "['NV2t000576001.1', 'NV2t000592001.1', 'NV2t000599001.1', 'NV2t000599002.1', 'NV2t022319001.1']\n"
     ]
    },
    {
     "name": "stderr",
     "output_type": "stream",
     "text": [
      "C:\\Users\\gideon.b\\AppData\\Local\\Temp\\ipykernel_3796\\3167065733.py:89: FutureWarning: The default dtype for empty Series will be 'object' instead of 'float64' in a future version. Specify a dtype explicitly to silence this warning.\n",
      "  legend = pandas.Series(legend).sort_index()\n",
      "C:\\Users\\gideon.b\\AppData\\Local\\Temp\\ipykernel_3796\\3167065733.py:89: FutureWarning: The default dtype for empty Series will be 'object' instead of 'float64' in a future version. Specify a dtype explicitly to silence this warning.\n",
      "  legend = pandas.Series(legend).sort_index()\n",
      "C:\\Users\\gideon.b\\AppData\\Local\\Temp\\ipykernel_3796\\3167065733.py:89: FutureWarning: The default dtype for empty Series will be 'object' instead of 'float64' in a future version. Specify a dtype explicitly to silence this warning.\n",
      "  legend = pandas.Series(legend).sort_index()\n"
     ]
    },
    {
     "name": "stdout",
     "output_type": "stream",
     "text": [
      "['NV2t000782001.1', 'NV2t000782002.1', 'NV2t000782003.1', 'NV2t000782005.1', 'NV2t001090001.1']\n",
      "['NV2t001101001.1', 'NV2t007430001.1', 'NV2t007778001.1', 'NV2t007778002.1', 'NV2t018171001.1']\n",
      "['NV2t002361001.1', 'NV2t002361002.1', 'NV2t002361003.1', 'NV2t002361004.1', 'NV2t002364001.1']\n",
      "['NV2t003157001.1', 'NV2t003946001.1', 'NV2t003946002.1', 'NV2t003951001.1', 'NV2t003951002.1']\n"
     ]
    },
    {
     "name": "stderr",
     "output_type": "stream",
     "text": [
      "C:\\Users\\gideon.b\\AppData\\Local\\Temp\\ipykernel_3796\\3167065733.py:89: FutureWarning: The default dtype for empty Series will be 'object' instead of 'float64' in a future version. Specify a dtype explicitly to silence this warning.\n",
      "  legend = pandas.Series(legend).sort_index()\n",
      "C:\\Users\\gideon.b\\AppData\\Local\\Temp\\ipykernel_3796\\3167065733.py:89: FutureWarning: The default dtype for empty Series will be 'object' instead of 'float64' in a future version. Specify a dtype explicitly to silence this warning.\n",
      "  legend = pandas.Series(legend).sort_index()\n",
      "C:\\Users\\gideon.b\\AppData\\Local\\Temp\\ipykernel_3796\\3167065733.py:89: FutureWarning: The default dtype for empty Series will be 'object' instead of 'float64' in a future version. Specify a dtype explicitly to silence this warning.\n",
      "  legend = pandas.Series(legend).sort_index()\n",
      "C:\\Users\\gideon.b\\AppData\\Local\\Temp\\ipykernel_3796\\3167065733.py:89: FutureWarning: The default dtype for empty Series will be 'object' instead of 'float64' in a future version. Specify a dtype explicitly to silence this warning.\n",
      "  legend = pandas.Series(legend).sort_index()\n"
     ]
    },
    {
     "name": "stdout",
     "output_type": "stream",
     "text": [
      "['NV2t005003001.1', 'NV2t005003003.1', 'NV2t005004001.1', 'NV2t006245001.1', 'NV2t010397002.1']\n",
      "['NV2t005141001.1', 'NV2t005141002.1', 'NV2t005141003.1', 'NV2t005141004.1', 'NV2t005141005.1']\n",
      "['NV2t006476001.1', 'NV2t023229001.1', 'NV2t023229002.1', 'NV2t023229003.1', 'NV2t023230001.1']\n"
     ]
    },
    {
     "name": "stderr",
     "output_type": "stream",
     "text": [
      "C:\\Users\\gideon.b\\AppData\\Local\\Temp\\ipykernel_3796\\3167065733.py:89: FutureWarning: The default dtype for empty Series will be 'object' instead of 'float64' in a future version. Specify a dtype explicitly to silence this warning.\n",
      "  legend = pandas.Series(legend).sort_index()\n",
      "C:\\Users\\gideon.b\\AppData\\Local\\Temp\\ipykernel_3796\\3167065733.py:89: FutureWarning: The default dtype for empty Series will be 'object' instead of 'float64' in a future version. Specify a dtype explicitly to silence this warning.\n",
      "  legend = pandas.Series(legend).sort_index()\n",
      "C:\\Users\\gideon.b\\AppData\\Local\\Temp\\ipykernel_3796\\3167065733.py:89: FutureWarning: The default dtype for empty Series will be 'object' instead of 'float64' in a future version. Specify a dtype explicitly to silence this warning.\n",
      "  legend = pandas.Series(legend).sort_index()\n",
      "C:\\Users\\gideon.b\\AppData\\Local\\Temp\\ipykernel_3796\\3167065733.py:89: FutureWarning: The default dtype for empty Series will be 'object' instead of 'float64' in a future version. Specify a dtype explicitly to silence this warning.\n",
      "  legend = pandas.Series(legend).sort_index()\n"
     ]
    },
    {
     "name": "stdout",
     "output_type": "stream",
     "text": [
      "['NV2t009287001.1', 'NV2t009287002.1', 'NV2t009287003.1', 'NV2t009287004.1', 'NV2t009287005.1']\n",
      "['NV2t010959001.1', 'NV2t010959002.1', 'NV2t010959003.1', 'NV2t010959004.1', 'NV2t010959005.1']\n",
      "['NV2t011345001.1', 'NV2t011345002.1', 'NV2t011345003.1', 'NV2t011345004.1', 'NV2t011345005.1']\n"
     ]
    },
    {
     "name": "stderr",
     "output_type": "stream",
     "text": [
      "C:\\Users\\gideon.b\\AppData\\Local\\Temp\\ipykernel_3796\\3167065733.py:89: FutureWarning: The default dtype for empty Series will be 'object' instead of 'float64' in a future version. Specify a dtype explicitly to silence this warning.\n",
      "  legend = pandas.Series(legend).sort_index()\n",
      "C:\\Users\\gideon.b\\AppData\\Local\\Temp\\ipykernel_3796\\3167065733.py:89: FutureWarning: The default dtype for empty Series will be 'object' instead of 'float64' in a future version. Specify a dtype explicitly to silence this warning.\n",
      "  legend = pandas.Series(legend).sort_index()\n"
     ]
    },
    {
     "name": "stdout",
     "output_type": "stream",
     "text": [
      "['NV2t011419001.1', 'NV2t011419002.1', 'NV2t011419003.1', 'NV2t012206001.1', 'NV2t013460001.1']\n",
      "['NV2t014724001.1', 'NV2t014724002.1', 'NV2t014724003.1', 'NV2t014724004.1', 'NV2t014724005.1']\n"
     ]
    },
    {
     "name": "stderr",
     "output_type": "stream",
     "text": [
      "C:\\Users\\gideon.b\\AppData\\Local\\Temp\\ipykernel_3796\\3167065733.py:89: FutureWarning: The default dtype for empty Series will be 'object' instead of 'float64' in a future version. Specify a dtype explicitly to silence this warning.\n",
      "  legend = pandas.Series(legend).sort_index()\n",
      "C:\\Users\\gideon.b\\AppData\\Local\\Temp\\ipykernel_3796\\3167065733.py:89: FutureWarning: The default dtype for empty Series will be 'object' instead of 'float64' in a future version. Specify a dtype explicitly to silence this warning.\n",
      "  legend = pandas.Series(legend).sort_index()\n"
     ]
    },
    {
     "name": "stdout",
     "output_type": "stream",
     "text": [
      "['NV2t014772001.1', 'NV2t014808001.1', 'NV2t014808003.1', 'NV2t014808004.1', 'NV2t014809001.1']\n",
      "['NV2t014919001.1', 'NV2t014919002.1', 'NV2t014919003.1', 'NV2t014919004.1', 'NV2t014919005.1']\n",
      "['NV2t018394001.1', 'NV2t018394002.1', 'NV2t018394003.1', 'NV2t018394004.1', 'NV2t018394005.1']\n",
      "['NV2t019319001.1', 'NV2t019319002.1', 'NV2t019319003.1', 'NV2t019319004.1', 'NV2t019319005.1']\n",
      "['NV2t021586002.1', 'NV2t023270001.1', 'NV2t023271001.1', 'NV2t023274001.1', 'NV2t023497001.1']\n"
     ]
    },
    {
     "name": "stderr",
     "output_type": "stream",
     "text": [
      "C:\\Users\\gideon.b\\AppData\\Local\\Temp\\ipykernel_3796\\3167065733.py:89: FutureWarning: The default dtype for empty Series will be 'object' instead of 'float64' in a future version. Specify a dtype explicitly to silence this warning.\n",
      "  legend = pandas.Series(legend).sort_index()\n",
      "C:\\Users\\gideon.b\\AppData\\Local\\Temp\\ipykernel_3796\\3167065733.py:89: FutureWarning: The default dtype for empty Series will be 'object' instead of 'float64' in a future version. Specify a dtype explicitly to silence this warning.\n",
      "  legend = pandas.Series(legend).sort_index()\n",
      "C:\\Users\\gideon.b\\AppData\\Local\\Temp\\ipykernel_3796\\3167065733.py:89: FutureWarning: The default dtype for empty Series will be 'object' instead of 'float64' in a future version. Specify a dtype explicitly to silence this warning.\n",
      "  legend = pandas.Series(legend).sort_index()\n",
      "C:\\Users\\gideon.b\\AppData\\Local\\Temp\\ipykernel_3796\\3167065733.py:89: FutureWarning: The default dtype for empty Series will be 'object' instead of 'float64' in a future version. Specify a dtype explicitly to silence this warning.\n",
      "  legend = pandas.Series(legend).sort_index()\n"
     ]
    },
    {
     "name": "stdout",
     "output_type": "stream",
     "text": [
      "['NV2t022054001.1', 'NV2t022056001.1', 'NV2t022057001.1', 'NV2t022058001.1', 'NV2t022058002.1']\n",
      "['Sc4wPfr_1414.g52.t1', 'Sc4wPfr_1414.g53.t1', 'Sc4wPfr_1414.g56.t1', 'NV2t008375002.1']\n",
      "['Sc4wPfr_90.g1141.t1', 'Sc4wPfr_90.g1143.t1', 'Sc4wPfr_90.g1146.t1', 'Sc4wPfr_90.g1146.t2']\n",
      "['Sc4wPfr_1578.g16759.t1', 'Sc4wPfr_90.g1174.t1', 'NV2t022840001.1', 'NV2t022843001.1']\n"
     ]
    },
    {
     "name": "stderr",
     "output_type": "stream",
     "text": [
      "C:\\Users\\gideon.b\\AppData\\Local\\Temp\\ipykernel_3796\\3167065733.py:89: FutureWarning: The default dtype for empty Series will be 'object' instead of 'float64' in a future version. Specify a dtype explicitly to silence this warning.\n",
      "  legend = pandas.Series(legend).sort_index()\n",
      "C:\\Users\\gideon.b\\AppData\\Local\\Temp\\ipykernel_3796\\3167065733.py:89: FutureWarning: The default dtype for empty Series will be 'object' instead of 'float64' in a future version. Specify a dtype explicitly to silence this warning.\n",
      "  legend = pandas.Series(legend).sort_index()\n",
      "C:\\Users\\gideon.b\\AppData\\Local\\Temp\\ipykernel_3796\\3167065733.py:89: FutureWarning: The default dtype for empty Series will be 'object' instead of 'float64' in a future version. Specify a dtype explicitly to silence this warning.\n",
      "  legend = pandas.Series(legend).sort_index()\n",
      "C:\\Users\\gideon.b\\AppData\\Local\\Temp\\ipykernel_3796\\3167065733.py:89: FutureWarning: The default dtype for empty Series will be 'object' instead of 'float64' in a future version. Specify a dtype explicitly to silence this warning.\n",
      "  legend = pandas.Series(legend).sort_index()\n"
     ]
    },
    {
     "name": "stdout",
     "output_type": "stream",
     "text": [
      "['Sc4wPfr_125.g5658.t1', 'Sc4wPfr_1263.g1361.t1', 'Sc4wPfr_1263.g1365.t1', 'Sc4wPfr_1969.g28117.t1']\n",
      "['Sc4wPfr_1127.1.g1473.t1', 'Sc4wPfr_292.g13083.t1', 'Sc4wPfr_825.g15293.t1', 'NV2t000173001.1']\n",
      "['Sc4wPfr_172.1.g1576.t1', 'Sc4wPfr_172.1.g1576.t2', 'NV2t012498001.1', 'NV2t012498002.1']\n",
      "['Sc4wPfr_341.g33148.t3', 'Sc4wPfr_341.g33156.t1', 'Sc4wPfr_341.g33156.t2', 'Sc4wPfr_45.g3328.t1']\n",
      "['Sc4wPfr_1475.1.g4365.t1', 'Sc4wPfr_1475.g5204.t1', 'Sc4wPfr_1475.g5204.t2', 'Sc4wPfr_832.g4698.t1']\n"
     ]
    },
    {
     "name": "stderr",
     "output_type": "stream",
     "text": [
      "C:\\Users\\gideon.b\\AppData\\Local\\Temp\\ipykernel_3796\\3167065733.py:89: FutureWarning: The default dtype for empty Series will be 'object' instead of 'float64' in a future version. Specify a dtype explicitly to silence this warning.\n",
      "  legend = pandas.Series(legend).sort_index()\n",
      "C:\\Users\\gideon.b\\AppData\\Local\\Temp\\ipykernel_3796\\3167065733.py:89: FutureWarning: The default dtype for empty Series will be 'object' instead of 'float64' in a future version. Specify a dtype explicitly to silence this warning.\n",
      "  legend = pandas.Series(legend).sort_index()\n",
      "C:\\Users\\gideon.b\\AppData\\Local\\Temp\\ipykernel_3796\\3167065733.py:89: FutureWarning: The default dtype for empty Series will be 'object' instead of 'float64' in a future version. Specify a dtype explicitly to silence this warning.\n",
      "  legend = pandas.Series(legend).sort_index()\n",
      "C:\\Users\\gideon.b\\AppData\\Local\\Temp\\ipykernel_3796\\3167065733.py:89: FutureWarning: The default dtype for empty Series will be 'object' instead of 'float64' in a future version. Specify a dtype explicitly to silence this warning.\n",
      "  legend = pandas.Series(legend).sort_index()\n",
      "C:\\Users\\gideon.b\\AppData\\Local\\Temp\\ipykernel_3796\\3167065733.py:89: FutureWarning: The default dtype for empty Series will be 'object' instead of 'float64' in a future version. Specify a dtype explicitly to silence this warning.\n",
      "  legend = pandas.Series(legend).sort_index()\n"
     ]
    },
    {
     "name": "stdout",
     "output_type": "stream",
     "text": [
      "['Sc4wPfr_324.1.g5441.t1', 'Sc4wPfr_324.1.g5441.t2', 'Sc4wPfr_324.1.g5441.t3', 'NV2t020933001.1']\n",
      "['Sc4wPfr_1150.g32027.t1', 'Sc4wPfr_1150.g32029.t1', 'Sc4wPfr_125.g5654.t1', 'NV2t011511001.1']\n",
      "['Sc4wPfr_125.g5660.t1', 'NV2t012411001.1', 'NV2t012411002.1', 'NV2t012411003.1']\n",
      "['Sc4wPfr_175.g6378.t1', 'Sc4wPfr_740.1.g22478.t1', 'Sc4wPfr_977.1.g21527.t1', 'NV2t013658001.1']\n",
      "['Sc4wPfr_1228.g7352.t1', 'NV2t007812001.1', 'NV2t007812002.1', 'NV2t007812003.1']\n"
     ]
    },
    {
     "name": "stderr",
     "output_type": "stream",
     "text": [
      "C:\\Users\\gideon.b\\AppData\\Local\\Temp\\ipykernel_3796\\3167065733.py:89: FutureWarning: The default dtype for empty Series will be 'object' instead of 'float64' in a future version. Specify a dtype explicitly to silence this warning.\n",
      "  legend = pandas.Series(legend).sort_index()\n",
      "C:\\Users\\gideon.b\\AppData\\Local\\Temp\\ipykernel_3796\\3167065733.py:89: FutureWarning: The default dtype for empty Series will be 'object' instead of 'float64' in a future version. Specify a dtype explicitly to silence this warning.\n",
      "  legend = pandas.Series(legend).sort_index()\n",
      "C:\\Users\\gideon.b\\AppData\\Local\\Temp\\ipykernel_3796\\3167065733.py:89: FutureWarning: The default dtype for empty Series will be 'object' instead of 'float64' in a future version. Specify a dtype explicitly to silence this warning.\n",
      "  legend = pandas.Series(legend).sort_index()\n",
      "C:\\Users\\gideon.b\\AppData\\Local\\Temp\\ipykernel_3796\\3167065733.py:89: FutureWarning: The default dtype for empty Series will be 'object' instead of 'float64' in a future version. Specify a dtype explicitly to silence this warning.\n",
      "  legend = pandas.Series(legend).sort_index()\n",
      "C:\\Users\\gideon.b\\AppData\\Local\\Temp\\ipykernel_3796\\3167065733.py:89: FutureWarning: The default dtype for empty Series will be 'object' instead of 'float64' in a future version. Specify a dtype explicitly to silence this warning.\n",
      "  legend = pandas.Series(legend).sort_index()\n"
     ]
    },
    {
     "name": "stdout",
     "output_type": "stream",
     "text": [
      "['Sc4wPfr_44.g26893.t1', 'Sc4wPfr_582.g7536.t1', 'Sc4wPfr_582.g7542.t1', 'Sc4wPfr_833.g15091.t1']\n",
      "['Sc4wPfr_2179.g8165.t1', 'Sc4wPfr_2179.g8165.t2', 'NV2t010243001.1', 'NV2t010243002.1']\n",
      "['Sc4wPfr_3617.g9375.t1', 'Sc4wPfr_388.1.g10236.t1', 'NV2t019497001.1', 'NV2t019497002.1']\n"
     ]
    },
    {
     "name": "stderr",
     "output_type": "stream",
     "text": [
      "C:\\Users\\gideon.b\\AppData\\Local\\Temp\\ipykernel_3796\\3167065733.py:89: FutureWarning: The default dtype for empty Series will be 'object' instead of 'float64' in a future version. Specify a dtype explicitly to silence this warning.\n",
      "  legend = pandas.Series(legend).sort_index()\n",
      "C:\\Users\\gideon.b\\AppData\\Local\\Temp\\ipykernel_3796\\3167065733.py:89: FutureWarning: The default dtype for empty Series will be 'object' instead of 'float64' in a future version. Specify a dtype explicitly to silence this warning.\n",
      "  legend = pandas.Series(legend).sort_index()\n",
      "C:\\Users\\gideon.b\\AppData\\Local\\Temp\\ipykernel_3796\\3167065733.py:89: FutureWarning: The default dtype for empty Series will be 'object' instead of 'float64' in a future version. Specify a dtype explicitly to silence this warning.\n",
      "  legend = pandas.Series(legend).sort_index()\n"
     ]
    },
    {
     "name": "stdout",
     "output_type": "stream",
     "text": [
      "['Sc4wPfr_78.g10420.t1', 'NV2t005524012.1', 'NV2t005524013.1', 'NV2t005524014.1']\n",
      "['Sc4wPfr_197.g11042.t1', 'NV2t022131001.1', 'NV2t022707001.1', 'NV2t022707002.1']\n",
      "['Sc4wPfr_48.g30233.t1', 'Sc4wPfr_73.g11611.t1', 'Sc4wPfr_73.g11611.t2', 'Sc4wPfr_73.g11611.t3']\n"
     ]
    },
    {
     "name": "stderr",
     "output_type": "stream",
     "text": [
      "C:\\Users\\gideon.b\\AppData\\Local\\Temp\\ipykernel_3796\\3167065733.py:89: FutureWarning: The default dtype for empty Series will be 'object' instead of 'float64' in a future version. Specify a dtype explicitly to silence this warning.\n",
      "  legend = pandas.Series(legend).sort_index()\n",
      "C:\\Users\\gideon.b\\AppData\\Local\\Temp\\ipykernel_3796\\3167065733.py:89: FutureWarning: The default dtype for empty Series will be 'object' instead of 'float64' in a future version. Specify a dtype explicitly to silence this warning.\n",
      "  legend = pandas.Series(legend).sort_index()\n",
      "C:\\Users\\gideon.b\\AppData\\Local\\Temp\\ipykernel_3796\\3167065733.py:89: FutureWarning: The default dtype for empty Series will be 'object' instead of 'float64' in a future version. Specify a dtype explicitly to silence this warning.\n",
      "  legend = pandas.Series(legend).sort_index()\n",
      "C:\\Users\\gideon.b\\AppData\\Local\\Temp\\ipykernel_3796\\3167065733.py:89: FutureWarning: The default dtype for empty Series will be 'object' instead of 'float64' in a future version. Specify a dtype explicitly to silence this warning.\n",
      "  legend = pandas.Series(legend).sort_index()\n"
     ]
    },
    {
     "name": "stdout",
     "output_type": "stream",
     "text": [
      "['Sc4wPfr_27.g12239.t1', 'Sc4wPfr_27.g12254.t1', 'Sc4wPfr_27.g12259.t1', 'Sc4wPfr_27.g12265.t1']\n",
      "['Sc4wPfr_104.g15018.t1', 'Sc4wPfr_201.1.g33299.t1', 'Sc4wPfr_227.g25772.t1', 'Sc4wPfr_59.2.g12462.t1']\n",
      "['Sc4wPfr_264.g27424.t1', 'Sc4wPfr_264.g27426.t1', 'Sc4wPfr_264.g27426.t2', 'Sc4wPfr_59.2.g12499.t1']\n",
      "['Sc4wPfr_896.g13017.t1', 'Sc4wPfr_896.g13017.t4', 'Sc4wPfr_896.g13017.t5', 'Sc4wPfr_896.g13017.t6']\n",
      "['Sc4wPfr_597.2.g14346.t1', 'NV2t005939001.1', 'NV2t007828001.1', 'NV2t019491001.1']\n",
      "['Sc4wPfr_244.2.g15108.t1', 'Sc4wPfr_244.2.g15108.t2', 'NV2t000107001.1', 'NV2t000107002.1']\n"
     ]
    },
    {
     "name": "stderr",
     "output_type": "stream",
     "text": [
      "C:\\Users\\gideon.b\\AppData\\Local\\Temp\\ipykernel_3796\\3167065733.py:89: FutureWarning: The default dtype for empty Series will be 'object' instead of 'float64' in a future version. Specify a dtype explicitly to silence this warning.\n",
      "  legend = pandas.Series(legend).sort_index()\n",
      "C:\\Users\\gideon.b\\AppData\\Local\\Temp\\ipykernel_3796\\3167065733.py:89: FutureWarning: The default dtype for empty Series will be 'object' instead of 'float64' in a future version. Specify a dtype explicitly to silence this warning.\n",
      "  legend = pandas.Series(legend).sort_index()\n",
      "C:\\Users\\gideon.b\\AppData\\Local\\Temp\\ipykernel_3796\\3167065733.py:89: FutureWarning: The default dtype for empty Series will be 'object' instead of 'float64' in a future version. Specify a dtype explicitly to silence this warning.\n",
      "  legend = pandas.Series(legend).sort_index()\n",
      "C:\\Users\\gideon.b\\AppData\\Local\\Temp\\ipykernel_3796\\3167065733.py:89: FutureWarning: The default dtype for empty Series will be 'object' instead of 'float64' in a future version. Specify a dtype explicitly to silence this warning.\n",
      "  legend = pandas.Series(legend).sort_index()\n",
      "C:\\Users\\gideon.b\\AppData\\Local\\Temp\\ipykernel_3796\\3167065733.py:89: FutureWarning: The default dtype for empty Series will be 'object' instead of 'float64' in a future version. Specify a dtype explicitly to silence this warning.\n",
      "  legend = pandas.Series(legend).sort_index()\n",
      "C:\\Users\\gideon.b\\AppData\\Local\\Temp\\ipykernel_3796\\3167065733.py:89: FutureWarning: The default dtype for empty Series will be 'object' instead of 'float64' in a future version. Specify a dtype explicitly to silence this warning.\n",
      "  legend = pandas.Series(legend).sort_index()\n",
      "C:\\Users\\gideon.b\\AppData\\Local\\Temp\\ipykernel_3796\\3167065733.py:89: FutureWarning: The default dtype for empty Series will be 'object' instead of 'float64' in a future version. Specify a dtype explicitly to silence this warning.\n",
      "  legend = pandas.Series(legend).sort_index()\n"
     ]
    },
    {
     "name": "stdout",
     "output_type": "stream",
     "text": [
      "['Sc4wPfr_117.g15494.t1', 'Sc4wPfr_117.g15494.t2', 'Sc4wPfr_117.g15494.t3', 'NV2t012221001.1']\n",
      "['Sc4wPfr_126.2.g29235.t1', 'Sc4wPfr_243.g15582.t1', 'Sc4wPfr_243.g15584.t1', 'Sc4wPfr_381.1.g32171.t1']\n",
      "['Sc4wPfr_641.g16807.t1', 'NV2t020009001.1', 'NV2t020012001.1', 'NV2t020012002.1']\n",
      "['Sc4wPfr_789.g22427.t1', 'NV2t001391001.1', 'NV2t001391002.1', 'NV2t001391003.1']\n",
      "['Sc4wPfr_817.g25365.t1', 'NV2t003042001.1', 'NV2t003042002.1', 'NV2t003042004.1']\n"
     ]
    },
    {
     "name": "stderr",
     "output_type": "stream",
     "text": [
      "C:\\Users\\gideon.b\\AppData\\Local\\Temp\\ipykernel_3796\\3167065733.py:89: FutureWarning: The default dtype for empty Series will be 'object' instead of 'float64' in a future version. Specify a dtype explicitly to silence this warning.\n",
      "  legend = pandas.Series(legend).sort_index()\n",
      "C:\\Users\\gideon.b\\AppData\\Local\\Temp\\ipykernel_3796\\3167065733.py:89: FutureWarning: The default dtype for empty Series will be 'object' instead of 'float64' in a future version. Specify a dtype explicitly to silence this warning.\n",
      "  legend = pandas.Series(legend).sort_index()\n",
      "C:\\Users\\gideon.b\\AppData\\Local\\Temp\\ipykernel_3796\\3167065733.py:89: FutureWarning: The default dtype for empty Series will be 'object' instead of 'float64' in a future version. Specify a dtype explicitly to silence this warning.\n",
      "  legend = pandas.Series(legend).sort_index()\n",
      "C:\\Users\\gideon.b\\AppData\\Local\\Temp\\ipykernel_3796\\3167065733.py:89: FutureWarning: The default dtype for empty Series will be 'object' instead of 'float64' in a future version. Specify a dtype explicitly to silence this warning.\n",
      "  legend = pandas.Series(legend).sort_index()\n",
      "C:\\Users\\gideon.b\\AppData\\Local\\Temp\\ipykernel_3796\\3167065733.py:89: FutureWarning: The default dtype for empty Series will be 'object' instead of 'float64' in a future version. Specify a dtype explicitly to silence this warning.\n",
      "  legend = pandas.Series(legend).sort_index()\n"
     ]
    },
    {
     "name": "stdout",
     "output_type": "stream",
     "text": [
      "['Sc4wPfr_1130.g25533.t1', 'Sc4wPfr_1130.g25534.t1', 'Sc4wPfr_1130.g25539.t1', 'Sc4wPfr_1130.g25540.t1']\n",
      "['Sc4wPfr_846.1.g25657.t1', 'NV2t022863001.1', 'NV2t022863002.1', 'NV2t022863003.1']\n",
      "['Sc4wPfr_268.g25747.t1', 'Sc4wPfr_268.g25747.t2', 'Sc4wPfr_268.g25747.t3', 'Sc4wPfr_268.g25747.t4']\n",
      "['Sc4wPfr_245.g27019.t1', 'NV2t007515002.1', 'NV2t007515003.1', 'NV2t019015002.1']\n",
      "['Sc4wPfr_199.g28646.t1', 'NV2t003372001.1', 'NV2t003372002.1', 'NV2t003372003.1']\n",
      "['Sc4wPfr_520.g29387.t1', 'Sc4wPfr_520.g29387.t2', 'Sc4wPfr_520.g29387.t3', 'Sc4wPfr_520.g29387.t4']\n",
      "['Sc4wPfr_1269.g30722.t1', 'Sc4wPfr_259.g33624.t1', 'Sc4wPfr_259.g33624.t2', 'NV2t015872001.1']\n"
     ]
    },
    {
     "name": "stderr",
     "output_type": "stream",
     "text": [
      "C:\\Users\\gideon.b\\AppData\\Local\\Temp\\ipykernel_3796\\3167065733.py:89: FutureWarning: The default dtype for empty Series will be 'object' instead of 'float64' in a future version. Specify a dtype explicitly to silence this warning.\n",
      "  legend = pandas.Series(legend).sort_index()\n",
      "C:\\Users\\gideon.b\\AppData\\Local\\Temp\\ipykernel_3796\\3167065733.py:89: FutureWarning: The default dtype for empty Series will be 'object' instead of 'float64' in a future version. Specify a dtype explicitly to silence this warning.\n",
      "  legend = pandas.Series(legend).sort_index()\n",
      "C:\\Users\\gideon.b\\AppData\\Local\\Temp\\ipykernel_3796\\3167065733.py:89: FutureWarning: The default dtype for empty Series will be 'object' instead of 'float64' in a future version. Specify a dtype explicitly to silence this warning.\n",
      "  legend = pandas.Series(legend).sort_index()\n",
      "C:\\Users\\gideon.b\\AppData\\Local\\Temp\\ipykernel_3796\\3167065733.py:89: FutureWarning: The default dtype for empty Series will be 'object' instead of 'float64' in a future version. Specify a dtype explicitly to silence this warning.\n",
      "  legend = pandas.Series(legend).sort_index()\n",
      "C:\\Users\\gideon.b\\AppData\\Local\\Temp\\ipykernel_3796\\3167065733.py:89: FutureWarning: The default dtype for empty Series will be 'object' instead of 'float64' in a future version. Specify a dtype explicitly to silence this warning.\n",
      "  legend = pandas.Series(legend).sort_index()\n",
      "C:\\Users\\gideon.b\\AppData\\Local\\Temp\\ipykernel_3796\\3167065733.py:89: FutureWarning: The default dtype for empty Series will be 'object' instead of 'float64' in a future version. Specify a dtype explicitly to silence this warning.\n",
      "  legend = pandas.Series(legend).sort_index()\n"
     ]
    },
    {
     "name": "stdout",
     "output_type": "stream",
     "text": [
      "['Sc4wPfr_1269.g30737.t1', 'NV2t003067001.1', 'NV2t003067002.1', 'NV2t003067003.1']\n",
      "['Sc4wPfr_296.g32332.t1', 'NV2t019165001.1', 'NV2t019165002.1', 'NV2t019165003.1']\n",
      "['Sc4wPfr_628.g32875.t1', 'Sc4wPfr_628.g32876.t1', 'Sc4wPfr_628.g32877.t1', 'NV2t006269003.1']\n",
      "['Sc4wPfr_341.g33148.t1', 'Sc4wPfr_341.g33159.t1', 'Sc4wPfr_341.g33159.t2', 'Sc4wPfr_341.g33159.t3']\n",
      "['NV2t000021001.1', 'NV2t000021002.1', 'NV2t000021003.1', 'NV2t000027001.1']\n",
      "['NV2t000578001.1', 'NV2t000581001.1', 'NV2t000581002.1', 'NV2t000593001.1']\n"
     ]
    },
    {
     "name": "stderr",
     "output_type": "stream",
     "text": [
      "C:\\Users\\gideon.b\\AppData\\Local\\Temp\\ipykernel_3796\\3167065733.py:89: FutureWarning: The default dtype for empty Series will be 'object' instead of 'float64' in a future version. Specify a dtype explicitly to silence this warning.\n",
      "  legend = pandas.Series(legend).sort_index()\n",
      "C:\\Users\\gideon.b\\AppData\\Local\\Temp\\ipykernel_3796\\3167065733.py:89: FutureWarning: The default dtype for empty Series will be 'object' instead of 'float64' in a future version. Specify a dtype explicitly to silence this warning.\n",
      "  legend = pandas.Series(legend).sort_index()\n",
      "C:\\Users\\gideon.b\\AppData\\Local\\Temp\\ipykernel_3796\\3167065733.py:89: FutureWarning: The default dtype for empty Series will be 'object' instead of 'float64' in a future version. Specify a dtype explicitly to silence this warning.\n",
      "  legend = pandas.Series(legend).sort_index()\n",
      "C:\\Users\\gideon.b\\AppData\\Local\\Temp\\ipykernel_3796\\3167065733.py:89: FutureWarning: The default dtype for empty Series will be 'object' instead of 'float64' in a future version. Specify a dtype explicitly to silence this warning.\n",
      "  legend = pandas.Series(legend).sort_index()\n",
      "C:\\Users\\gideon.b\\AppData\\Local\\Temp\\ipykernel_3796\\3167065733.py:89: FutureWarning: The default dtype for empty Series will be 'object' instead of 'float64' in a future version. Specify a dtype explicitly to silence this warning.\n",
      "  legend = pandas.Series(legend).sort_index()\n"
     ]
    },
    {
     "name": "stdout",
     "output_type": "stream",
     "text": [
      "['NV2t000996001.1', 'NV2t001284001.1', 'NV2t001284002.1', 'NV2t001285001.1']\n",
      "['NV2t001647001.1', 'NV2t003581001.1', 'NV2t003582001.1', 'NV2t008027002.1']\n",
      "['NV2t001770001.1', 'NV2t001770002.1', 'NV2t001770003.1', 'NV2t001770004.1']\n",
      "['NV2t001922001.1', 'NV2t001922003.1', 'NV2t001922004.1', 'NV2t001922005.1']\n"
     ]
    },
    {
     "name": "stderr",
     "output_type": "stream",
     "text": [
      "C:\\Users\\gideon.b\\AppData\\Local\\Temp\\ipykernel_3796\\3167065733.py:89: FutureWarning: The default dtype for empty Series will be 'object' instead of 'float64' in a future version. Specify a dtype explicitly to silence this warning.\n",
      "  legend = pandas.Series(legend).sort_index()\n",
      "C:\\Users\\gideon.b\\AppData\\Local\\Temp\\ipykernel_3796\\3167065733.py:89: FutureWarning: The default dtype for empty Series will be 'object' instead of 'float64' in a future version. Specify a dtype explicitly to silence this warning.\n",
      "  legend = pandas.Series(legend).sort_index()\n",
      "C:\\Users\\gideon.b\\AppData\\Local\\Temp\\ipykernel_3796\\3167065733.py:89: FutureWarning: The default dtype for empty Series will be 'object' instead of 'float64' in a future version. Specify a dtype explicitly to silence this warning.\n",
      "  legend = pandas.Series(legend).sort_index()\n",
      "C:\\Users\\gideon.b\\AppData\\Local\\Temp\\ipykernel_3796\\3167065733.py:89: FutureWarning: The default dtype for empty Series will be 'object' instead of 'float64' in a future version. Specify a dtype explicitly to silence this warning.\n",
      "  legend = pandas.Series(legend).sort_index()\n",
      "C:\\Users\\gideon.b\\AppData\\Local\\Temp\\ipykernel_3796\\3167065733.py:89: FutureWarning: The default dtype for empty Series will be 'object' instead of 'float64' in a future version. Specify a dtype explicitly to silence this warning.\n",
      "  legend = pandas.Series(legend).sort_index()\n"
     ]
    },
    {
     "name": "stdout",
     "output_type": "stream",
     "text": [
      "['NV2t002667001.1', 'NV2t005041001.1', 'NV2t021792001.1', 'NV2t021821001.1']\n",
      "['NV2t003706001.1', 'NV2t003706002.1', 'NV2t003706003.1', 'NV2t003706004.1']\n",
      "['NV2t003861001.1', 'NV2t007774001.1', 'NV2t018957001.1', 'NV2t023160001.1']\n",
      "['NV2t005822001.1', 'NV2t021285001.1', 'NV2t021288001.1', 'NV2t021585001.1']\n"
     ]
    },
    {
     "name": "stderr",
     "output_type": "stream",
     "text": [
      "C:\\Users\\gideon.b\\AppData\\Local\\Temp\\ipykernel_3796\\3167065733.py:89: FutureWarning: The default dtype for empty Series will be 'object' instead of 'float64' in a future version. Specify a dtype explicitly to silence this warning.\n",
      "  legend = pandas.Series(legend).sort_index()\n",
      "C:\\Users\\gideon.b\\AppData\\Local\\Temp\\ipykernel_3796\\3167065733.py:89: FutureWarning: The default dtype for empty Series will be 'object' instead of 'float64' in a future version. Specify a dtype explicitly to silence this warning.\n",
      "  legend = pandas.Series(legend).sort_index()\n",
      "C:\\Users\\gideon.b\\AppData\\Local\\Temp\\ipykernel_3796\\3167065733.py:89: FutureWarning: The default dtype for empty Series will be 'object' instead of 'float64' in a future version. Specify a dtype explicitly to silence this warning.\n",
      "  legend = pandas.Series(legend).sort_index()\n",
      "C:\\Users\\gideon.b\\AppData\\Local\\Temp\\ipykernel_3796\\3167065733.py:89: FutureWarning: The default dtype for empty Series will be 'object' instead of 'float64' in a future version. Specify a dtype explicitly to silence this warning.\n",
      "  legend = pandas.Series(legend).sort_index()\n"
     ]
    },
    {
     "name": "stdout",
     "output_type": "stream",
     "text": [
      "['NV2t006764001.1', 'NV2t006768001.1', 'NV2t012077001.1', 'NV2t012077002.1']\n",
      "['NV2t007683001.1', 'NV2t012181001.1', 'NV2t012183001.1', 'NV2t012620001.1']\n",
      "['NV2t010399001.1', 'NV2t017421001.1', 'NV2t017429002.1', 'NV2t017429004.1']\n"
     ]
    },
    {
     "name": "stderr",
     "output_type": "stream",
     "text": [
      "C:\\Users\\gideon.b\\AppData\\Local\\Temp\\ipykernel_3796\\3167065733.py:89: FutureWarning: The default dtype for empty Series will be 'object' instead of 'float64' in a future version. Specify a dtype explicitly to silence this warning.\n",
      "  legend = pandas.Series(legend).sort_index()\n",
      "C:\\Users\\gideon.b\\AppData\\Local\\Temp\\ipykernel_3796\\3167065733.py:89: FutureWarning: The default dtype for empty Series will be 'object' instead of 'float64' in a future version. Specify a dtype explicitly to silence this warning.\n",
      "  legend = pandas.Series(legend).sort_index()\n",
      "C:\\Users\\gideon.b\\AppData\\Local\\Temp\\ipykernel_3796\\3167065733.py:89: FutureWarning: The default dtype for empty Series will be 'object' instead of 'float64' in a future version. Specify a dtype explicitly to silence this warning.\n",
      "  legend = pandas.Series(legend).sort_index()\n",
      "C:\\Users\\gideon.b\\AppData\\Local\\Temp\\ipykernel_3796\\3167065733.py:89: FutureWarning: The default dtype for empty Series will be 'object' instead of 'float64' in a future version. Specify a dtype explicitly to silence this warning.\n",
      "  legend = pandas.Series(legend).sort_index()\n",
      "C:\\Users\\gideon.b\\AppData\\Local\\Temp\\ipykernel_3796\\3167065733.py:89: FutureWarning: The default dtype for empty Series will be 'object' instead of 'float64' in a future version. Specify a dtype explicitly to silence this warning.\n",
      "  legend = pandas.Series(legend).sort_index()\n"
     ]
    },
    {
     "name": "stdout",
     "output_type": "stream",
     "text": [
      "['NV2t013745001.1', 'NV2t013745002.1', 'NV2t013745003.1', 'NV2t013745004.1']\n",
      "['NV2t014007001.1', 'NV2t014007002.1', 'NV2t014007003.1', 'NV2t014010001.1']\n",
      "['NV2t014509001.1', 'NV2t017446001.1', 'NV2t018776001.1', 'NV2t019022001.1']\n",
      "['NV2t014588001.1', 'NV2t014588003.1', 'NV2t014588004.1', 'NV2t014588005.1']\n",
      "['NV2t015862001.1', 'NV2t015862002.1', 'NV2t015862003.1', 'NV2t015862004.1']\n",
      "['NV2t017701001.1', 'NV2t017701002.1', 'NV2t017701003.1', 'NV2t017701004.1']\n"
     ]
    },
    {
     "name": "stderr",
     "output_type": "stream",
     "text": [
      "C:\\Users\\gideon.b\\AppData\\Local\\Temp\\ipykernel_3796\\3167065733.py:89: FutureWarning: The default dtype for empty Series will be 'object' instead of 'float64' in a future version. Specify a dtype explicitly to silence this warning.\n",
      "  legend = pandas.Series(legend).sort_index()\n",
      "C:\\Users\\gideon.b\\AppData\\Local\\Temp\\ipykernel_3796\\3167065733.py:89: FutureWarning: The default dtype for empty Series will be 'object' instead of 'float64' in a future version. Specify a dtype explicitly to silence this warning.\n",
      "  legend = pandas.Series(legend).sort_index()\n",
      "C:\\Users\\gideon.b\\AppData\\Local\\Temp\\ipykernel_3796\\3167065733.py:89: FutureWarning: The default dtype for empty Series will be 'object' instead of 'float64' in a future version. Specify a dtype explicitly to silence this warning.\n",
      "  legend = pandas.Series(legend).sort_index()\n",
      "C:\\Users\\gideon.b\\AppData\\Local\\Temp\\ipykernel_3796\\3167065733.py:89: FutureWarning: The default dtype for empty Series will be 'object' instead of 'float64' in a future version. Specify a dtype explicitly to silence this warning.\n",
      "  legend = pandas.Series(legend).sort_index()\n",
      "C:\\Users\\gideon.b\\AppData\\Local\\Temp\\ipykernel_3796\\3167065733.py:89: FutureWarning: The default dtype for empty Series will be 'object' instead of 'float64' in a future version. Specify a dtype explicitly to silence this warning.\n",
      "  legend = pandas.Series(legend).sort_index()\n",
      "C:\\Users\\gideon.b\\AppData\\Local\\Temp\\ipykernel_3796\\3167065733.py:89: FutureWarning: The default dtype for empty Series will be 'object' instead of 'float64' in a future version. Specify a dtype explicitly to silence this warning.\n",
      "  legend = pandas.Series(legend).sort_index()\n"
     ]
    },
    {
     "name": "stdout",
     "output_type": "stream",
     "text": [
      "['NV2t021413001.1', 'NV2t022397001.1', 'NV2t022397002.1', 'NV2t022399001.1']\n",
      "['NV2t021793001.1', 'NV2t021822001.1', 'NV2t021822002.1', 'NV2t021822003.1']\n",
      "['NV2t022664001.1', 'NV2t022664003.1', 'NV2t022664004.1', 'NV2t022664005.1']\n",
      "['NV2t022974001.1', 'NV2t023293001.1', 'NV2t023293002.1', 'NV2t023294001.1']\n",
      "['Sc4wPfr_1414.g34.t1', 'Sc4wPfr_455.g20435.t1', 'Sc4wPfr_804.g24105.t1']\n",
      "['Sc4wPfr_1386.g7456.t1', 'Sc4wPfr_1386.g7462.t1', 'Sc4wPfr_4949.g490.t1']\n",
      "['Sc4wPfr_224.g18123.t1', 'Sc4wPfr_2382.g8795.t1', 'Sc4wPfr_780.g810.t1']\n"
     ]
    },
    {
     "name": "stderr",
     "output_type": "stream",
     "text": [
      "C:\\Users\\gideon.b\\AppData\\Local\\Temp\\ipykernel_3796\\3167065733.py:89: FutureWarning: The default dtype for empty Series will be 'object' instead of 'float64' in a future version. Specify a dtype explicitly to silence this warning.\n",
      "  legend = pandas.Series(legend).sort_index()\n",
      "C:\\Users\\gideon.b\\AppData\\Local\\Temp\\ipykernel_3796\\3167065733.py:89: FutureWarning: The default dtype for empty Series will be 'object' instead of 'float64' in a future version. Specify a dtype explicitly to silence this warning.\n",
      "  legend = pandas.Series(legend).sort_index()\n",
      "C:\\Users\\gideon.b\\AppData\\Local\\Temp\\ipykernel_3796\\3167065733.py:89: FutureWarning: The default dtype for empty Series will be 'object' instead of 'float64' in a future version. Specify a dtype explicitly to silence this warning.\n",
      "  legend = pandas.Series(legend).sort_index()\n",
      "C:\\Users\\gideon.b\\AppData\\Local\\Temp\\ipykernel_3796\\3167065733.py:89: FutureWarning: The default dtype for empty Series will be 'object' instead of 'float64' in a future version. Specify a dtype explicitly to silence this warning.\n",
      "  legend = pandas.Series(legend).sort_index()\n",
      "C:\\Users\\gideon.b\\AppData\\Local\\Temp\\ipykernel_3796\\3167065733.py:89: FutureWarning: The default dtype for empty Series will be 'object' instead of 'float64' in a future version. Specify a dtype explicitly to silence this warning.\n",
      "  legend = pandas.Series(legend).sort_index()\n",
      "C:\\Users\\gideon.b\\AppData\\Local\\Temp\\ipykernel_3796\\3167065733.py:89: FutureWarning: The default dtype for empty Series will be 'object' instead of 'float64' in a future version. Specify a dtype explicitly to silence this warning.\n",
      "  legend = pandas.Series(legend).sort_index()\n",
      "C:\\Users\\gideon.b\\AppData\\Local\\Temp\\ipykernel_3796\\3167065733.py:89: FutureWarning: The default dtype for empty Series will be 'object' instead of 'float64' in a future version. Specify a dtype explicitly to silence this warning.\n",
      "  legend = pandas.Series(legend).sort_index()\n"
     ]
    },
    {
     "name": "stdout",
     "output_type": "stream",
     "text": [
      "['Sc4wPfr_191.g12120.t1', 'Sc4wPfr_472.g14883.t1', 'Sc4wPfr_562.2.g1366.t1']\n",
      "['Sc4wPfr_1127.1.g1464.t1', 'Sc4wPfr_113.1.g28301.t1', 'Sc4wPfr_461.g8086.t1']\n",
      "['Sc4wPfr_172.1.g1591.t1', 'NV2t001366001.1', 'NV2t001366002.1']\n",
      "['Sc4wPfr_172.1.g1608.t1', 'Sc4wPfr_172.1.g1608.t2', 'Sc4wPfr_172.1.g1608.t3']\n",
      "['Sc4wPfr_881.g1669.t1', 'Sc4wPfr_881.g1669.t2', 'Sc4wPfr_881.g1669.t3']\n"
     ]
    },
    {
     "name": "stderr",
     "output_type": "stream",
     "text": [
      "C:\\Users\\gideon.b\\AppData\\Local\\Temp\\ipykernel_3796\\3167065733.py:89: FutureWarning: The default dtype for empty Series will be 'object' instead of 'float64' in a future version. Specify a dtype explicitly to silence this warning.\n",
      "  legend = pandas.Series(legend).sort_index()\n",
      "C:\\Users\\gideon.b\\AppData\\Local\\Temp\\ipykernel_3796\\3167065733.py:89: FutureWarning: The default dtype for empty Series will be 'object' instead of 'float64' in a future version. Specify a dtype explicitly to silence this warning.\n",
      "  legend = pandas.Series(legend).sort_index()\n",
      "C:\\Users\\gideon.b\\AppData\\Local\\Temp\\ipykernel_3796\\3167065733.py:89: FutureWarning: The default dtype for empty Series will be 'object' instead of 'float64' in a future version. Specify a dtype explicitly to silence this warning.\n",
      "  legend = pandas.Series(legend).sort_index()\n",
      "C:\\Users\\gideon.b\\AppData\\Local\\Temp\\ipykernel_3796\\3167065733.py:89: FutureWarning: The default dtype for empty Series will be 'object' instead of 'float64' in a future version. Specify a dtype explicitly to silence this warning.\n",
      "  legend = pandas.Series(legend).sort_index()\n",
      "C:\\Users\\gideon.b\\AppData\\Local\\Temp\\ipykernel_3796\\3167065733.py:89: FutureWarning: The default dtype for empty Series will be 'object' instead of 'float64' in a future version. Specify a dtype explicitly to silence this warning.\n",
      "  legend = pandas.Series(legend).sort_index()\n",
      "C:\\Users\\gideon.b\\AppData\\Local\\Temp\\ipykernel_3796\\3167065733.py:89: FutureWarning: The default dtype for empty Series will be 'object' instead of 'float64' in a future version. Specify a dtype explicitly to silence this warning.\n",
      "  legend = pandas.Series(legend).sort_index()\n"
     ]
    },
    {
     "name": "stdout",
     "output_type": "stream",
     "text": [
      "['Sc4wPfr_728.g2233.t1', 'Sc4wPfr_728.g2249.t1', 'NV2t012173001.1']\n",
      "['Sc4wPfr_2235.g2656.t1', 'Sc4wPfr_2235.g2657.t1', 'Sc4wPfr_2235.g2658.t1']\n",
      "['Sc4wPfr_319.1.g3966.t1', 'NV2t019473001.1', 'NV2t019473002.1']\n",
      "['Sc4wPfr_246.g4308.t1', 'Sc4wPfr_246.g4308.t2', 'NV2t012434001.1']\n",
      "['Sc4wPfr_1475.1.g4366.t1', 'Sc4wPfr_39.g20458.t1', 'NV2t014162001.1']\n",
      "['Sc4wPfr_388.g4766.t1', 'Sc4wPfr_388.g4766.t2', 'Sc4wPfr_388.g4766.t3']\n",
      "['Sc4wPfr_227.g25770.t1', 'Sc4wPfr_312.g4811.t1', 'NV2t023859001.1']\n"
     ]
    },
    {
     "name": "stderr",
     "output_type": "stream",
     "text": [
      "C:\\Users\\gideon.b\\AppData\\Local\\Temp\\ipykernel_3796\\3167065733.py:89: FutureWarning: The default dtype for empty Series will be 'object' instead of 'float64' in a future version. Specify a dtype explicitly to silence this warning.\n",
      "  legend = pandas.Series(legend).sort_index()\n",
      "C:\\Users\\gideon.b\\AppData\\Local\\Temp\\ipykernel_3796\\3167065733.py:89: FutureWarning: The default dtype for empty Series will be 'object' instead of 'float64' in a future version. Specify a dtype explicitly to silence this warning.\n",
      "  legend = pandas.Series(legend).sort_index()\n",
      "C:\\Users\\gideon.b\\AppData\\Local\\Temp\\ipykernel_3796\\3167065733.py:89: FutureWarning: The default dtype for empty Series will be 'object' instead of 'float64' in a future version. Specify a dtype explicitly to silence this warning.\n",
      "  legend = pandas.Series(legend).sort_index()\n",
      "C:\\Users\\gideon.b\\AppData\\Local\\Temp\\ipykernel_3796\\3167065733.py:89: FutureWarning: The default dtype for empty Series will be 'object' instead of 'float64' in a future version. Specify a dtype explicitly to silence this warning.\n",
      "  legend = pandas.Series(legend).sort_index()\n",
      "C:\\Users\\gideon.b\\AppData\\Local\\Temp\\ipykernel_3796\\3167065733.py:89: FutureWarning: The default dtype for empty Series will be 'object' instead of 'float64' in a future version. Specify a dtype explicitly to silence this warning.\n",
      "  legend = pandas.Series(legend).sort_index()\n",
      "C:\\Users\\gideon.b\\AppData\\Local\\Temp\\ipykernel_3796\\3167065733.py:89: FutureWarning: The default dtype for empty Series will be 'object' instead of 'float64' in a future version. Specify a dtype explicitly to silence this warning.\n",
      "  legend = pandas.Series(legend).sort_index()\n",
      "C:\\Users\\gideon.b\\AppData\\Local\\Temp\\ipykernel_3796\\3167065733.py:89: FutureWarning: The default dtype for empty Series will be 'object' instead of 'float64' in a future version. Specify a dtype explicitly to silence this warning.\n",
      "  legend = pandas.Series(legend).sort_index()\n",
      "C:\\Users\\gideon.b\\AppData\\Local\\Temp\\ipykernel_3796\\3167065733.py:89: FutureWarning: The default dtype for empty Series will be 'object' instead of 'float64' in a future version. Specify a dtype explicitly to silence this warning.\n",
      "  legend = pandas.Series(legend).sort_index()\n",
      "C:\\Users\\gideon.b\\AppData\\Local\\Temp\\ipykernel_3796\\3167065733.py:89: FutureWarning: The default dtype for empty Series will be 'object' instead of 'float64' in a future version. Specify a dtype explicitly to silence this warning.\n",
      "  legend = pandas.Series(legend).sort_index()\n"
     ]
    },
    {
     "name": "stdout",
     "output_type": "stream",
     "text": [
      "['Sc4wPfr_324.1.g5440.t1', 'Sc4wPfr_324.1.g5445.t1', 'Sc4wPfr_324.1.g5445.t2']\n",
      "['Sc4wPfr_172.g6056.t1', 'Sc4wPfr_172.g6062.t1', 'NV2t011255001.1']\n",
      "['Sc4wPfr_337.1.g25349.t1', 'Sc4wPfr_356.g7026.t1', 'Sc4wPfr_356.g7035.t1']\n",
      "['Sc4wPfr_975.g7267.t1', 'Sc4wPfr_975.g7267.t2', 'NV2t013381001.1']\n",
      "['Sc4wPfr_975.g7278.t1', 'NV2t011108001.1', 'NV2t011108002.1']\n",
      "['Sc4wPfr_102.g11061.t1', 'Sc4wPfr_102.g11061.t2', 'Sc4wPfr_1593.g7872.t1']\n",
      "['Sc4wPfr_1380.1.g8435.t1', 'NV2t006771001.1', 'NV2t006771002.1']\n",
      "['Sc4wPfr_147.g8566.t1', 'NV2t000914001.1', 'NV2t000914002.1']\n",
      "['Sc4wPfr_147.g8601.t1', 'NV2t003026001.1', 'NV2t003030001.1']\n"
     ]
    },
    {
     "name": "stderr",
     "output_type": "stream",
     "text": [
      "C:\\Users\\gideon.b\\AppData\\Local\\Temp\\ipykernel_3796\\3167065733.py:89: FutureWarning: The default dtype for empty Series will be 'object' instead of 'float64' in a future version. Specify a dtype explicitly to silence this warning.\n",
      "  legend = pandas.Series(legend).sort_index()\n",
      "C:\\Users\\gideon.b\\AppData\\Local\\Temp\\ipykernel_3796\\3167065733.py:89: FutureWarning: The default dtype for empty Series will be 'object' instead of 'float64' in a future version. Specify a dtype explicitly to silence this warning.\n",
      "  legend = pandas.Series(legend).sort_index()\n",
      "C:\\Users\\gideon.b\\AppData\\Local\\Temp\\ipykernel_3796\\3167065733.py:89: FutureWarning: The default dtype for empty Series will be 'object' instead of 'float64' in a future version. Specify a dtype explicitly to silence this warning.\n",
      "  legend = pandas.Series(legend).sort_index()\n"
     ]
    },
    {
     "name": "stdout",
     "output_type": "stream",
     "text": [
      "['Sc4wPfr_703.g8971.t1', 'NV2t008552002.1', 'NV2t008552003.1']\n",
      "['Sc4wPfr_1101.2.g9307.t1', 'Sc4wPfr_1101.2.g9307.t2', 'Sc4wPfr_1101.2.g9328.t3']\n",
      "['Sc4wPfr_1300.g9811.t1', 'Sc4wPfr_1300.g9811.t2', 'NV2t012734001.1']\n",
      "['Sc4wPfr_197.g11018.t1', 'NV2t014222001.1', 'NV2t014222002.1']\n"
     ]
    },
    {
     "name": "stderr",
     "output_type": "stream",
     "text": [
      "C:\\Users\\gideon.b\\AppData\\Local\\Temp\\ipykernel_3796\\3167065733.py:89: FutureWarning: The default dtype for empty Series will be 'object' instead of 'float64' in a future version. Specify a dtype explicitly to silence this warning.\n",
      "  legend = pandas.Series(legend).sort_index()\n",
      "C:\\Users\\gideon.b\\AppData\\Local\\Temp\\ipykernel_3796\\3167065733.py:89: FutureWarning: The default dtype for empty Series will be 'object' instead of 'float64' in a future version. Specify a dtype explicitly to silence this warning.\n",
      "  legend = pandas.Series(legend).sort_index()\n",
      "C:\\Users\\gideon.b\\AppData\\Local\\Temp\\ipykernel_3796\\3167065733.py:89: FutureWarning: The default dtype for empty Series will be 'object' instead of 'float64' in a future version. Specify a dtype explicitly to silence this warning.\n",
      "  legend = pandas.Series(legend).sort_index()\n",
      "C:\\Users\\gideon.b\\AppData\\Local\\Temp\\ipykernel_3796\\3167065733.py:89: FutureWarning: The default dtype for empty Series will be 'object' instead of 'float64' in a future version. Specify a dtype explicitly to silence this warning.\n",
      "  legend = pandas.Series(legend).sort_index()\n"
     ]
    },
    {
     "name": "stdout",
     "output_type": "stream",
     "text": [
      "['Sc4wPfr_272.g11398.t1', 'NV2t000890001.1', 'NV2t000890002.1']\n",
      "['Sc4wPfr_923.g11431.t1', 'Sc4wPfr_923.g11431.t2', 'Sc4wPfr_923.g11431.t3']\n",
      "['Sc4wPfr_73.g11591.t1', 'Sc4wPfr_73.g11591.t2', 'Sc4wPfr_73.g11591.t3']\n",
      "['Sc4wPfr_175.1.g31519.t1', 'Sc4wPfr_175.1.g31521.t1', 'Sc4wPfr_657.g12381.t1']\n",
      "['Sc4wPfr_896.g13017.t2', 'Sc4wPfr_896.g13017.t3', 'Sc4wPfr_896.g13017.t7']\n",
      "['Sc4wPfr_292.g13097.t1', 'Sc4wPfr_292.g13106.t1', 'NV2t013515001.1']\n",
      "['Sc4wPfr_2074.g13184.t1', 'Sc4wPfr_2074.g13184.t2', 'NV2t010387001.1']\n"
     ]
    },
    {
     "name": "stderr",
     "output_type": "stream",
     "text": [
      "C:\\Users\\gideon.b\\AppData\\Local\\Temp\\ipykernel_3796\\3167065733.py:89: FutureWarning: The default dtype for empty Series will be 'object' instead of 'float64' in a future version. Specify a dtype explicitly to silence this warning.\n",
      "  legend = pandas.Series(legend).sort_index()\n",
      "C:\\Users\\gideon.b\\AppData\\Local\\Temp\\ipykernel_3796\\3167065733.py:89: FutureWarning: The default dtype for empty Series will be 'object' instead of 'float64' in a future version. Specify a dtype explicitly to silence this warning.\n",
      "  legend = pandas.Series(legend).sort_index()\n",
      "C:\\Users\\gideon.b\\AppData\\Local\\Temp\\ipykernel_3796\\3167065733.py:89: FutureWarning: The default dtype for empty Series will be 'object' instead of 'float64' in a future version. Specify a dtype explicitly to silence this warning.\n",
      "  legend = pandas.Series(legend).sort_index()\n",
      "C:\\Users\\gideon.b\\AppData\\Local\\Temp\\ipykernel_3796\\3167065733.py:89: FutureWarning: The default dtype for empty Series will be 'object' instead of 'float64' in a future version. Specify a dtype explicitly to silence this warning.\n",
      "  legend = pandas.Series(legend).sort_index()\n",
      "C:\\Users\\gideon.b\\AppData\\Local\\Temp\\ipykernel_3796\\3167065733.py:89: FutureWarning: The default dtype for empty Series will be 'object' instead of 'float64' in a future version. Specify a dtype explicitly to silence this warning.\n",
      "  legend = pandas.Series(legend).sort_index()\n",
      "C:\\Users\\gideon.b\\AppData\\Local\\Temp\\ipykernel_3796\\3167065733.py:89: FutureWarning: The default dtype for empty Series will be 'object' instead of 'float64' in a future version. Specify a dtype explicitly to silence this warning.\n",
      "  legend = pandas.Series(legend).sort_index()\n",
      "C:\\Users\\gideon.b\\AppData\\Local\\Temp\\ipykernel_3796\\3167065733.py:89: FutureWarning: The default dtype for empty Series will be 'object' instead of 'float64' in a future version. Specify a dtype explicitly to silence this warning.\n",
      "  legend = pandas.Series(legend).sort_index()\n"
     ]
    },
    {
     "name": "stdout",
     "output_type": "stream",
     "text": [
      "['Sc4wPfr_38.1.g13212.t1', 'Sc4wPfr_38.1.g13212.t2', 'NV2t014356001.1']\n",
      "['Sc4wPfr_1570.g14018.t1', 'NV2t020441001.1', 'NV2t020449001.1']\n",
      "['Sc4wPfr_483.g14184.t1', 'Sc4wPfr_488.g29956.t1', 'NV2t004921001.1']\n"
     ]
    },
    {
     "name": "stderr",
     "output_type": "stream",
     "text": [
      "C:\\Users\\gideon.b\\AppData\\Local\\Temp\\ipykernel_3796\\3167065733.py:89: FutureWarning: The default dtype for empty Series will be 'object' instead of 'float64' in a future version. Specify a dtype explicitly to silence this warning.\n",
      "  legend = pandas.Series(legend).sort_index()\n",
      "C:\\Users\\gideon.b\\AppData\\Local\\Temp\\ipykernel_3796\\3167065733.py:89: FutureWarning: The default dtype for empty Series will be 'object' instead of 'float64' in a future version. Specify a dtype explicitly to silence this warning.\n",
      "  legend = pandas.Series(legend).sort_index()\n",
      "C:\\Users\\gideon.b\\AppData\\Local\\Temp\\ipykernel_3796\\3167065733.py:89: FutureWarning: The default dtype for empty Series will be 'object' instead of 'float64' in a future version. Specify a dtype explicitly to silence this warning.\n",
      "  legend = pandas.Series(legend).sort_index()\n"
     ]
    },
    {
     "name": "stdout",
     "output_type": "stream",
     "text": [
      "['Sc4wPfr_1449.g14260.t1', 'Sc4wPfr_1449.g14260.t2', 'NV2t003144001.1']\n",
      "['Sc4wPfr_635.g14766.t1', 'Sc4wPfr_635.g14766.t2', 'Sc4wPfr_635.g14772.t1']\n",
      "['Sc4wPfr_618.g14849.t1', 'NV2t018385001.1', 'NV2t018385002.1']\n",
      "['Sc4wPfr_250.g16011.t1', 'NV2t003253001.1', 'NV2t003253002.1']\n"
     ]
    },
    {
     "name": "stderr",
     "output_type": "stream",
     "text": [
      "C:\\Users\\gideon.b\\AppData\\Local\\Temp\\ipykernel_3796\\3167065733.py:89: FutureWarning: The default dtype for empty Series will be 'object' instead of 'float64' in a future version. Specify a dtype explicitly to silence this warning.\n",
      "  legend = pandas.Series(legend).sort_index()\n",
      "C:\\Users\\gideon.b\\AppData\\Local\\Temp\\ipykernel_3796\\3167065733.py:89: FutureWarning: The default dtype for empty Series will be 'object' instead of 'float64' in a future version. Specify a dtype explicitly to silence this warning.\n",
      "  legend = pandas.Series(legend).sort_index()\n",
      "C:\\Users\\gideon.b\\AppData\\Local\\Temp\\ipykernel_3796\\3167065733.py:89: FutureWarning: The default dtype for empty Series will be 'object' instead of 'float64' in a future version. Specify a dtype explicitly to silence this warning.\n",
      "  legend = pandas.Series(legend).sort_index()\n",
      "C:\\Users\\gideon.b\\AppData\\Local\\Temp\\ipykernel_3796\\3167065733.py:89: FutureWarning: The default dtype for empty Series will be 'object' instead of 'float64' in a future version. Specify a dtype explicitly to silence this warning.\n",
      "  legend = pandas.Series(legend).sort_index()\n",
      "C:\\Users\\gideon.b\\AppData\\Local\\Temp\\ipykernel_3796\\3167065733.py:89: FutureWarning: The default dtype for empty Series will be 'object' instead of 'float64' in a future version. Specify a dtype explicitly to silence this warning.\n",
      "  legend = pandas.Series(legend).sort_index()\n",
      "C:\\Users\\gideon.b\\AppData\\Local\\Temp\\ipykernel_3796\\3167065733.py:89: FutureWarning: The default dtype for empty Series will be 'object' instead of 'float64' in a future version. Specify a dtype explicitly to silence this warning.\n",
      "  legend = pandas.Series(legend).sort_index()\n"
     ]
    },
    {
     "name": "stdout",
     "output_type": "stream",
     "text": [
      "['Sc4wPfr_1007.1.g17172.t1', 'Sc4wPfr_836.g27562.t1', 'NV2t018378001.1']\n",
      "['Sc4wPfr_26.g17289.t2', 'NV2t013893002.1', 'NV2t013893003.1']\n",
      "['Sc4wPfr_262.2.g17795.t1', 'Sc4wPfr_262.2.g17796.t1', 'NV2t016729001.1']\n",
      "['Sc4wPfr_484.g18389.t1', 'Sc4wPfr_484.g18389.t2', 'NV2t005949001.1']\n"
     ]
    },
    {
     "name": "stderr",
     "output_type": "stream",
     "text": [
      "C:\\Users\\gideon.b\\AppData\\Local\\Temp\\ipykernel_3796\\3167065733.py:89: FutureWarning: The default dtype for empty Series will be 'object' instead of 'float64' in a future version. Specify a dtype explicitly to silence this warning.\n",
      "  legend = pandas.Series(legend).sort_index()\n",
      "C:\\Users\\gideon.b\\AppData\\Local\\Temp\\ipykernel_3796\\3167065733.py:89: FutureWarning: The default dtype for empty Series will be 'object' instead of 'float64' in a future version. Specify a dtype explicitly to silence this warning.\n",
      "  legend = pandas.Series(legend).sort_index()\n",
      "C:\\Users\\gideon.b\\AppData\\Local\\Temp\\ipykernel_3796\\3167065733.py:89: FutureWarning: The default dtype for empty Series will be 'object' instead of 'float64' in a future version. Specify a dtype explicitly to silence this warning.\n",
      "  legend = pandas.Series(legend).sort_index()\n",
      "C:\\Users\\gideon.b\\AppData\\Local\\Temp\\ipykernel_3796\\3167065733.py:89: FutureWarning: The default dtype for empty Series will be 'object' instead of 'float64' in a future version. Specify a dtype explicitly to silence this warning.\n",
      "  legend = pandas.Series(legend).sort_index()\n"
     ]
    },
    {
     "name": "stdout",
     "output_type": "stream",
     "text": [
      "['Sc4wPfr_854.g18469.t1', 'NV2t021271001.1', 'NV2t021271002.1']\n",
      "['Sc4wPfr_704.g18852.t1', 'Sc4wPfr_704.g18852.t2', 'NV2t015243001.1']\n",
      "['Sc4wPfr_39.g20547.t1', 'Sc4wPfr_39.g20552.t1', 'Sc4wPfr_39.g20553.t1']\n",
      "['Sc4wPfr_439.g20792.t1', 'NV2t016600001.1', 'NV2t016600002.1']\n",
      "['Sc4wPfr_439.g20867.t1', 'Sc4wPfr_439.g20867.t2', 'Sc4wPfr_439.g20870.t1']\n",
      "['Sc4wPfr_798.g21027.t1', 'NV2t014583001.1', 'NV2t014583002.1']\n",
      "['Sc4wPfr_378.g22717.t1', 'Sc4wPfr_378.g22717.t2', 'NV2t014904001.1']\n"
     ]
    },
    {
     "name": "stderr",
     "output_type": "stream",
     "text": [
      "C:\\Users\\gideon.b\\AppData\\Local\\Temp\\ipykernel_3796\\3167065733.py:89: FutureWarning: The default dtype for empty Series will be 'object' instead of 'float64' in a future version. Specify a dtype explicitly to silence this warning.\n",
      "  legend = pandas.Series(legend).sort_index()\n",
      "C:\\Users\\gideon.b\\AppData\\Local\\Temp\\ipykernel_3796\\3167065733.py:89: FutureWarning: The default dtype for empty Series will be 'object' instead of 'float64' in a future version. Specify a dtype explicitly to silence this warning.\n",
      "  legend = pandas.Series(legend).sort_index()\n",
      "C:\\Users\\gideon.b\\AppData\\Local\\Temp\\ipykernel_3796\\3167065733.py:89: FutureWarning: The default dtype for empty Series will be 'object' instead of 'float64' in a future version. Specify a dtype explicitly to silence this warning.\n",
      "  legend = pandas.Series(legend).sort_index()\n",
      "C:\\Users\\gideon.b\\AppData\\Local\\Temp\\ipykernel_3796\\3167065733.py:89: FutureWarning: The default dtype for empty Series will be 'object' instead of 'float64' in a future version. Specify a dtype explicitly to silence this warning.\n",
      "  legend = pandas.Series(legend).sort_index()\n",
      "C:\\Users\\gideon.b\\AppData\\Local\\Temp\\ipykernel_3796\\3167065733.py:89: FutureWarning: The default dtype for empty Series will be 'object' instead of 'float64' in a future version. Specify a dtype explicitly to silence this warning.\n",
      "  legend = pandas.Series(legend).sort_index()\n"
     ]
    },
    {
     "name": "stdout",
     "output_type": "stream",
     "text": [
      "['Sc4wPfr_378.g22720.t1', 'NV2t014905002.1', 'NV2t014905003.1']\n",
      "['Sc4wPfr_639.g22926.t1', 'Sc4wPfr_639.g22926.t2', 'Sc4wPfr_639.g22926.t3']\n",
      "['Sc4wPfr_1259.g23026.t1', 'Sc4wPfr_1259.g23030.t1', 'NV2t006047001.1']\n"
     ]
    },
    {
     "name": "stderr",
     "output_type": "stream",
     "text": [
      "C:\\Users\\gideon.b\\AppData\\Local\\Temp\\ipykernel_3796\\3167065733.py:89: FutureWarning: The default dtype for empty Series will be 'object' instead of 'float64' in a future version. Specify a dtype explicitly to silence this warning.\n",
      "  legend = pandas.Series(legend).sort_index()\n",
      "C:\\Users\\gideon.b\\AppData\\Local\\Temp\\ipykernel_3796\\3167065733.py:89: FutureWarning: The default dtype for empty Series will be 'object' instead of 'float64' in a future version. Specify a dtype explicitly to silence this warning.\n",
      "  legend = pandas.Series(legend).sort_index()\n",
      "C:\\Users\\gideon.b\\AppData\\Local\\Temp\\ipykernel_3796\\3167065733.py:89: FutureWarning: The default dtype for empty Series will be 'object' instead of 'float64' in a future version. Specify a dtype explicitly to silence this warning.\n",
      "  legend = pandas.Series(legend).sort_index()\n"
     ]
    },
    {
     "name": "stdout",
     "output_type": "stream",
     "text": [
      "['Sc4wPfr_787.g23223.t1', 'NV2t004979001.1', 'NV2t004979002.1']\n",
      "['Sc4wPfr_198.g23280.t1', 'NV2t012859001.1', 'NV2t012859002.1']\n",
      "['Sc4wPfr_796.g23304.t1', 'Sc4wPfr_796.g23304.t2', 'NV2t014251001.1']\n",
      "['Sc4wPfr_106.g23580.t1', 'NV2t006547001.1', 'NV2t007463001.1']\n",
      "['Sc4wPfr_962.g23751.t1', 'Sc4wPfr_962.g23752.t1', 'Sc4wPfr_962.g23753.t1']\n",
      "['Sc4wPfr_56.g24476.t1', 'NV2t005918001.1', 'NV2t005918002.1']\n"
     ]
    },
    {
     "name": "stderr",
     "output_type": "stream",
     "text": [
      "C:\\Users\\gideon.b\\AppData\\Local\\Temp\\ipykernel_3796\\3167065733.py:89: FutureWarning: The default dtype for empty Series will be 'object' instead of 'float64' in a future version. Specify a dtype explicitly to silence this warning.\n",
      "  legend = pandas.Series(legend).sort_index()\n",
      "C:\\Users\\gideon.b\\AppData\\Local\\Temp\\ipykernel_3796\\3167065733.py:89: FutureWarning: The default dtype for empty Series will be 'object' instead of 'float64' in a future version. Specify a dtype explicitly to silence this warning.\n",
      "  legend = pandas.Series(legend).sort_index()\n",
      "C:\\Users\\gideon.b\\AppData\\Local\\Temp\\ipykernel_3796\\3167065733.py:89: FutureWarning: The default dtype for empty Series will be 'object' instead of 'float64' in a future version. Specify a dtype explicitly to silence this warning.\n",
      "  legend = pandas.Series(legend).sort_index()\n",
      "C:\\Users\\gideon.b\\AppData\\Local\\Temp\\ipykernel_3796\\3167065733.py:89: FutureWarning: The default dtype for empty Series will be 'object' instead of 'float64' in a future version. Specify a dtype explicitly to silence this warning.\n",
      "  legend = pandas.Series(legend).sort_index()\n",
      "C:\\Users\\gideon.b\\AppData\\Local\\Temp\\ipykernel_3796\\3167065733.py:89: FutureWarning: The default dtype for empty Series will be 'object' instead of 'float64' in a future version. Specify a dtype explicitly to silence this warning.\n",
      "  legend = pandas.Series(legend).sort_index()\n",
      "C:\\Users\\gideon.b\\AppData\\Local\\Temp\\ipykernel_3796\\3167065733.py:89: FutureWarning: The default dtype for empty Series will be 'object' instead of 'float64' in a future version. Specify a dtype explicitly to silence this warning.\n",
      "  legend = pandas.Series(legend).sort_index()\n",
      "C:\\Users\\gideon.b\\AppData\\Local\\Temp\\ipykernel_3796\\3167065733.py:89: FutureWarning: The default dtype for empty Series will be 'object' instead of 'float64' in a future version. Specify a dtype explicitly to silence this warning.\n",
      "  legend = pandas.Series(legend).sort_index()\n"
     ]
    },
    {
     "name": "stdout",
     "output_type": "stream",
     "text": [
      "['Sc4wPfr_1806.g25250.t1', 'NV2t004826001.1', 'NV2t004826002.1']\n",
      "['Sc4wPfr_724.g25412.t1', 'Sc4wPfr_724.g25412.t2', 'NV2t020618001.1']\n"
     ]
    },
    {
     "name": "stderr",
     "output_type": "stream",
     "text": [
      "C:\\Users\\gideon.b\\AppData\\Local\\Temp\\ipykernel_3796\\3167065733.py:89: FutureWarning: The default dtype for empty Series will be 'object' instead of 'float64' in a future version. Specify a dtype explicitly to silence this warning.\n",
      "  legend = pandas.Series(legend).sort_index()\n",
      "C:\\Users\\gideon.b\\AppData\\Local\\Temp\\ipykernel_3796\\3167065733.py:89: FutureWarning: The default dtype for empty Series will be 'object' instead of 'float64' in a future version. Specify a dtype explicitly to silence this warning.\n",
      "  legend = pandas.Series(legend).sort_index()\n",
      "C:\\Users\\gideon.b\\AppData\\Local\\Temp\\ipykernel_3796\\3167065733.py:89: FutureWarning: The default dtype for empty Series will be 'object' instead of 'float64' in a future version. Specify a dtype explicitly to silence this warning.\n",
      "  legend = pandas.Series(legend).sort_index()\n",
      "C:\\Users\\gideon.b\\AppData\\Local\\Temp\\ipykernel_3796\\3167065733.py:89: FutureWarning: The default dtype for empty Series will be 'object' instead of 'float64' in a future version. Specify a dtype explicitly to silence this warning.\n",
      "  legend = pandas.Series(legend).sort_index()\n"
     ]
    },
    {
     "name": "stdout",
     "output_type": "stream",
     "text": [
      "['Sc4wPfr_44.g26895.t1', 'Sc4wPfr_44.g26895.t2', 'NV2t008569001.1']\n",
      "['Sc4wPfr_555.g27178.t1', 'Sc4wPfr_555.g27178.t2', 'Sc4wPfr_555.g27178.t3']\n",
      "['Sc4wPfr_242.g27679.t1', 'NV2t021528001.1', 'NV2t021528002.1']\n",
      "['Sc4wPfr_113.1.g28336.t1', 'NV2t014333001.1', 'NV2t014333002.1']\n"
     ]
    },
    {
     "name": "stderr",
     "output_type": "stream",
     "text": [
      "C:\\Users\\gideon.b\\AppData\\Local\\Temp\\ipykernel_3796\\3167065733.py:89: FutureWarning: The default dtype for empty Series will be 'object' instead of 'float64' in a future version. Specify a dtype explicitly to silence this warning.\n",
      "  legend = pandas.Series(legend).sort_index()\n",
      "C:\\Users\\gideon.b\\AppData\\Local\\Temp\\ipykernel_3796\\3167065733.py:89: FutureWarning: The default dtype for empty Series will be 'object' instead of 'float64' in a future version. Specify a dtype explicitly to silence this warning.\n",
      "  legend = pandas.Series(legend).sort_index()\n",
      "C:\\Users\\gideon.b\\AppData\\Local\\Temp\\ipykernel_3796\\3167065733.py:89: FutureWarning: The default dtype for empty Series will be 'object' instead of 'float64' in a future version. Specify a dtype explicitly to silence this warning.\n",
      "  legend = pandas.Series(legend).sort_index()\n",
      "C:\\Users\\gideon.b\\AppData\\Local\\Temp\\ipykernel_3796\\3167065733.py:89: FutureWarning: The default dtype for empty Series will be 'object' instead of 'float64' in a future version. Specify a dtype explicitly to silence this warning.\n",
      "  legend = pandas.Series(legend).sort_index()\n",
      "C:\\Users\\gideon.b\\AppData\\Local\\Temp\\ipykernel_3796\\3167065733.py:89: FutureWarning: The default dtype for empty Series will be 'object' instead of 'float64' in a future version. Specify a dtype explicitly to silence this warning.\n",
      "  legend = pandas.Series(legend).sort_index()\n",
      "C:\\Users\\gideon.b\\AppData\\Local\\Temp\\ipykernel_3796\\3167065733.py:89: FutureWarning: The default dtype for empty Series will be 'object' instead of 'float64' in a future version. Specify a dtype explicitly to silence this warning.\n",
      "  legend = pandas.Series(legend).sort_index()\n",
      "C:\\Users\\gideon.b\\AppData\\Local\\Temp\\ipykernel_3796\\3167065733.py:89: FutureWarning: The default dtype for empty Series will be 'object' instead of 'float64' in a future version. Specify a dtype explicitly to silence this warning.\n",
      "  legend = pandas.Series(legend).sort_index()\n"
     ]
    },
    {
     "name": "stdout",
     "output_type": "stream",
     "text": [
      "['Sc4wPfr_248.g29616.t1', 'Sc4wPfr_248.g29616.t2', 'Sc4wPfr_248.g29616.t4']\n",
      "['Sc4wPfr_29.g30023.t1', 'Sc4wPfr_29.g30023.t2', 'NV2t020639001.1']\n",
      "['Sc4wPfr_29.g30119.t1', 'NV2t021684001.1', 'NV2t021687001.1']\n",
      "['Sc4wPfr_363.2.g30380.t1', 'NV2t023164001.1', 'NV2t023164002.1']\n",
      "['Sc4wPfr_463.g30914.t1', 'Sc4wPfr_463.g30914.t2', 'Sc4wPfr_463.g30915.t1']\n",
      "['Sc4wPfr_1335.g31170.t1', 'Sc4wPfr_1335.g31170.t2', 'Sc4wPfr_1335.g31184.t1']\n",
      "['Sc4wPfr_481.g31592.t1', 'Sc4wPfr_481.g31592.t2', 'NV2t019653001.1']\n",
      "['Sc4wPfr_2727.g32001.t1', 'Sc4wPfr_2727.g32001.t2', 'NV2t000824001.1']\n",
      "['Sc4wPfr_909.g33479.t1', 'Sc4wPfr_909.g33479.t2', 'NV2t018302001.1']\n",
      "['NV2t000120001.1', 'NV2t002302001.1', 'NV2t012743001.1']\n"
     ]
    },
    {
     "name": "stderr",
     "output_type": "stream",
     "text": [
      "C:\\Users\\gideon.b\\AppData\\Local\\Temp\\ipykernel_3796\\3167065733.py:89: FutureWarning: The default dtype for empty Series will be 'object' instead of 'float64' in a future version. Specify a dtype explicitly to silence this warning.\n",
      "  legend = pandas.Series(legend).sort_index()\n",
      "C:\\Users\\gideon.b\\AppData\\Local\\Temp\\ipykernel_3796\\3167065733.py:89: FutureWarning: The default dtype for empty Series will be 'object' instead of 'float64' in a future version. Specify a dtype explicitly to silence this warning.\n",
      "  legend = pandas.Series(legend).sort_index()\n",
      "C:\\Users\\gideon.b\\AppData\\Local\\Temp\\ipykernel_3796\\3167065733.py:89: FutureWarning: The default dtype for empty Series will be 'object' instead of 'float64' in a future version. Specify a dtype explicitly to silence this warning.\n",
      "  legend = pandas.Series(legend).sort_index()\n",
      "C:\\Users\\gideon.b\\AppData\\Local\\Temp\\ipykernel_3796\\3167065733.py:89: FutureWarning: The default dtype for empty Series will be 'object' instead of 'float64' in a future version. Specify a dtype explicitly to silence this warning.\n",
      "  legend = pandas.Series(legend).sort_index()\n"
     ]
    },
    {
     "name": "stdout",
     "output_type": "stream",
     "text": [
      "['NV2t001044001.1', 'NV2t001045001.1', 'NV2t001045002.1']\n",
      "['NV2t001047001.1', 'NV2t001047002.1', 'NV2t001047003.1']\n",
      "['NV2t001082002.1', 'NV2t019051001.1', 'NV2t019051002.1']\n",
      "['NV2t001288001.1', 'NV2t001288002.1', 'NV2t001288003.1']\n",
      "['NV2t001304001.1', 'NV2t001304002.1', 'NV2t001304003.1']\n",
      "['NV2t003373001.1', 'NV2t003373002.1', 'NV2t003373003.1']\n",
      "['NV2t003396001.1', 'NV2t003396002.1', 'NV2t003396003.1']\n"
     ]
    },
    {
     "name": "stderr",
     "output_type": "stream",
     "text": [
      "C:\\Users\\gideon.b\\AppData\\Local\\Temp\\ipykernel_3796\\3167065733.py:89: FutureWarning: The default dtype for empty Series will be 'object' instead of 'float64' in a future version. Specify a dtype explicitly to silence this warning.\n",
      "  legend = pandas.Series(legend).sort_index()\n",
      "C:\\Users\\gideon.b\\AppData\\Local\\Temp\\ipykernel_3796\\3167065733.py:89: FutureWarning: The default dtype for empty Series will be 'object' instead of 'float64' in a future version. Specify a dtype explicitly to silence this warning.\n",
      "  legend = pandas.Series(legend).sort_index()\n",
      "C:\\Users\\gideon.b\\AppData\\Local\\Temp\\ipykernel_3796\\3167065733.py:89: FutureWarning: The default dtype for empty Series will be 'object' instead of 'float64' in a future version. Specify a dtype explicitly to silence this warning.\n",
      "  legend = pandas.Series(legend).sort_index()\n",
      "C:\\Users\\gideon.b\\AppData\\Local\\Temp\\ipykernel_3796\\3167065733.py:89: FutureWarning: The default dtype for empty Series will be 'object' instead of 'float64' in a future version. Specify a dtype explicitly to silence this warning.\n",
      "  legend = pandas.Series(legend).sort_index()\n",
      "C:\\Users\\gideon.b\\AppData\\Local\\Temp\\ipykernel_3796\\3167065733.py:89: FutureWarning: The default dtype for empty Series will be 'object' instead of 'float64' in a future version. Specify a dtype explicitly to silence this warning.\n",
      "  legend = pandas.Series(legend).sort_index()\n",
      "C:\\Users\\gideon.b\\AppData\\Local\\Temp\\ipykernel_3796\\3167065733.py:89: FutureWarning: The default dtype for empty Series will be 'object' instead of 'float64' in a future version. Specify a dtype explicitly to silence this warning.\n",
      "  legend = pandas.Series(legend).sort_index()\n",
      "C:\\Users\\gideon.b\\AppData\\Local\\Temp\\ipykernel_3796\\3167065733.py:89: FutureWarning: The default dtype for empty Series will be 'object' instead of 'float64' in a future version. Specify a dtype explicitly to silence this warning.\n",
      "  legend = pandas.Series(legend).sort_index()\n",
      "C:\\Users\\gideon.b\\AppData\\Local\\Temp\\ipykernel_3796\\3167065733.py:89: FutureWarning: The default dtype for empty Series will be 'object' instead of 'float64' in a future version. Specify a dtype explicitly to silence this warning.\n",
      "  legend = pandas.Series(legend).sort_index()\n",
      "C:\\Users\\gideon.b\\AppData\\Local\\Temp\\ipykernel_3796\\3167065733.py:89: FutureWarning: The default dtype for empty Series will be 'object' instead of 'float64' in a future version. Specify a dtype explicitly to silence this warning.\n",
      "  legend = pandas.Series(legend).sort_index()\n",
      "C:\\Users\\gideon.b\\AppData\\Local\\Temp\\ipykernel_3796\\3167065733.py:89: FutureWarning: The default dtype for empty Series will be 'object' instead of 'float64' in a future version. Specify a dtype explicitly to silence this warning.\n",
      "  legend = pandas.Series(legend).sort_index()\n",
      "C:\\Users\\gideon.b\\AppData\\Local\\Temp\\ipykernel_3796\\3167065733.py:89: FutureWarning: The default dtype for empty Series will be 'object' instead of 'float64' in a future version. Specify a dtype explicitly to silence this warning.\n",
      "  legend = pandas.Series(legend).sort_index()\n"
     ]
    },
    {
     "name": "stdout",
     "output_type": "stream",
     "text": [
      "['NV2t003424001.1', 'NV2t003424002.1', 'NV2t014905001.1']\n",
      "['NV2t003538001.1', 'NV2t003538002.1', 'NV2t003539001.1']\n",
      "['NV2t003648001.1', 'NV2t010139001.1', 'NV2t010141001.1']\n",
      "['NV2t003699001.1', 'NV2t003699002.1', 'NV2t003699003.1']\n",
      "['NV2t003736001.1', 'NV2t003736002.1', 'NV2t003736003.1']\n"
     ]
    },
    {
     "name": "stderr",
     "output_type": "stream",
     "text": [
      "C:\\Users\\gideon.b\\AppData\\Local\\Temp\\ipykernel_3796\\3167065733.py:89: FutureWarning: The default dtype for empty Series will be 'object' instead of 'float64' in a future version. Specify a dtype explicitly to silence this warning.\n",
      "  legend = pandas.Series(legend).sort_index()\n",
      "C:\\Users\\gideon.b\\AppData\\Local\\Temp\\ipykernel_3796\\3167065733.py:89: FutureWarning: The default dtype for empty Series will be 'object' instead of 'float64' in a future version. Specify a dtype explicitly to silence this warning.\n",
      "  legend = pandas.Series(legend).sort_index()\n",
      "C:\\Users\\gideon.b\\AppData\\Local\\Temp\\ipykernel_3796\\3167065733.py:89: FutureWarning: The default dtype for empty Series will be 'object' instead of 'float64' in a future version. Specify a dtype explicitly to silence this warning.\n",
      "  legend = pandas.Series(legend).sort_index()\n",
      "C:\\Users\\gideon.b\\AppData\\Local\\Temp\\ipykernel_3796\\3167065733.py:89: FutureWarning: The default dtype for empty Series will be 'object' instead of 'float64' in a future version. Specify a dtype explicitly to silence this warning.\n",
      "  legend = pandas.Series(legend).sort_index()\n",
      "C:\\Users\\gideon.b\\AppData\\Local\\Temp\\ipykernel_3796\\3167065733.py:89: FutureWarning: The default dtype for empty Series will be 'object' instead of 'float64' in a future version. Specify a dtype explicitly to silence this warning.\n",
      "  legend = pandas.Series(legend).sort_index()\n",
      "C:\\Users\\gideon.b\\AppData\\Local\\Temp\\ipykernel_3796\\3167065733.py:89: FutureWarning: The default dtype for empty Series will be 'object' instead of 'float64' in a future version. Specify a dtype explicitly to silence this warning.\n",
      "  legend = pandas.Series(legend).sort_index()\n"
     ]
    },
    {
     "name": "stdout",
     "output_type": "stream",
     "text": [
      "['NV2t003759001.1', 'NV2t003759002.1', 'NV2t003759003.1']\n",
      "['NV2t005308001.1', 'NV2t005309001.1', 'NV2t005309002.1']\n",
      "['NV2t006079001.1', 'NV2t006081001.1', 'NV2t006081004.1']\n",
      "['NV2t007079001.1', 'NV2t013457001.1', 'NV2t016090001.1']\n",
      "['NV2t008276001.1', 'NV2t008278001.1', 'NV2t008399001.1']\n",
      "['NV2t008347001.1', 'NV2t008347002.1', 'NV2t008636001.1']\n"
     ]
    },
    {
     "name": "stderr",
     "output_type": "stream",
     "text": [
      "C:\\Users\\gideon.b\\AppData\\Local\\Temp\\ipykernel_3796\\3167065733.py:89: FutureWarning: The default dtype for empty Series will be 'object' instead of 'float64' in a future version. Specify a dtype explicitly to silence this warning.\n",
      "  legend = pandas.Series(legend).sort_index()\n",
      "C:\\Users\\gideon.b\\AppData\\Local\\Temp\\ipykernel_3796\\3167065733.py:89: FutureWarning: The default dtype for empty Series will be 'object' instead of 'float64' in a future version. Specify a dtype explicitly to silence this warning.\n",
      "  legend = pandas.Series(legend).sort_index()\n",
      "C:\\Users\\gideon.b\\AppData\\Local\\Temp\\ipykernel_3796\\3167065733.py:89: FutureWarning: The default dtype for empty Series will be 'object' instead of 'float64' in a future version. Specify a dtype explicitly to silence this warning.\n",
      "  legend = pandas.Series(legend).sort_index()\n",
      "C:\\Users\\gideon.b\\AppData\\Local\\Temp\\ipykernel_3796\\3167065733.py:89: FutureWarning: The default dtype for empty Series will be 'object' instead of 'float64' in a future version. Specify a dtype explicitly to silence this warning.\n",
      "  legend = pandas.Series(legend).sort_index()\n",
      "C:\\Users\\gideon.b\\AppData\\Local\\Temp\\ipykernel_3796\\3167065733.py:89: FutureWarning: The default dtype for empty Series will be 'object' instead of 'float64' in a future version. Specify a dtype explicitly to silence this warning.\n",
      "  legend = pandas.Series(legend).sort_index()\n"
     ]
    },
    {
     "name": "stdout",
     "output_type": "stream",
     "text": [
      "['NV2t008772001.1', 'NV2t008772002.1', 'NV2t011374001.1']\n",
      "['NV2t009055001.1', 'NV2t009055002.1', 'NV2t009055003.1']\n",
      "['NV2t009497001.1', 'NV2t009497002.1', 'NV2t009497003.1']\n",
      "['NV2t010392001.1', 'NV2t010392002.1', 'NV2t010392003.1']\n",
      "['NV2t010456001.1', 'NV2t015289001.1', 'NV2t015289002.1']\n",
      "['NV2t010727001.1', 'NV2t010727002.1', 'NV2t010727003.1']\n",
      "['NV2t010833001.1', 'NV2t010833002.1', 'NV2t010833003.1']\n",
      "['NV2t011346001.1', 'NV2t011346002.1', 'NV2t011346003.1']\n"
     ]
    },
    {
     "name": "stderr",
     "output_type": "stream",
     "text": [
      "C:\\Users\\gideon.b\\AppData\\Local\\Temp\\ipykernel_3796\\3167065733.py:89: FutureWarning: The default dtype for empty Series will be 'object' instead of 'float64' in a future version. Specify a dtype explicitly to silence this warning.\n",
      "  legend = pandas.Series(legend).sort_index()\n",
      "C:\\Users\\gideon.b\\AppData\\Local\\Temp\\ipykernel_3796\\3167065733.py:89: FutureWarning: The default dtype for empty Series will be 'object' instead of 'float64' in a future version. Specify a dtype explicitly to silence this warning.\n",
      "  legend = pandas.Series(legend).sort_index()\n",
      "C:\\Users\\gideon.b\\AppData\\Local\\Temp\\ipykernel_3796\\3167065733.py:89: FutureWarning: The default dtype for empty Series will be 'object' instead of 'float64' in a future version. Specify a dtype explicitly to silence this warning.\n",
      "  legend = pandas.Series(legend).sort_index()\n",
      "C:\\Users\\gideon.b\\AppData\\Local\\Temp\\ipykernel_3796\\3167065733.py:89: FutureWarning: The default dtype for empty Series will be 'object' instead of 'float64' in a future version. Specify a dtype explicitly to silence this warning.\n",
      "  legend = pandas.Series(legend).sort_index()\n",
      "C:\\Users\\gideon.b\\AppData\\Local\\Temp\\ipykernel_3796\\3167065733.py:89: FutureWarning: The default dtype for empty Series will be 'object' instead of 'float64' in a future version. Specify a dtype explicitly to silence this warning.\n",
      "  legend = pandas.Series(legend).sort_index()\n",
      "C:\\Users\\gideon.b\\AppData\\Local\\Temp\\ipykernel_3796\\3167065733.py:89: FutureWarning: The default dtype for empty Series will be 'object' instead of 'float64' in a future version. Specify a dtype explicitly to silence this warning.\n",
      "  legend = pandas.Series(legend).sort_index()\n",
      "C:\\Users\\gideon.b\\AppData\\Local\\Temp\\ipykernel_3796\\3167065733.py:89: FutureWarning: The default dtype for empty Series will be 'object' instead of 'float64' in a future version. Specify a dtype explicitly to silence this warning.\n",
      "  legend = pandas.Series(legend).sort_index()\n"
     ]
    },
    {
     "name": "stdout",
     "output_type": "stream",
     "text": [
      "['NV2t011516001.1', 'NV2t011516002.1', 'NV2t011516003.1']\n",
      "['NV2t011946001.1', 'NV2t011946002.1', 'NV2t011946003.1']\n",
      "['NV2t011961001.1', 'NV2t011962001.1', 'NV2t016931001.1']\n",
      "['NV2t012458001.1', 'NV2t012458002.1', 'NV2t012458003.1']\n"
     ]
    },
    {
     "name": "stderr",
     "output_type": "stream",
     "text": [
      "C:\\Users\\gideon.b\\AppData\\Local\\Temp\\ipykernel_3796\\3167065733.py:89: FutureWarning: The default dtype for empty Series will be 'object' instead of 'float64' in a future version. Specify a dtype explicitly to silence this warning.\n",
      "  legend = pandas.Series(legend).sort_index()\n",
      "C:\\Users\\gideon.b\\AppData\\Local\\Temp\\ipykernel_3796\\3167065733.py:89: FutureWarning: The default dtype for empty Series will be 'object' instead of 'float64' in a future version. Specify a dtype explicitly to silence this warning.\n",
      "  legend = pandas.Series(legend).sort_index()\n",
      "C:\\Users\\gideon.b\\AppData\\Local\\Temp\\ipykernel_3796\\3167065733.py:89: FutureWarning: The default dtype for empty Series will be 'object' instead of 'float64' in a future version. Specify a dtype explicitly to silence this warning.\n",
      "  legend = pandas.Series(legend).sort_index()\n"
     ]
    },
    {
     "name": "stdout",
     "output_type": "stream",
     "text": [
      "['NV2t012863001.1', 'NV2t012863002.1', 'NV2t012864001.1']\n",
      "['NV2t013422001.1', 'NV2t013422002.1', 'NV2t013802001.1']\n",
      "['NV2t014040001.1', 'NV2t014045001.1', 'NV2t014419001.1']\n"
     ]
    },
    {
     "name": "stderr",
     "output_type": "stream",
     "text": [
      "C:\\Users\\gideon.b\\AppData\\Local\\Temp\\ipykernel_3796\\3167065733.py:89: FutureWarning: The default dtype for empty Series will be 'object' instead of 'float64' in a future version. Specify a dtype explicitly to silence this warning.\n",
      "  legend = pandas.Series(legend).sort_index()\n",
      "C:\\Users\\gideon.b\\AppData\\Local\\Temp\\ipykernel_3796\\3167065733.py:89: FutureWarning: The default dtype for empty Series will be 'object' instead of 'float64' in a future version. Specify a dtype explicitly to silence this warning.\n",
      "  legend = pandas.Series(legend).sort_index()\n",
      "C:\\Users\\gideon.b\\AppData\\Local\\Temp\\ipykernel_3796\\3167065733.py:89: FutureWarning: The default dtype for empty Series will be 'object' instead of 'float64' in a future version. Specify a dtype explicitly to silence this warning.\n",
      "  legend = pandas.Series(legend).sort_index()\n",
      "C:\\Users\\gideon.b\\AppData\\Local\\Temp\\ipykernel_3796\\3167065733.py:89: FutureWarning: The default dtype for empty Series will be 'object' instead of 'float64' in a future version. Specify a dtype explicitly to silence this warning.\n",
      "  legend = pandas.Series(legend).sort_index()\n",
      "C:\\Users\\gideon.b\\AppData\\Local\\Temp\\ipykernel_3796\\3167065733.py:89: FutureWarning: The default dtype for empty Series will be 'object' instead of 'float64' in a future version. Specify a dtype explicitly to silence this warning.\n",
      "  legend = pandas.Series(legend).sort_index()\n"
     ]
    },
    {
     "name": "stdout",
     "output_type": "stream",
     "text": [
      "['NV2t014182001.1', 'NV2t014189001.1', 'NV2t014189002.1']\n",
      "['NV2t014543001.1', 'NV2t014701001.1', 'NV2t014703001.1']\n",
      "['NV2t014625001.1', 'NV2t014625002.1', 'NV2t014625003.1']\n",
      "['NV2t014974001.1', 'NV2t014974002.1', 'NV2t014974003.1']\n",
      "['NV2t016270001.1', 'NV2t016270002.1', 'NV2t016273001.1']\n"
     ]
    },
    {
     "name": "stderr",
     "output_type": "stream",
     "text": [
      "C:\\Users\\gideon.b\\AppData\\Local\\Temp\\ipykernel_3796\\3167065733.py:89: FutureWarning: The default dtype for empty Series will be 'object' instead of 'float64' in a future version. Specify a dtype explicitly to silence this warning.\n",
      "  legend = pandas.Series(legend).sort_index()\n",
      "C:\\Users\\gideon.b\\AppData\\Local\\Temp\\ipykernel_3796\\3167065733.py:89: FutureWarning: The default dtype for empty Series will be 'object' instead of 'float64' in a future version. Specify a dtype explicitly to silence this warning.\n",
      "  legend = pandas.Series(legend).sort_index()\n",
      "C:\\Users\\gideon.b\\AppData\\Local\\Temp\\ipykernel_3796\\3167065733.py:89: FutureWarning: The default dtype for empty Series will be 'object' instead of 'float64' in a future version. Specify a dtype explicitly to silence this warning.\n",
      "  legend = pandas.Series(legend).sort_index()\n",
      "C:\\Users\\gideon.b\\AppData\\Local\\Temp\\ipykernel_3796\\3167065733.py:89: FutureWarning: The default dtype for empty Series will be 'object' instead of 'float64' in a future version. Specify a dtype explicitly to silence this warning.\n",
      "  legend = pandas.Series(legend).sort_index()\n",
      "C:\\Users\\gideon.b\\AppData\\Local\\Temp\\ipykernel_3796\\3167065733.py:89: FutureWarning: The default dtype for empty Series will be 'object' instead of 'float64' in a future version. Specify a dtype explicitly to silence this warning.\n",
      "  legend = pandas.Series(legend).sort_index()\n"
     ]
    },
    {
     "name": "stdout",
     "output_type": "stream",
     "text": [
      "['NV2t016314001.1', 'NV2t016315001.1', 'NV2t016315002.1']\n",
      "['NV2t016930001.1', 'NV2t022950001.1', 'NV2t023399001.1']\n",
      "['NV2t017583001.1', 'NV2t017583002.1', 'NV2t017583003.1']\n",
      "['NV2t017827001.1', 'NV2t017827002.1', 'NV2t017827003.1']\n",
      "['NV2t018306001.1', 'NV2t018306002.1', 'NV2t018310001.1']\n",
      "['NV2t019110001.1', 'NV2t019110002.1', 'NV2t019110003.1']\n",
      "['NV2t019396001.1', 'NV2t019397001.1', 'NV2t019400001.1']\n"
     ]
    },
    {
     "name": "stderr",
     "output_type": "stream",
     "text": [
      "C:\\Users\\gideon.b\\AppData\\Local\\Temp\\ipykernel_3796\\3167065733.py:89: FutureWarning: The default dtype for empty Series will be 'object' instead of 'float64' in a future version. Specify a dtype explicitly to silence this warning.\n",
      "  legend = pandas.Series(legend).sort_index()\n",
      "C:\\Users\\gideon.b\\AppData\\Local\\Temp\\ipykernel_3796\\3167065733.py:89: FutureWarning: The default dtype for empty Series will be 'object' instead of 'float64' in a future version. Specify a dtype explicitly to silence this warning.\n",
      "  legend = pandas.Series(legend).sort_index()\n",
      "C:\\Users\\gideon.b\\AppData\\Local\\Temp\\ipykernel_3796\\3167065733.py:89: FutureWarning: The default dtype for empty Series will be 'object' instead of 'float64' in a future version. Specify a dtype explicitly to silence this warning.\n",
      "  legend = pandas.Series(legend).sort_index()\n"
     ]
    },
    {
     "name": "stdout",
     "output_type": "stream",
     "text": [
      "['NV2t019817001.1', 'NV2t019817002.1', 'NV2t019817003.1']\n"
     ]
    },
    {
     "name": "stderr",
     "output_type": "stream",
     "text": [
      "C:\\Users\\gideon.b\\AppData\\Local\\Temp\\ipykernel_3796\\3167065733.py:89: FutureWarning: The default dtype for empty Series will be 'object' instead of 'float64' in a future version. Specify a dtype explicitly to silence this warning.\n",
      "  legend = pandas.Series(legend).sort_index()\n"
     ]
    },
    {
     "name": "stdout",
     "output_type": "stream",
     "text": [
      "['NV2t019821001.1', 'NV2t019821002.1', 'NV2t019821003.1']\n"
     ]
    },
    {
     "name": "stderr",
     "output_type": "stream",
     "text": [
      "C:\\Users\\gideon.b\\AppData\\Local\\Temp\\ipykernel_3796\\3167065733.py:89: FutureWarning: The default dtype for empty Series will be 'object' instead of 'float64' in a future version. Specify a dtype explicitly to silence this warning.\n",
      "  legend = pandas.Series(legend).sort_index()\n",
      "C:\\Users\\gideon.b\\AppData\\Local\\Temp\\ipykernel_3796\\3167065733.py:89: FutureWarning: The default dtype for empty Series will be 'object' instead of 'float64' in a future version. Specify a dtype explicitly to silence this warning.\n",
      "  legend = pandas.Series(legend).sort_index()\n"
     ]
    },
    {
     "name": "stdout",
     "output_type": "stream",
     "text": [
      "['NV2t020187001.1', 'NV2t020188003.1', 'NV2t020188004.1']\n",
      "['NV2t020722001.1', 'NV2t020722002.1', 'NV2t020722003.1']\n"
     ]
    },
    {
     "name": "stderr",
     "output_type": "stream",
     "text": [
      "C:\\Users\\gideon.b\\AppData\\Local\\Temp\\ipykernel_3796\\3167065733.py:89: FutureWarning: The default dtype for empty Series will be 'object' instead of 'float64' in a future version. Specify a dtype explicitly to silence this warning.\n",
      "  legend = pandas.Series(legend).sort_index()\n",
      "C:\\Users\\gideon.b\\AppData\\Local\\Temp\\ipykernel_3796\\3167065733.py:89: FutureWarning: The default dtype for empty Series will be 'object' instead of 'float64' in a future version. Specify a dtype explicitly to silence this warning.\n",
      "  legend = pandas.Series(legend).sort_index()\n",
      "C:\\Users\\gideon.b\\AppData\\Local\\Temp\\ipykernel_3796\\3167065733.py:89: FutureWarning: The default dtype for empty Series will be 'object' instead of 'float64' in a future version. Specify a dtype explicitly to silence this warning.\n",
      "  legend = pandas.Series(legend).sort_index()\n",
      "C:\\Users\\gideon.b\\AppData\\Local\\Temp\\ipykernel_3796\\3167065733.py:89: FutureWarning: The default dtype for empty Series will be 'object' instead of 'float64' in a future version. Specify a dtype explicitly to silence this warning.\n",
      "  legend = pandas.Series(legend).sort_index()\n",
      "C:\\Users\\gideon.b\\AppData\\Local\\Temp\\ipykernel_3796\\3167065733.py:89: FutureWarning: The default dtype for empty Series will be 'object' instead of 'float64' in a future version. Specify a dtype explicitly to silence this warning.\n",
      "  legend = pandas.Series(legend).sort_index()\n"
     ]
    },
    {
     "name": "stdout",
     "output_type": "stream",
     "text": [
      "['NV2t020778001.1', 'NV2t020778002.1', 'NV2t020778003.1']\n",
      "['NV2t021283001.1', 'NV2t021283002.1', 'NV2t021283003.1']\n",
      "['NV2t021630001.1', 'NV2t021631001.1', 'NV2t021635001.1']\n",
      "['NV2t021855001.1', 'NV2t022384001.1', 'NV2t022384002.1']\n",
      "['NV2t022985001.1', 'NV2t023295001.1', 'NV2t023295002.1']\n"
     ]
    },
    {
     "name": "stderr",
     "output_type": "stream",
     "text": [
      "C:\\Users\\gideon.b\\AppData\\Local\\Temp\\ipykernel_3796\\3167065733.py:89: FutureWarning: The default dtype for empty Series will be 'object' instead of 'float64' in a future version. Specify a dtype explicitly to silence this warning.\n",
      "  legend = pandas.Series(legend).sort_index()\n",
      "C:\\Users\\gideon.b\\AppData\\Local\\Temp\\ipykernel_3796\\3167065733.py:89: FutureWarning: The default dtype for empty Series will be 'object' instead of 'float64' in a future version. Specify a dtype explicitly to silence this warning.\n",
      "  legend = pandas.Series(legend).sort_index()\n",
      "C:\\Users\\gideon.b\\AppData\\Local\\Temp\\ipykernel_3796\\3167065733.py:89: FutureWarning: The default dtype for empty Series will be 'object' instead of 'float64' in a future version. Specify a dtype explicitly to silence this warning.\n",
      "  legend = pandas.Series(legend).sort_index()\n",
      "C:\\Users\\gideon.b\\AppData\\Local\\Temp\\ipykernel_3796\\3167065733.py:89: FutureWarning: The default dtype for empty Series will be 'object' instead of 'float64' in a future version. Specify a dtype explicitly to silence this warning.\n",
      "  legend = pandas.Series(legend).sort_index()\n",
      "C:\\Users\\gideon.b\\AppData\\Local\\Temp\\ipykernel_3796\\3167065733.py:89: FutureWarning: The default dtype for empty Series will be 'object' instead of 'float64' in a future version. Specify a dtype explicitly to silence this warning.\n",
      "  legend = pandas.Series(legend).sort_index()\n",
      "C:\\Users\\gideon.b\\AppData\\Local\\Temp\\ipykernel_3796\\3167065733.py:89: FutureWarning: The default dtype for empty Series will be 'object' instead of 'float64' in a future version. Specify a dtype explicitly to silence this warning.\n",
      "  legend = pandas.Series(legend).sort_index()\n",
      "C:\\Users\\gideon.b\\AppData\\Local\\Temp\\ipykernel_3796\\3167065733.py:89: FutureWarning: The default dtype for empty Series will be 'object' instead of 'float64' in a future version. Specify a dtype explicitly to silence this warning.\n",
      "  legend = pandas.Series(legend).sort_index()\n"
     ]
    },
    {
     "name": "stdout",
     "output_type": "stream",
     "text": [
      "['NV2t023465001.1', 'NV2t023465002.1', 'NV2t023465003.1']\n",
      "['Sc4wPfr_1514.2.g69.t1', 'NV2t018077001.1']\n",
      "['Sc4wPfr_6.1.g604.t1', 'NV2t017626001.1']\n",
      "['Sc4wPfr_6.1.g610.t1', 'NV2t008904001.1']\n",
      "['Sc4wPfr_6.1.g617.t1', 'Sc4wPfr_6.1.g617.t2']\n",
      "['Sc4wPfr_85.g891.t1', 'NV2t003735001.1']\n",
      "['Sc4wPfr_113.g1017.t1', 'Sc4wPfr_113.g1017.t2']\n",
      "['Sc4wPfr_1690.g8017.t1', 'Sc4wPfr_90.g1176.t1']\n",
      "['Sc4wPfr_90.g1177.t1', 'Sc4wPfr_90.g1177.t2']\n",
      "['Sc4wPfr_1127.1.g1463.t1', 'Sc4wPfr_467.g16222.t1']\n",
      "['Sc4wPfr_1127.1.g1468.t1', 'Sc4wPfr_1127.1.g1468.t2']\n",
      "['Sc4wPfr_172.1.g1573.t1', 'Sc4wPfr_172.2.g23178.t1']\n",
      "['Sc4wPfr_14.g1743.t1', 'NV2t015818001.1']\n",
      "['Sc4wPfr_14.g1744.t1', 'NV2t015819001.1']\n"
     ]
    },
    {
     "name": "stderr",
     "output_type": "stream",
     "text": [
      "C:\\Users\\gideon.b\\AppData\\Local\\Temp\\ipykernel_3796\\3167065733.py:89: FutureWarning: The default dtype for empty Series will be 'object' instead of 'float64' in a future version. Specify a dtype explicitly to silence this warning.\n",
      "  legend = pandas.Series(legend).sort_index()\n",
      "C:\\Users\\gideon.b\\AppData\\Local\\Temp\\ipykernel_3796\\3167065733.py:89: FutureWarning: The default dtype for empty Series will be 'object' instead of 'float64' in a future version. Specify a dtype explicitly to silence this warning.\n",
      "  legend = pandas.Series(legend).sort_index()\n",
      "C:\\Users\\gideon.b\\AppData\\Local\\Temp\\ipykernel_3796\\3167065733.py:89: FutureWarning: The default dtype for empty Series will be 'object' instead of 'float64' in a future version. Specify a dtype explicitly to silence this warning.\n",
      "  legend = pandas.Series(legend).sort_index()\n",
      "C:\\Users\\gideon.b\\AppData\\Local\\Temp\\ipykernel_3796\\3167065733.py:89: FutureWarning: The default dtype for empty Series will be 'object' instead of 'float64' in a future version. Specify a dtype explicitly to silence this warning.\n",
      "  legend = pandas.Series(legend).sort_index()\n",
      "C:\\Users\\gideon.b\\AppData\\Local\\Temp\\ipykernel_3796\\3167065733.py:89: FutureWarning: The default dtype for empty Series will be 'object' instead of 'float64' in a future version. Specify a dtype explicitly to silence this warning.\n",
      "  legend = pandas.Series(legend).sort_index()\n",
      "C:\\Users\\gideon.b\\AppData\\Local\\Temp\\ipykernel_3796\\3167065733.py:89: FutureWarning: The default dtype for empty Series will be 'object' instead of 'float64' in a future version. Specify a dtype explicitly to silence this warning.\n",
      "  legend = pandas.Series(legend).sort_index()\n",
      "C:\\Users\\gideon.b\\AppData\\Local\\Temp\\ipykernel_3796\\3167065733.py:89: FutureWarning: The default dtype for empty Series will be 'object' instead of 'float64' in a future version. Specify a dtype explicitly to silence this warning.\n",
      "  legend = pandas.Series(legend).sort_index()\n",
      "C:\\Users\\gideon.b\\AppData\\Local\\Temp\\ipykernel_3796\\3167065733.py:89: FutureWarning: The default dtype for empty Series will be 'object' instead of 'float64' in a future version. Specify a dtype explicitly to silence this warning.\n",
      "  legend = pandas.Series(legend).sort_index()\n"
     ]
    },
    {
     "name": "stdout",
     "output_type": "stream",
     "text": [
      "['Sc4wPfr_187.g1965.t1', 'NV2t020640001.1']\n",
      "['Sc4wPfr_68.g2320.t1', 'Sc4wPfr_68.g2322.t1']\n",
      "['Sc4wPfr_68.g2367.t1', 'NV2t012730001.1']\n",
      "['Sc4wPfr_2235.g2661.t1', 'Sc4wPfr_73.g11572.t1']\n",
      "['Sc4wPfr_576.1.g2978.t1', 'NV2t010250001.1']\n",
      "['Sc4wPfr_597.1.g3368.t1', 'Sc4wPfr_597.2.g14347.t1']\n",
      "['Sc4wPfr_5.g3410.t1', 'NV2t013522001.1']\n",
      "['Sc4wPfr_652.g3691.t1', 'NV2t010745001.1']\n",
      "['Sc4wPfr_758.g3713.t1', 'Sc4wPfr_758.g3713.t2']\n",
      "['Sc4wPfr_839.g4004.t1', 'NV2t013368001.1']\n"
     ]
    },
    {
     "name": "stderr",
     "output_type": "stream",
     "text": [
      "C:\\Users\\gideon.b\\AppData\\Local\\Temp\\ipykernel_3796\\3167065733.py:89: FutureWarning: The default dtype for empty Series will be 'object' instead of 'float64' in a future version. Specify a dtype explicitly to silence this warning.\n",
      "  legend = pandas.Series(legend).sort_index()\n",
      "C:\\Users\\gideon.b\\AppData\\Local\\Temp\\ipykernel_3796\\3167065733.py:89: FutureWarning: The default dtype for empty Series will be 'object' instead of 'float64' in a future version. Specify a dtype explicitly to silence this warning.\n",
      "  legend = pandas.Series(legend).sort_index()\n",
      "C:\\Users\\gideon.b\\AppData\\Local\\Temp\\ipykernel_3796\\3167065733.py:89: FutureWarning: The default dtype for empty Series will be 'object' instead of 'float64' in a future version. Specify a dtype explicitly to silence this warning.\n",
      "  legend = pandas.Series(legend).sort_index()\n",
      "C:\\Users\\gideon.b\\AppData\\Local\\Temp\\ipykernel_3796\\3167065733.py:89: FutureWarning: The default dtype for empty Series will be 'object' instead of 'float64' in a future version. Specify a dtype explicitly to silence this warning.\n",
      "  legend = pandas.Series(legend).sort_index()\n",
      "C:\\Users\\gideon.b\\AppData\\Local\\Temp\\ipykernel_3796\\3167065733.py:89: FutureWarning: The default dtype for empty Series will be 'object' instead of 'float64' in a future version. Specify a dtype explicitly to silence this warning.\n",
      "  legend = pandas.Series(legend).sort_index()\n",
      "C:\\Users\\gideon.b\\AppData\\Local\\Temp\\ipykernel_3796\\3167065733.py:89: FutureWarning: The default dtype for empty Series will be 'object' instead of 'float64' in a future version. Specify a dtype explicitly to silence this warning.\n",
      "  legend = pandas.Series(legend).sort_index()\n",
      "C:\\Users\\gideon.b\\AppData\\Local\\Temp\\ipykernel_3796\\3167065733.py:89: FutureWarning: The default dtype for empty Series will be 'object' instead of 'float64' in a future version. Specify a dtype explicitly to silence this warning.\n",
      "  legend = pandas.Series(legend).sort_index()\n",
      "C:\\Users\\gideon.b\\AppData\\Local\\Temp\\ipykernel_3796\\3167065733.py:89: FutureWarning: The default dtype for empty Series will be 'object' instead of 'float64' in a future version. Specify a dtype explicitly to silence this warning.\n",
      "  legend = pandas.Series(legend).sort_index()\n",
      "C:\\Users\\gideon.b\\AppData\\Local\\Temp\\ipykernel_3796\\3167065733.py:89: FutureWarning: The default dtype for empty Series will be 'object' instead of 'float64' in a future version. Specify a dtype explicitly to silence this warning.\n",
      "  legend = pandas.Series(legend).sort_index()\n",
      "C:\\Users\\gideon.b\\AppData\\Local\\Temp\\ipykernel_3796\\3167065733.py:89: FutureWarning: The default dtype for empty Series will be 'object' instead of 'float64' in a future version. Specify a dtype explicitly to silence this warning.\n",
      "  legend = pandas.Series(legend).sort_index()\n",
      "C:\\Users\\gideon.b\\AppData\\Local\\Temp\\ipykernel_3796\\3167065733.py:89: FutureWarning: The default dtype for empty Series will be 'object' instead of 'float64' in a future version. Specify a dtype explicitly to silence this warning.\n",
      "  legend = pandas.Series(legend).sort_index()\n",
      "C:\\Users\\gideon.b\\AppData\\Local\\Temp\\ipykernel_3796\\3167065733.py:89: FutureWarning: The default dtype for empty Series will be 'object' instead of 'float64' in a future version. Specify a dtype explicitly to silence this warning.\n",
      "  legend = pandas.Series(legend).sort_index()\n",
      "C:\\Users\\gideon.b\\AppData\\Local\\Temp\\ipykernel_3796\\3167065733.py:89: FutureWarning: The default dtype for empty Series will be 'object' instead of 'float64' in a future version. Specify a dtype explicitly to silence this warning.\n",
      "  legend = pandas.Series(legend).sort_index()\n",
      "C:\\Users\\gideon.b\\AppData\\Local\\Temp\\ipykernel_3796\\3167065733.py:89: FutureWarning: The default dtype for empty Series will be 'object' instead of 'float64' in a future version. Specify a dtype explicitly to silence this warning.\n",
      "  legend = pandas.Series(legend).sort_index()\n",
      "C:\\Users\\gideon.b\\AppData\\Local\\Temp\\ipykernel_3796\\3167065733.py:89: FutureWarning: The default dtype for empty Series will be 'object' instead of 'float64' in a future version. Specify a dtype explicitly to silence this warning.\n",
      "  legend = pandas.Series(legend).sort_index()\n",
      "C:\\Users\\gideon.b\\AppData\\Local\\Temp\\ipykernel_3796\\3167065733.py:89: FutureWarning: The default dtype for empty Series will be 'object' instead of 'float64' in a future version. Specify a dtype explicitly to silence this warning.\n",
      "  legend = pandas.Series(legend).sort_index()\n",
      "C:\\Users\\gideon.b\\AppData\\Local\\Temp\\ipykernel_3796\\3167065733.py:89: FutureWarning: The default dtype for empty Series will be 'object' instead of 'float64' in a future version. Specify a dtype explicitly to silence this warning.\n",
      "  legend = pandas.Series(legend).sort_index()\n",
      "C:\\Users\\gideon.b\\AppData\\Local\\Temp\\ipykernel_3796\\3167065733.py:89: FutureWarning: The default dtype for empty Series will be 'object' instead of 'float64' in a future version. Specify a dtype explicitly to silence this warning.\n",
      "  legend = pandas.Series(legend).sort_index()\n"
     ]
    },
    {
     "name": "stdout",
     "output_type": "stream",
     "text": [
      "['Sc4wPfr_206.g8648.t1', 'Sc4wPfr_707.1.g4132.t1']\n",
      "['Sc4wPfr_707.1.g4138.t1', 'NV2t011287001.1']\n",
      "['Sc4wPfr_230.g26213.t1', 'Sc4wPfr_62.g4386.t1']\n",
      "['Sc4wPfr_79.4.g4971.t1', 'Sc4wPfr_79.4.g4972.t1']\n",
      "['Sc4wPfr_79.4.g4973.t1', 'NV2t003100001.1']\n",
      "['Sc4wPfr_1120.g5077.t1', 'Sc4wPfr_1479.g32577.t1']\n",
      "['Sc4wPfr_294.g5099.t1', 'Sc4wPfr_294.g5099.t2']\n",
      "['Sc4wPfr_325.1.g5332.t1', 'NV2t021926001.1']\n",
      "['Sc4wPfr_125.g5655.t1', 'Sc4wPfr_1969.g28118.t1']\n",
      "['Sc4wPfr_589.g6008.t1', 'NV2t017332003.1']\n",
      "['Sc4wPfr_589.g6032.t1', 'NV2t011169001.1']\n",
      "['Sc4wPfr_177.1.g6220.t1', 'Sc4wPfr_177.1.g6228.t1']\n",
      "['Sc4wPfr_175.g6382.t1', 'Sc4wPfr_175.g6382.t2']\n",
      "['Sc4wPfr_1298.g6413.t1', 'NV2t007835003.1']\n",
      "['Sc4wPfr_1298.g6418.t1', 'NV2t009869001.1']\n"
     ]
    },
    {
     "name": "stderr",
     "output_type": "stream",
     "text": [
      "C:\\Users\\gideon.b\\AppData\\Local\\Temp\\ipykernel_3796\\3167065733.py:89: FutureWarning: The default dtype for empty Series will be 'object' instead of 'float64' in a future version. Specify a dtype explicitly to silence this warning.\n",
      "  legend = pandas.Series(legend).sort_index()\n",
      "C:\\Users\\gideon.b\\AppData\\Local\\Temp\\ipykernel_3796\\3167065733.py:89: FutureWarning: The default dtype for empty Series will be 'object' instead of 'float64' in a future version. Specify a dtype explicitly to silence this warning.\n",
      "  legend = pandas.Series(legend).sort_index()\n",
      "C:\\Users\\gideon.b\\AppData\\Local\\Temp\\ipykernel_3796\\3167065733.py:89: FutureWarning: The default dtype for empty Series will be 'object' instead of 'float64' in a future version. Specify a dtype explicitly to silence this warning.\n",
      "  legend = pandas.Series(legend).sort_index()\n",
      "C:\\Users\\gideon.b\\AppData\\Local\\Temp\\ipykernel_3796\\3167065733.py:89: FutureWarning: The default dtype for empty Series will be 'object' instead of 'float64' in a future version. Specify a dtype explicitly to silence this warning.\n",
      "  legend = pandas.Series(legend).sort_index()\n",
      "C:\\Users\\gideon.b\\AppData\\Local\\Temp\\ipykernel_3796\\3167065733.py:89: FutureWarning: The default dtype for empty Series will be 'object' instead of 'float64' in a future version. Specify a dtype explicitly to silence this warning.\n",
      "  legend = pandas.Series(legend).sort_index()\n",
      "C:\\Users\\gideon.b\\AppData\\Local\\Temp\\ipykernel_3796\\3167065733.py:89: FutureWarning: The default dtype for empty Series will be 'object' instead of 'float64' in a future version. Specify a dtype explicitly to silence this warning.\n",
      "  legend = pandas.Series(legend).sort_index()\n",
      "C:\\Users\\gideon.b\\AppData\\Local\\Temp\\ipykernel_3796\\3167065733.py:89: FutureWarning: The default dtype for empty Series will be 'object' instead of 'float64' in a future version. Specify a dtype explicitly to silence this warning.\n",
      "  legend = pandas.Series(legend).sort_index()\n"
     ]
    },
    {
     "name": "stdout",
     "output_type": "stream",
     "text": [
      "['Sc4wPfr_811.g6452.t1', 'NV2t005200001.1']\n",
      "['Sc4wPfr_1086.g6575.t1', 'Sc4wPfr_1086.g6575.t2']\n",
      "['Sc4wPfr_1020.1.g6652.t1', 'Sc4wPfr_1020.1.g6653.t1']\n",
      "['Sc4wPfr_1400.g6667.t1', 'Sc4wPfr_2727.g32000.t1']\n",
      "['Sc4wPfr_1544.g6783.t1', 'Sc4wPfr_1544.g6783.t2']\n",
      "['Sc4wPfr_1989.g6892.t1', 'Sc4wPfr_2145.g14629.t1']\n",
      "['Sc4wPfr_435.1.g6986.t1', 'NV2t022749001.1']\n",
      "['Sc4wPfr_356.g7047.t1', 'NV2t023275001.1']\n"
     ]
    },
    {
     "name": "stderr",
     "output_type": "stream",
     "text": [
      "C:\\Users\\gideon.b\\AppData\\Local\\Temp\\ipykernel_3796\\3167065733.py:89: FutureWarning: The default dtype for empty Series will be 'object' instead of 'float64' in a future version. Specify a dtype explicitly to silence this warning.\n",
      "  legend = pandas.Series(legend).sort_index()\n",
      "C:\\Users\\gideon.b\\AppData\\Local\\Temp\\ipykernel_3796\\3167065733.py:89: FutureWarning: The default dtype for empty Series will be 'object' instead of 'float64' in a future version. Specify a dtype explicitly to silence this warning.\n",
      "  legend = pandas.Series(legend).sort_index()\n",
      "C:\\Users\\gideon.b\\AppData\\Local\\Temp\\ipykernel_3796\\3167065733.py:89: FutureWarning: The default dtype for empty Series will be 'object' instead of 'float64' in a future version. Specify a dtype explicitly to silence this warning.\n",
      "  legend = pandas.Series(legend).sort_index()\n",
      "C:\\Users\\gideon.b\\AppData\\Local\\Temp\\ipykernel_3796\\3167065733.py:89: FutureWarning: The default dtype for empty Series will be 'object' instead of 'float64' in a future version. Specify a dtype explicitly to silence this warning.\n",
      "  legend = pandas.Series(legend).sort_index()\n",
      "C:\\Users\\gideon.b\\AppData\\Local\\Temp\\ipykernel_3796\\3167065733.py:89: FutureWarning: The default dtype for empty Series will be 'object' instead of 'float64' in a future version. Specify a dtype explicitly to silence this warning.\n",
      "  legend = pandas.Series(legend).sort_index()\n",
      "C:\\Users\\gideon.b\\AppData\\Local\\Temp\\ipykernel_3796\\3167065733.py:89: FutureWarning: The default dtype for empty Series will be 'object' instead of 'float64' in a future version. Specify a dtype explicitly to silence this warning.\n",
      "  legend = pandas.Series(legend).sort_index()\n",
      "C:\\Users\\gideon.b\\AppData\\Local\\Temp\\ipykernel_3796\\3167065733.py:89: FutureWarning: The default dtype for empty Series will be 'object' instead of 'float64' in a future version. Specify a dtype explicitly to silence this warning.\n",
      "  legend = pandas.Series(legend).sort_index()\n",
      "C:\\Users\\gideon.b\\AppData\\Local\\Temp\\ipykernel_3796\\3167065733.py:89: FutureWarning: The default dtype for empty Series will be 'object' instead of 'float64' in a future version. Specify a dtype explicitly to silence this warning.\n",
      "  legend = pandas.Series(legend).sort_index()\n"
     ]
    },
    {
     "name": "stdout",
     "output_type": "stream",
     "text": [
      "['Sc4wPfr_356.g7066.t1', 'Sc4wPfr_356.g7067.t1']\n",
      "['Sc4wPfr_109.1.g7302.t1', 'Sc4wPfr_109.1.g7302.t2']\n",
      "['Sc4wPfr_1380.1.g8427.t1', 'NV2t021954001.1']\n",
      "['Sc4wPfr_16.1.g8497.t1', 'NV2t011872002.1']\n",
      "['Sc4wPfr_289.1.g8519.t1', 'NV2t017578001.1']\n",
      "['Sc4wPfr_703.g8968.t1', 'Sc4wPfr_703.g8968.t2']\n"
     ]
    },
    {
     "name": "stderr",
     "output_type": "stream",
     "text": [
      "C:\\Users\\gideon.b\\AppData\\Local\\Temp\\ipykernel_3796\\3167065733.py:89: FutureWarning: The default dtype for empty Series will be 'object' instead of 'float64' in a future version. Specify a dtype explicitly to silence this warning.\n",
      "  legend = pandas.Series(legend).sort_index()\n",
      "C:\\Users\\gideon.b\\AppData\\Local\\Temp\\ipykernel_3796\\3167065733.py:89: FutureWarning: The default dtype for empty Series will be 'object' instead of 'float64' in a future version. Specify a dtype explicitly to silence this warning.\n",
      "  legend = pandas.Series(legend).sort_index()\n",
      "C:\\Users\\gideon.b\\AppData\\Local\\Temp\\ipykernel_3796\\3167065733.py:89: FutureWarning: The default dtype for empty Series will be 'object' instead of 'float64' in a future version. Specify a dtype explicitly to silence this warning.\n",
      "  legend = pandas.Series(legend).sort_index()\n",
      "C:\\Users\\gideon.b\\AppData\\Local\\Temp\\ipykernel_3796\\3167065733.py:89: FutureWarning: The default dtype for empty Series will be 'object' instead of 'float64' in a future version. Specify a dtype explicitly to silence this warning.\n",
      "  legend = pandas.Series(legend).sort_index()\n",
      "C:\\Users\\gideon.b\\AppData\\Local\\Temp\\ipykernel_3796\\3167065733.py:89: FutureWarning: The default dtype for empty Series will be 'object' instead of 'float64' in a future version. Specify a dtype explicitly to silence this warning.\n",
      "  legend = pandas.Series(legend).sort_index()\n",
      "C:\\Users\\gideon.b\\AppData\\Local\\Temp\\ipykernel_3796\\3167065733.py:89: FutureWarning: The default dtype for empty Series will be 'object' instead of 'float64' in a future version. Specify a dtype explicitly to silence this warning.\n",
      "  legend = pandas.Series(legend).sort_index()\n",
      "C:\\Users\\gideon.b\\AppData\\Local\\Temp\\ipykernel_3796\\3167065733.py:89: FutureWarning: The default dtype for empty Series will be 'object' instead of 'float64' in a future version. Specify a dtype explicitly to silence this warning.\n",
      "  legend = pandas.Series(legend).sort_index()\n",
      "C:\\Users\\gideon.b\\AppData\\Local\\Temp\\ipykernel_3796\\3167065733.py:89: FutureWarning: The default dtype for empty Series will be 'object' instead of 'float64' in a future version. Specify a dtype explicitly to silence this warning.\n",
      "  legend = pandas.Series(legend).sort_index()\n",
      "C:\\Users\\gideon.b\\AppData\\Local\\Temp\\ipykernel_3796\\3167065733.py:89: FutureWarning: The default dtype for empty Series will be 'object' instead of 'float64' in a future version. Specify a dtype explicitly to silence this warning.\n",
      "  legend = pandas.Series(legend).sort_index()\n",
      "C:\\Users\\gideon.b\\AppData\\Local\\Temp\\ipykernel_3796\\3167065733.py:89: FutureWarning: The default dtype for empty Series will be 'object' instead of 'float64' in a future version. Specify a dtype explicitly to silence this warning.\n",
      "  legend = pandas.Series(legend).sort_index()\n",
      "C:\\Users\\gideon.b\\AppData\\Local\\Temp\\ipykernel_3796\\3167065733.py:89: FutureWarning: The default dtype for empty Series will be 'object' instead of 'float64' in a future version. Specify a dtype explicitly to silence this warning.\n",
      "  legend = pandas.Series(legend).sort_index()\n",
      "C:\\Users\\gideon.b\\AppData\\Local\\Temp\\ipykernel_3796\\3167065733.py:89: FutureWarning: The default dtype for empty Series will be 'object' instead of 'float64' in a future version. Specify a dtype explicitly to silence this warning.\n",
      "  legend = pandas.Series(legend).sort_index()\n",
      "C:\\Users\\gideon.b\\AppData\\Local\\Temp\\ipykernel_3796\\3167065733.py:89: FutureWarning: The default dtype for empty Series will be 'object' instead of 'float64' in a future version. Specify a dtype explicitly to silence this warning.\n",
      "  legend = pandas.Series(legend).sort_index()\n"
     ]
    },
    {
     "name": "stdout",
     "output_type": "stream",
     "text": [
      "['Sc4wPfr_1257.g30612.t1', 'Sc4wPfr_934.1.g9282.t1']\n",
      "['Sc4wPfr_1360.g9377.t1', 'Sc4wPfr_1360.g9388.t1']\n",
      "['Sc4wPfr_307.g9631.t1', 'NV2t001171001.1']\n",
      "['Sc4wPfr_1091.g16431.t1', 'Sc4wPfr_3168.g9700.t1']\n",
      "['Sc4wPfr_926.1.g9713.t1', 'Sc4wPfr_926.1.g9713.t2']\n",
      "['Sc4wPfr_516.2.g9758.t1', 'NV2t018788002.1']\n",
      "['Sc4wPfr_1300.g9822.t1', 'NV2t012165001.1']\n",
      "['Sc4wPfr_1300.g9823.t1', 'NV2t012171001.1']\n"
     ]
    },
    {
     "name": "stderr",
     "output_type": "stream",
     "text": [
      "C:\\Users\\gideon.b\\AppData\\Local\\Temp\\ipykernel_3796\\3167065733.py:89: FutureWarning: The default dtype for empty Series will be 'object' instead of 'float64' in a future version. Specify a dtype explicitly to silence this warning.\n",
      "  legend = pandas.Series(legend).sort_index()\n",
      "C:\\Users\\gideon.b\\AppData\\Local\\Temp\\ipykernel_3796\\3167065733.py:89: FutureWarning: The default dtype for empty Series will be 'object' instead of 'float64' in a future version. Specify a dtype explicitly to silence this warning.\n",
      "  legend = pandas.Series(legend).sort_index()\n",
      "C:\\Users\\gideon.b\\AppData\\Local\\Temp\\ipykernel_3796\\3167065733.py:89: FutureWarning: The default dtype for empty Series will be 'object' instead of 'float64' in a future version. Specify a dtype explicitly to silence this warning.\n",
      "  legend = pandas.Series(legend).sort_index()\n",
      "C:\\Users\\gideon.b\\AppData\\Local\\Temp\\ipykernel_3796\\3167065733.py:89: FutureWarning: The default dtype for empty Series will be 'object' instead of 'float64' in a future version. Specify a dtype explicitly to silence this warning.\n",
      "  legend = pandas.Series(legend).sort_index()\n",
      "C:\\Users\\gideon.b\\AppData\\Local\\Temp\\ipykernel_3796\\3167065733.py:89: FutureWarning: The default dtype for empty Series will be 'object' instead of 'float64' in a future version. Specify a dtype explicitly to silence this warning.\n",
      "  legend = pandas.Series(legend).sort_index()\n"
     ]
    },
    {
     "name": "stdout",
     "output_type": "stream",
     "text": [
      "['Sc4wPfr_504.g10344.t1', 'NV2t003300001.1']\n",
      "['Sc4wPfr_309.g10778.t1', 'NV2t012902001.1']\n",
      "['Sc4wPfr_309.g10792.t1', 'NV2t013212001.1']\n",
      "['Sc4wPfr_5.2.g10955.t1', 'Sc4wPfr_5.2.g10955.t2']\n",
      "['Sc4wPfr_351.g11271.t1', 'NV2t009537001.1']\n",
      "['Sc4wPfr_351.g11274.t1', 'NV2t003725001.1']\n",
      "['Sc4wPfr_272.g11351.t1', 'NV2t021409001.1']\n",
      "['Sc4wPfr_272.g11354.t1', 'NV2t023710001.1']\n",
      "['Sc4wPfr_272.g11395.t1', 'NV2t022018001.1']\n",
      "['Sc4wPfr_73.g11519.t1', 'NV2t003560001.1']\n",
      "['Sc4wPfr_73.g11550.t1', 'NV2t014474001.1']\n",
      "['Sc4wPfr_807.g11634.t1', 'NV2t017536001.1']\n"
     ]
    },
    {
     "name": "stderr",
     "output_type": "stream",
     "text": [
      "C:\\Users\\gideon.b\\AppData\\Local\\Temp\\ipykernel_3796\\3167065733.py:89: FutureWarning: The default dtype for empty Series will be 'object' instead of 'float64' in a future version. Specify a dtype explicitly to silence this warning.\n",
      "  legend = pandas.Series(legend).sort_index()\n",
      "C:\\Users\\gideon.b\\AppData\\Local\\Temp\\ipykernel_3796\\3167065733.py:89: FutureWarning: The default dtype for empty Series will be 'object' instead of 'float64' in a future version. Specify a dtype explicitly to silence this warning.\n",
      "  legend = pandas.Series(legend).sort_index()\n",
      "C:\\Users\\gideon.b\\AppData\\Local\\Temp\\ipykernel_3796\\3167065733.py:89: FutureWarning: The default dtype for empty Series will be 'object' instead of 'float64' in a future version. Specify a dtype explicitly to silence this warning.\n",
      "  legend = pandas.Series(legend).sort_index()\n",
      "C:\\Users\\gideon.b\\AppData\\Local\\Temp\\ipykernel_3796\\3167065733.py:89: FutureWarning: The default dtype for empty Series will be 'object' instead of 'float64' in a future version. Specify a dtype explicitly to silence this warning.\n",
      "  legend = pandas.Series(legend).sort_index()\n",
      "C:\\Users\\gideon.b\\AppData\\Local\\Temp\\ipykernel_3796\\3167065733.py:89: FutureWarning: The default dtype for empty Series will be 'object' instead of 'float64' in a future version. Specify a dtype explicitly to silence this warning.\n",
      "  legend = pandas.Series(legend).sort_index()\n",
      "C:\\Users\\gideon.b\\AppData\\Local\\Temp\\ipykernel_3796\\3167065733.py:89: FutureWarning: The default dtype for empty Series will be 'object' instead of 'float64' in a future version. Specify a dtype explicitly to silence this warning.\n",
      "  legend = pandas.Series(legend).sort_index()\n",
      "C:\\Users\\gideon.b\\AppData\\Local\\Temp\\ipykernel_3796\\3167065733.py:89: FutureWarning: The default dtype for empty Series will be 'object' instead of 'float64' in a future version. Specify a dtype explicitly to silence this warning.\n",
      "  legend = pandas.Series(legend).sort_index()\n",
      "C:\\Users\\gideon.b\\AppData\\Local\\Temp\\ipykernel_3796\\3167065733.py:89: FutureWarning: The default dtype for empty Series will be 'object' instead of 'float64' in a future version. Specify a dtype explicitly to silence this warning.\n",
      "  legend = pandas.Series(legend).sort_index()\n"
     ]
    },
    {
     "name": "stdout",
     "output_type": "stream",
     "text": [
      "['Sc4wPfr_174.g11799.t2', 'NV2t013521001.1']\n",
      "['Sc4wPfr_174.g11872.t1', 'NV2t018585001.1']\n",
      "['Sc4wPfr_146.g12039.t1', 'Sc4wPfr_146.g12039.t2']\n",
      "['Sc4wPfr_657.g12374.t1', 'NV2t022750002.1']\n",
      "['Sc4wPfr_446.g12585.t1', 'NV2t007641001.1']\n",
      "['Sc4wPfr_304.2.g12739.t1', 'NV2t007378001.1']\n",
      "['Sc4wPfr_292.g13098.t1', 'Sc4wPfr_292.g13098.t2']\n",
      "['Sc4wPfr_297.g13155.t1', 'NV2t022763001.1']\n",
      "['Sc4wPfr_439.g20774.t1', 'Sc4wPfr_79.g13376.t1']\n",
      "['Sc4wPfr_396.1.g13876.t2', 'NV2t009511001.1']\n",
      "['Sc4wPfr_514.g14422.t1', 'NV2t014418001.1']\n"
     ]
    },
    {
     "name": "stderr",
     "output_type": "stream",
     "text": [
      "C:\\Users\\gideon.b\\AppData\\Local\\Temp\\ipykernel_3796\\3167065733.py:89: FutureWarning: The default dtype for empty Series will be 'object' instead of 'float64' in a future version. Specify a dtype explicitly to silence this warning.\n",
      "  legend = pandas.Series(legend).sort_index()\n",
      "C:\\Users\\gideon.b\\AppData\\Local\\Temp\\ipykernel_3796\\3167065733.py:89: FutureWarning: The default dtype for empty Series will be 'object' instead of 'float64' in a future version. Specify a dtype explicitly to silence this warning.\n",
      "  legend = pandas.Series(legend).sort_index()\n",
      "C:\\Users\\gideon.b\\AppData\\Local\\Temp\\ipykernel_3796\\3167065733.py:89: FutureWarning: The default dtype for empty Series will be 'object' instead of 'float64' in a future version. Specify a dtype explicitly to silence this warning.\n",
      "  legend = pandas.Series(legend).sort_index()\n",
      "C:\\Users\\gideon.b\\AppData\\Local\\Temp\\ipykernel_3796\\3167065733.py:89: FutureWarning: The default dtype for empty Series will be 'object' instead of 'float64' in a future version. Specify a dtype explicitly to silence this warning.\n",
      "  legend = pandas.Series(legend).sort_index()\n",
      "C:\\Users\\gideon.b\\AppData\\Local\\Temp\\ipykernel_3796\\3167065733.py:89: FutureWarning: The default dtype for empty Series will be 'object' instead of 'float64' in a future version. Specify a dtype explicitly to silence this warning.\n",
      "  legend = pandas.Series(legend).sort_index()\n",
      "C:\\Users\\gideon.b\\AppData\\Local\\Temp\\ipykernel_3796\\3167065733.py:89: FutureWarning: The default dtype for empty Series will be 'object' instead of 'float64' in a future version. Specify a dtype explicitly to silence this warning.\n",
      "  legend = pandas.Series(legend).sort_index()\n",
      "C:\\Users\\gideon.b\\AppData\\Local\\Temp\\ipykernel_3796\\3167065733.py:89: FutureWarning: The default dtype for empty Series will be 'object' instead of 'float64' in a future version. Specify a dtype explicitly to silence this warning.\n",
      "  legend = pandas.Series(legend).sort_index()\n",
      "C:\\Users\\gideon.b\\AppData\\Local\\Temp\\ipykernel_3796\\3167065733.py:89: FutureWarning: The default dtype for empty Series will be 'object' instead of 'float64' in a future version. Specify a dtype explicitly to silence this warning.\n",
      "  legend = pandas.Series(legend).sort_index()\n",
      "C:\\Users\\gideon.b\\AppData\\Local\\Temp\\ipykernel_3796\\3167065733.py:89: FutureWarning: The default dtype for empty Series will be 'object' instead of 'float64' in a future version. Specify a dtype explicitly to silence this warning.\n",
      "  legend = pandas.Series(legend).sort_index()\n",
      "C:\\Users\\gideon.b\\AppData\\Local\\Temp\\ipykernel_3796\\3167065733.py:89: FutureWarning: The default dtype for empty Series will be 'object' instead of 'float64' in a future version. Specify a dtype explicitly to silence this warning.\n",
      "  legend = pandas.Series(legend).sort_index()\n",
      "C:\\Users\\gideon.b\\AppData\\Local\\Temp\\ipykernel_3796\\3167065733.py:89: FutureWarning: The default dtype for empty Series will be 'object' instead of 'float64' in a future version. Specify a dtype explicitly to silence this warning.\n",
      "  legend = pandas.Series(legend).sort_index()\n"
     ]
    },
    {
     "name": "stdout",
     "output_type": "stream",
     "text": [
      "['Sc4wPfr_635.g14743.t1', 'NV2t017494001.1']\n",
      "['Sc4wPfr_280.1.g15558.t1', 'Sc4wPfr_399.2.g14805.t1']\n",
      "['Sc4wPfr_1243.g15451.t1', 'NV2t019015001.1']\n",
      "['Sc4wPfr_1243.g15457.t1', 'Sc4wPfr_1243.g15458.t1']\n",
      "['Sc4wPfr_117.g15497.t1', 'Sc4wPfr_117.g15497.t2']\n",
      "['Sc4wPfr_1100.g15590.t1', 'Sc4wPfr_2253.g19973.t1']\n",
      "['Sc4wPfr_326.g15668.t1', 'NV2t006441001.1']\n",
      "['Sc4wPfr_326.g15690.t1', 'NV2t003953001.1']\n",
      "['Sc4wPfr_17.g15856.t1', 'Sc4wPfr_17.g15894.t1']\n",
      "['Sc4wPfr_250.g15997.t1', 'NV2t003399001.1']\n",
      "['Sc4wPfr_776.g16574.t1', 'NV2t004704001.1']\n"
     ]
    },
    {
     "name": "stderr",
     "output_type": "stream",
     "text": [
      "C:\\Users\\gideon.b\\AppData\\Local\\Temp\\ipykernel_3796\\3167065733.py:89: FutureWarning: The default dtype for empty Series will be 'object' instead of 'float64' in a future version. Specify a dtype explicitly to silence this warning.\n",
      "  legend = pandas.Series(legend).sort_index()\n",
      "C:\\Users\\gideon.b\\AppData\\Local\\Temp\\ipykernel_3796\\3167065733.py:89: FutureWarning: The default dtype for empty Series will be 'object' instead of 'float64' in a future version. Specify a dtype explicitly to silence this warning.\n",
      "  legend = pandas.Series(legend).sort_index()\n",
      "C:\\Users\\gideon.b\\AppData\\Local\\Temp\\ipykernel_3796\\3167065733.py:89: FutureWarning: The default dtype for empty Series will be 'object' instead of 'float64' in a future version. Specify a dtype explicitly to silence this warning.\n",
      "  legend = pandas.Series(legend).sort_index()\n",
      "C:\\Users\\gideon.b\\AppData\\Local\\Temp\\ipykernel_3796\\3167065733.py:89: FutureWarning: The default dtype for empty Series will be 'object' instead of 'float64' in a future version. Specify a dtype explicitly to silence this warning.\n",
      "  legend = pandas.Series(legend).sort_index()\n",
      "C:\\Users\\gideon.b\\AppData\\Local\\Temp\\ipykernel_3796\\3167065733.py:89: FutureWarning: The default dtype for empty Series will be 'object' instead of 'float64' in a future version. Specify a dtype explicitly to silence this warning.\n",
      "  legend = pandas.Series(legend).sort_index()\n",
      "C:\\Users\\gideon.b\\AppData\\Local\\Temp\\ipykernel_3796\\3167065733.py:89: FutureWarning: The default dtype for empty Series will be 'object' instead of 'float64' in a future version. Specify a dtype explicitly to silence this warning.\n",
      "  legend = pandas.Series(legend).sort_index()\n",
      "C:\\Users\\gideon.b\\AppData\\Local\\Temp\\ipykernel_3796\\3167065733.py:89: FutureWarning: The default dtype for empty Series will be 'object' instead of 'float64' in a future version. Specify a dtype explicitly to silence this warning.\n",
      "  legend = pandas.Series(legend).sort_index()\n",
      "C:\\Users\\gideon.b\\AppData\\Local\\Temp\\ipykernel_3796\\3167065733.py:89: FutureWarning: The default dtype for empty Series will be 'object' instead of 'float64' in a future version. Specify a dtype explicitly to silence this warning.\n",
      "  legend = pandas.Series(legend).sort_index()\n",
      "C:\\Users\\gideon.b\\AppData\\Local\\Temp\\ipykernel_3796\\3167065733.py:89: FutureWarning: The default dtype for empty Series will be 'object' instead of 'float64' in a future version. Specify a dtype explicitly to silence this warning.\n",
      "  legend = pandas.Series(legend).sort_index()\n",
      "C:\\Users\\gideon.b\\AppData\\Local\\Temp\\ipykernel_3796\\3167065733.py:89: FutureWarning: The default dtype for empty Series will be 'object' instead of 'float64' in a future version. Specify a dtype explicitly to silence this warning.\n",
      "  legend = pandas.Series(legend).sort_index()\n",
      "C:\\Users\\gideon.b\\AppData\\Local\\Temp\\ipykernel_3796\\3167065733.py:89: FutureWarning: The default dtype for empty Series will be 'object' instead of 'float64' in a future version. Specify a dtype explicitly to silence this warning.\n",
      "  legend = pandas.Series(legend).sort_index()\n",
      "C:\\Users\\gideon.b\\AppData\\Local\\Temp\\ipykernel_3796\\3167065733.py:89: FutureWarning: The default dtype for empty Series will be 'object' instead of 'float64' in a future version. Specify a dtype explicitly to silence this warning.\n",
      "  legend = pandas.Series(legend).sort_index()\n",
      "C:\\Users\\gideon.b\\AppData\\Local\\Temp\\ipykernel_3796\\3167065733.py:89: FutureWarning: The default dtype for empty Series will be 'object' instead of 'float64' in a future version. Specify a dtype explicitly to silence this warning.\n",
      "  legend = pandas.Series(legend).sort_index()\n",
      "C:\\Users\\gideon.b\\AppData\\Local\\Temp\\ipykernel_3796\\3167065733.py:89: FutureWarning: The default dtype for empty Series will be 'object' instead of 'float64' in a future version. Specify a dtype explicitly to silence this warning.\n",
      "  legend = pandas.Series(legend).sort_index()\n",
      "C:\\Users\\gideon.b\\AppData\\Local\\Temp\\ipykernel_3796\\3167065733.py:89: FutureWarning: The default dtype for empty Series will be 'object' instead of 'float64' in a future version. Specify a dtype explicitly to silence this warning.\n",
      "  legend = pandas.Series(legend).sort_index()\n",
      "C:\\Users\\gideon.b\\AppData\\Local\\Temp\\ipykernel_3796\\3167065733.py:89: FutureWarning: The default dtype for empty Series will be 'object' instead of 'float64' in a future version. Specify a dtype explicitly to silence this warning.\n",
      "  legend = pandas.Series(legend).sort_index()\n"
     ]
    },
    {
     "name": "stdout",
     "output_type": "stream",
     "text": [
      "['Sc4wPfr_641.g16805.t1', 'NV2t020013002.1']\n",
      "['Sc4wPfr_36.g16975.t1', 'NV2t000112002.1']\n",
      "['Sc4wPfr_313.g17063.t1', 'NV2t008996001.1']\n",
      "['Sc4wPfr_811.1.g17345.t1', 'NV2t022735001.1']\n",
      "['Sc4wPfr_400.g17905.t1', 'Sc4wPfr_400.g17908.t1']\n",
      "['Sc4wPfr_8.g18248.t1', 'NV2t012418001.1']\n",
      "['Sc4wPfr_484.g18303.t1', 'NV2t005917001.1']\n",
      "['Sc4wPfr_697.1.g18496.t1', 'Sc4wPfr_697.1.g18496.t2']\n",
      "['Sc4wPfr_74.g18507.t1', 'NV2t010038001.1']\n",
      "['Sc4wPfr_10.g18952.t1', 'NV2t009914001.1']\n",
      "['Sc4wPfr_6.g19133.t1', 'Sc4wPfr_715.g30416.t1']\n",
      "['Sc4wPfr_6.g19134.t1', 'NV2t017517001.1']\n"
     ]
    },
    {
     "name": "stderr",
     "output_type": "stream",
     "text": [
      "C:\\Users\\gideon.b\\AppData\\Local\\Temp\\ipykernel_3796\\3167065733.py:89: FutureWarning: The default dtype for empty Series will be 'object' instead of 'float64' in a future version. Specify a dtype explicitly to silence this warning.\n",
      "  legend = pandas.Series(legend).sort_index()\n",
      "C:\\Users\\gideon.b\\AppData\\Local\\Temp\\ipykernel_3796\\3167065733.py:89: FutureWarning: The default dtype for empty Series will be 'object' instead of 'float64' in a future version. Specify a dtype explicitly to silence this warning.\n",
      "  legend = pandas.Series(legend).sort_index()\n",
      "C:\\Users\\gideon.b\\AppData\\Local\\Temp\\ipykernel_3796\\3167065733.py:89: FutureWarning: The default dtype for empty Series will be 'object' instead of 'float64' in a future version. Specify a dtype explicitly to silence this warning.\n",
      "  legend = pandas.Series(legend).sort_index()\n",
      "C:\\Users\\gideon.b\\AppData\\Local\\Temp\\ipykernel_3796\\3167065733.py:89: FutureWarning: The default dtype for empty Series will be 'object' instead of 'float64' in a future version. Specify a dtype explicitly to silence this warning.\n",
      "  legend = pandas.Series(legend).sort_index()\n",
      "C:\\Users\\gideon.b\\AppData\\Local\\Temp\\ipykernel_3796\\3167065733.py:89: FutureWarning: The default dtype for empty Series will be 'object' instead of 'float64' in a future version. Specify a dtype explicitly to silence this warning.\n",
      "  legend = pandas.Series(legend).sort_index()\n",
      "C:\\Users\\gideon.b\\AppData\\Local\\Temp\\ipykernel_3796\\3167065733.py:89: FutureWarning: The default dtype for empty Series will be 'object' instead of 'float64' in a future version. Specify a dtype explicitly to silence this warning.\n",
      "  legend = pandas.Series(legend).sort_index()\n",
      "C:\\Users\\gideon.b\\AppData\\Local\\Temp\\ipykernel_3796\\3167065733.py:89: FutureWarning: The default dtype for empty Series will be 'object' instead of 'float64' in a future version. Specify a dtype explicitly to silence this warning.\n",
      "  legend = pandas.Series(legend).sort_index()\n"
     ]
    },
    {
     "name": "stdout",
     "output_type": "stream",
     "text": [
      "['Sc4wPfr_347.g19265.t1', 'NV2t022236001.1']\n",
      "['Sc4wPfr_149.g26123.t1', 'Sc4wPfr_518.g19382.t1']\n",
      "['Sc4wPfr_667.g19529.t1', 'NV2t000674001.1']\n",
      "['Sc4wPfr_131.1.g19981.t1', 'NV2t014428001.1']\n",
      "['Sc4wPfr_1761.g20588.t1', 'Sc4wPfr_1761.g20590.t1']\n",
      "['Sc4wPfr_107.1.g20640.t1', 'NV2t023604002.1']\n",
      "['Sc4wPfr_320.1.g20965.t1', 'NV2t012147001.1']\n"
     ]
    },
    {
     "name": "stderr",
     "output_type": "stream",
     "text": [
      "C:\\Users\\gideon.b\\AppData\\Local\\Temp\\ipykernel_3796\\3167065733.py:89: FutureWarning: The default dtype for empty Series will be 'object' instead of 'float64' in a future version. Specify a dtype explicitly to silence this warning.\n",
      "  legend = pandas.Series(legend).sort_index()\n",
      "C:\\Users\\gideon.b\\AppData\\Local\\Temp\\ipykernel_3796\\3167065733.py:89: FutureWarning: The default dtype for empty Series will be 'object' instead of 'float64' in a future version. Specify a dtype explicitly to silence this warning.\n",
      "  legend = pandas.Series(legend).sort_index()\n",
      "C:\\Users\\gideon.b\\AppData\\Local\\Temp\\ipykernel_3796\\3167065733.py:89: FutureWarning: The default dtype for empty Series will be 'object' instead of 'float64' in a future version. Specify a dtype explicitly to silence this warning.\n",
      "  legend = pandas.Series(legend).sort_index()\n",
      "C:\\Users\\gideon.b\\AppData\\Local\\Temp\\ipykernel_3796\\3167065733.py:89: FutureWarning: The default dtype for empty Series will be 'object' instead of 'float64' in a future version. Specify a dtype explicitly to silence this warning.\n",
      "  legend = pandas.Series(legend).sort_index()\n",
      "C:\\Users\\gideon.b\\AppData\\Local\\Temp\\ipykernel_3796\\3167065733.py:89: FutureWarning: The default dtype for empty Series will be 'object' instead of 'float64' in a future version. Specify a dtype explicitly to silence this warning.\n",
      "  legend = pandas.Series(legend).sort_index()\n",
      "C:\\Users\\gideon.b\\AppData\\Local\\Temp\\ipykernel_3796\\3167065733.py:89: FutureWarning: The default dtype for empty Series will be 'object' instead of 'float64' in a future version. Specify a dtype explicitly to silence this warning.\n",
      "  legend = pandas.Series(legend).sort_index()\n",
      "C:\\Users\\gideon.b\\AppData\\Local\\Temp\\ipykernel_3796\\3167065733.py:89: FutureWarning: The default dtype for empty Series will be 'object' instead of 'float64' in a future version. Specify a dtype explicitly to silence this warning.\n",
      "  legend = pandas.Series(legend).sort_index()\n"
     ]
    },
    {
     "name": "stdout",
     "output_type": "stream",
     "text": [
      "['Sc4wPfr_239.g21099.t1', 'NV2t009771001.1']\n",
      "['Sc4wPfr_938.g21243.t1', 'NV2t017350001.1']\n",
      "['Sc4wPfr_231.1.g21567.t1', 'NV2t022291001.1']\n",
      "['Sc4wPfr_977.g21608.t1', 'NV2t016208001.1']\n",
      "['Sc4wPfr_565.g22058.t1', 'NV2t005916001.1']\n"
     ]
    },
    {
     "name": "stderr",
     "output_type": "stream",
     "text": [
      "C:\\Users\\gideon.b\\AppData\\Local\\Temp\\ipykernel_3796\\3167065733.py:89: FutureWarning: The default dtype for empty Series will be 'object' instead of 'float64' in a future version. Specify a dtype explicitly to silence this warning.\n",
      "  legend = pandas.Series(legend).sort_index()\n",
      "C:\\Users\\gideon.b\\AppData\\Local\\Temp\\ipykernel_3796\\3167065733.py:89: FutureWarning: The default dtype for empty Series will be 'object' instead of 'float64' in a future version. Specify a dtype explicitly to silence this warning.\n",
      "  legend = pandas.Series(legend).sort_index()\n",
      "C:\\Users\\gideon.b\\AppData\\Local\\Temp\\ipykernel_3796\\3167065733.py:89: FutureWarning: The default dtype for empty Series will be 'object' instead of 'float64' in a future version. Specify a dtype explicitly to silence this warning.\n",
      "  legend = pandas.Series(legend).sort_index()\n",
      "C:\\Users\\gideon.b\\AppData\\Local\\Temp\\ipykernel_3796\\3167065733.py:89: FutureWarning: The default dtype for empty Series will be 'object' instead of 'float64' in a future version. Specify a dtype explicitly to silence this warning.\n",
      "  legend = pandas.Series(legend).sort_index()\n",
      "C:\\Users\\gideon.b\\AppData\\Local\\Temp\\ipykernel_3796\\3167065733.py:89: FutureWarning: The default dtype for empty Series will be 'object' instead of 'float64' in a future version. Specify a dtype explicitly to silence this warning.\n",
      "  legend = pandas.Series(legend).sort_index()\n"
     ]
    },
    {
     "name": "stdout",
     "output_type": "stream",
     "text": [
      "['Sc4wPfr_565.g22061.t1', 'NV2t021636001.1']\n",
      "['Sc4wPfr_740.1.g22474.t1', 'Sc4wPfr_740.1.g22474.t2']\n",
      "['Sc4wPfr_132.g22630.t1', 'NV2t000161001.1']\n",
      "['Sc4wPfr_132.g22677.t1', 'Sc4wPfr_132.g22677.t2']\n",
      "['Sc4wPfr_650.g22982.t1', 'NV2t011142001.1']\n",
      "['Sc4wPfr_198.g23270.t1', 'NV2t022121001.1']\n",
      "['Sc4wPfr_475.1.g23420.t1', 'NV2t018651001.1']\n",
      "['Sc4wPfr_1201.g23942.t1', 'Sc4wPfr_1201.g23944.t1']\n",
      "['Sc4wPfr_950.g24008.t1', 'Sc4wPfr_950.g24008.t2']\n"
     ]
    },
    {
     "name": "stderr",
     "output_type": "stream",
     "text": [
      "C:\\Users\\gideon.b\\AppData\\Local\\Temp\\ipykernel_3796\\3167065733.py:89: FutureWarning: The default dtype for empty Series will be 'object' instead of 'float64' in a future version. Specify a dtype explicitly to silence this warning.\n",
      "  legend = pandas.Series(legend).sort_index()\n",
      "C:\\Users\\gideon.b\\AppData\\Local\\Temp\\ipykernel_3796\\3167065733.py:89: FutureWarning: The default dtype for empty Series will be 'object' instead of 'float64' in a future version. Specify a dtype explicitly to silence this warning.\n",
      "  legend = pandas.Series(legend).sort_index()\n",
      "C:\\Users\\gideon.b\\AppData\\Local\\Temp\\ipykernel_3796\\3167065733.py:89: FutureWarning: The default dtype for empty Series will be 'object' instead of 'float64' in a future version. Specify a dtype explicitly to silence this warning.\n",
      "  legend = pandas.Series(legend).sort_index()\n",
      "C:\\Users\\gideon.b\\AppData\\Local\\Temp\\ipykernel_3796\\3167065733.py:89: FutureWarning: The default dtype for empty Series will be 'object' instead of 'float64' in a future version. Specify a dtype explicitly to silence this warning.\n",
      "  legend = pandas.Series(legend).sort_index()\n",
      "C:\\Users\\gideon.b\\AppData\\Local\\Temp\\ipykernel_3796\\3167065733.py:89: FutureWarning: The default dtype for empty Series will be 'object' instead of 'float64' in a future version. Specify a dtype explicitly to silence this warning.\n",
      "  legend = pandas.Series(legend).sort_index()\n",
      "C:\\Users\\gideon.b\\AppData\\Local\\Temp\\ipykernel_3796\\3167065733.py:89: FutureWarning: The default dtype for empty Series will be 'object' instead of 'float64' in a future version. Specify a dtype explicitly to silence this warning.\n",
      "  legend = pandas.Series(legend).sort_index()\n",
      "C:\\Users\\gideon.b\\AppData\\Local\\Temp\\ipykernel_3796\\3167065733.py:89: FutureWarning: The default dtype for empty Series will be 'object' instead of 'float64' in a future version. Specify a dtype explicitly to silence this warning.\n",
      "  legend = pandas.Series(legend).sort_index()\n",
      "C:\\Users\\gideon.b\\AppData\\Local\\Temp\\ipykernel_3796\\3167065733.py:89: FutureWarning: The default dtype for empty Series will be 'object' instead of 'float64' in a future version. Specify a dtype explicitly to silence this warning.\n",
      "  legend = pandas.Series(legend).sort_index()\n",
      "C:\\Users\\gideon.b\\AppData\\Local\\Temp\\ipykernel_3796\\3167065733.py:89: FutureWarning: The default dtype for empty Series will be 'object' instead of 'float64' in a future version. Specify a dtype explicitly to silence this warning.\n",
      "  legend = pandas.Series(legend).sort_index()\n",
      "C:\\Users\\gideon.b\\AppData\\Local\\Temp\\ipykernel_3796\\3167065733.py:89: FutureWarning: The default dtype for empty Series will be 'object' instead of 'float64' in a future version. Specify a dtype explicitly to silence this warning.\n",
      "  legend = pandas.Series(legend).sort_index()\n",
      "C:\\Users\\gideon.b\\AppData\\Local\\Temp\\ipykernel_3796\\3167065733.py:89: FutureWarning: The default dtype for empty Series will be 'object' instead of 'float64' in a future version. Specify a dtype explicitly to silence this warning.\n",
      "  legend = pandas.Series(legend).sort_index()\n"
     ]
    },
    {
     "name": "stdout",
     "output_type": "stream",
     "text": [
      "['Sc4wPfr_950.g24012.t1', 'NV2t005196002.1']\n",
      "['Sc4wPfr_950.g24023.t1', 'Sc4wPfr_950.g24023.t2']\n",
      "['Sc4wPfr_804.g24094.t1', 'NV2t012225001.1']\n",
      "['Sc4wPfr_952.g24537.t1', 'NV2t014005001.1']\n",
      "['Sc4wPfr_952.g24540.t1', 'NV2t011945001.1']\n",
      "['Sc4wPfr_118.g25084.t1', 'Sc4wPfr_118.g25084.t2']\n"
     ]
    },
    {
     "name": "stderr",
     "output_type": "stream",
     "text": [
      "C:\\Users\\gideon.b\\AppData\\Local\\Temp\\ipykernel_3796\\3167065733.py:89: FutureWarning: The default dtype for empty Series will be 'object' instead of 'float64' in a future version. Specify a dtype explicitly to silence this warning.\n",
      "  legend = pandas.Series(legend).sort_index()\n",
      "C:\\Users\\gideon.b\\AppData\\Local\\Temp\\ipykernel_3796\\3167065733.py:89: FutureWarning: The default dtype for empty Series will be 'object' instead of 'float64' in a future version. Specify a dtype explicitly to silence this warning.\n",
      "  legend = pandas.Series(legend).sort_index()\n",
      "C:\\Users\\gideon.b\\AppData\\Local\\Temp\\ipykernel_3796\\3167065733.py:89: FutureWarning: The default dtype for empty Series will be 'object' instead of 'float64' in a future version. Specify a dtype explicitly to silence this warning.\n",
      "  legend = pandas.Series(legend).sort_index()\n",
      "C:\\Users\\gideon.b\\AppData\\Local\\Temp\\ipykernel_3796\\3167065733.py:89: FutureWarning: The default dtype for empty Series will be 'object' instead of 'float64' in a future version. Specify a dtype explicitly to silence this warning.\n",
      "  legend = pandas.Series(legend).sort_index()\n"
     ]
    },
    {
     "name": "stdout",
     "output_type": "stream",
     "text": [
      "['Sc4wPfr_118.g25134.t1', 'NV2t001337001.1']\n",
      "['Sc4wPfr_1163.g25185.t1', 'NV2t013340001.1']\n",
      "['Sc4wPfr_268.g25749.t1', 'Sc4wPfr_268.g25749.t2']\n",
      "['Sc4wPfr_338.g25901.t1', 'NV2t022932001.1']\n"
     ]
    },
    {
     "name": "stderr",
     "output_type": "stream",
     "text": [
      "C:\\Users\\gideon.b\\AppData\\Local\\Temp\\ipykernel_3796\\3167065733.py:89: FutureWarning: The default dtype for empty Series will be 'object' instead of 'float64' in a future version. Specify a dtype explicitly to silence this warning.\n",
      "  legend = pandas.Series(legend).sort_index()\n",
      "C:\\Users\\gideon.b\\AppData\\Local\\Temp\\ipykernel_3796\\3167065733.py:89: FutureWarning: The default dtype for empty Series will be 'object' instead of 'float64' in a future version. Specify a dtype explicitly to silence this warning.\n",
      "  legend = pandas.Series(legend).sort_index()\n",
      "C:\\Users\\gideon.b\\AppData\\Local\\Temp\\ipykernel_3796\\3167065733.py:89: FutureWarning: The default dtype for empty Series will be 'object' instead of 'float64' in a future version. Specify a dtype explicitly to silence this warning.\n",
      "  legend = pandas.Series(legend).sort_index()\n",
      "C:\\Users\\gideon.b\\AppData\\Local\\Temp\\ipykernel_3796\\3167065733.py:89: FutureWarning: The default dtype for empty Series will be 'object' instead of 'float64' in a future version. Specify a dtype explicitly to silence this warning.\n",
      "  legend = pandas.Series(legend).sort_index()\n",
      "C:\\Users\\gideon.b\\AppData\\Local\\Temp\\ipykernel_3796\\3167065733.py:89: FutureWarning: The default dtype for empty Series will be 'object' instead of 'float64' in a future version. Specify a dtype explicitly to silence this warning.\n",
      "  legend = pandas.Series(legend).sort_index()\n",
      "C:\\Users\\gideon.b\\AppData\\Local\\Temp\\ipykernel_3796\\3167065733.py:89: FutureWarning: The default dtype for empty Series will be 'object' instead of 'float64' in a future version. Specify a dtype explicitly to silence this warning.\n",
      "  legend = pandas.Series(legend).sort_index()\n",
      "C:\\Users\\gideon.b\\AppData\\Local\\Temp\\ipykernel_3796\\3167065733.py:89: FutureWarning: The default dtype for empty Series will be 'object' instead of 'float64' in a future version. Specify a dtype explicitly to silence this warning.\n",
      "  legend = pandas.Series(legend).sort_index()\n",
      "C:\\Users\\gideon.b\\AppData\\Local\\Temp\\ipykernel_3796\\3167065733.py:89: FutureWarning: The default dtype for empty Series will be 'object' instead of 'float64' in a future version. Specify a dtype explicitly to silence this warning.\n",
      "  legend = pandas.Series(legend).sort_index()\n"
     ]
    },
    {
     "name": "stdout",
     "output_type": "stream",
     "text": [
      "['Sc4wPfr_343.1.g25963.t1', 'NV2t000668003.1']\n",
      "['Sc4wPfr_1172.g28454.t1', 'Sc4wPfr_230.g26225.t1']\n",
      "['Sc4wPfr_176.g26285.t1', 'NV2t020283001.1']\n",
      "['Sc4wPfr_705.g26924.t1', 'NV2t002229001.1']\n",
      "['Sc4wPfr_2322.g26961.t1', 'Sc4wPfr_2322.g26961.t2']\n",
      "['Sc4wPfr_868.g27218.t1', 'Sc4wPfr_868.g27218.t2']\n",
      "['Sc4wPfr_319.g27266.t1', 'NV2t022022001.1']\n",
      "['Sc4wPfr_399.g28064.t1', 'NV2t012463001.1']\n",
      "['Sc4wPfr_287.2.g28207.t1', 'NV2t021107001.1']\n",
      "['Sc4wPfr_199.g28628.t1', 'Sc4wPfr_199.g28631.t1']\n",
      "['Sc4wPfr_196.1.g29669.t1', 'NV2t001170001.1']\n",
      "['Sc4wPfr_488.g29951.t1', 'NV2t022155001.1']\n",
      "['Sc4wPfr_29.g30025.t4', 'Sc4wPfr_29.g30025.t5']\n",
      "['Sc4wPfr_48.g30203.t1', 'NV2t000137002.1']\n"
     ]
    },
    {
     "name": "stderr",
     "output_type": "stream",
     "text": [
      "C:\\Users\\gideon.b\\AppData\\Local\\Temp\\ipykernel_3796\\3167065733.py:89: FutureWarning: The default dtype for empty Series will be 'object' instead of 'float64' in a future version. Specify a dtype explicitly to silence this warning.\n",
      "  legend = pandas.Series(legend).sort_index()\n",
      "C:\\Users\\gideon.b\\AppData\\Local\\Temp\\ipykernel_3796\\3167065733.py:89: FutureWarning: The default dtype for empty Series will be 'object' instead of 'float64' in a future version. Specify a dtype explicitly to silence this warning.\n",
      "  legend = pandas.Series(legend).sort_index()\n",
      "C:\\Users\\gideon.b\\AppData\\Local\\Temp\\ipykernel_3796\\3167065733.py:89: FutureWarning: The default dtype for empty Series will be 'object' instead of 'float64' in a future version. Specify a dtype explicitly to silence this warning.\n",
      "  legend = pandas.Series(legend).sort_index()\n",
      "C:\\Users\\gideon.b\\AppData\\Local\\Temp\\ipykernel_3796\\3167065733.py:89: FutureWarning: The default dtype for empty Series will be 'object' instead of 'float64' in a future version. Specify a dtype explicitly to silence this warning.\n",
      "  legend = pandas.Series(legend).sort_index()\n",
      "C:\\Users\\gideon.b\\AppData\\Local\\Temp\\ipykernel_3796\\3167065733.py:89: FutureWarning: The default dtype for empty Series will be 'object' instead of 'float64' in a future version. Specify a dtype explicitly to silence this warning.\n",
      "  legend = pandas.Series(legend).sort_index()\n",
      "C:\\Users\\gideon.b\\AppData\\Local\\Temp\\ipykernel_3796\\3167065733.py:89: FutureWarning: The default dtype for empty Series will be 'object' instead of 'float64' in a future version. Specify a dtype explicitly to silence this warning.\n",
      "  legend = pandas.Series(legend).sort_index()\n",
      "C:\\Users\\gideon.b\\AppData\\Local\\Temp\\ipykernel_3796\\3167065733.py:89: FutureWarning: The default dtype for empty Series will be 'object' instead of 'float64' in a future version. Specify a dtype explicitly to silence this warning.\n",
      "  legend = pandas.Series(legend).sort_index()\n",
      "C:\\Users\\gideon.b\\AppData\\Local\\Temp\\ipykernel_3796\\3167065733.py:89: FutureWarning: The default dtype for empty Series will be 'object' instead of 'float64' in a future version. Specify a dtype explicitly to silence this warning.\n",
      "  legend = pandas.Series(legend).sort_index()\n",
      "C:\\Users\\gideon.b\\AppData\\Local\\Temp\\ipykernel_3796\\3167065733.py:89: FutureWarning: The default dtype for empty Series will be 'object' instead of 'float64' in a future version. Specify a dtype explicitly to silence this warning.\n",
      "  legend = pandas.Series(legend).sort_index()\n",
      "C:\\Users\\gideon.b\\AppData\\Local\\Temp\\ipykernel_3796\\3167065733.py:89: FutureWarning: The default dtype for empty Series will be 'object' instead of 'float64' in a future version. Specify a dtype explicitly to silence this warning.\n",
      "  legend = pandas.Series(legend).sort_index()\n",
      "C:\\Users\\gideon.b\\AppData\\Local\\Temp\\ipykernel_3796\\3167065733.py:89: FutureWarning: The default dtype for empty Series will be 'object' instead of 'float64' in a future version. Specify a dtype explicitly to silence this warning.\n",
      "  legend = pandas.Series(legend).sort_index()\n"
     ]
    },
    {
     "name": "stdout",
     "output_type": "stream",
     "text": [
      "['Sc4wPfr_363.2.g30334.t1', 'NV2t016210001.1']\n",
      "['Sc4wPfr_363.2.g30382.t1', 'NV2t011796001.1']\n",
      "['Sc4wPfr_715.g30415.t1', 'NV2t008980001.1']\n",
      "['Sc4wPfr_1269.g30707.t1', 'NV2t009562001.1']\n",
      "['Sc4wPfr_463.g30874.t1', 'NV2t021103001.1']\n",
      "['Sc4wPfr_1077.g31033.t1', 'NV2t011764004.1']\n",
      "['Sc4wPfr_856.g31447.t1', 'Sc4wPfr_856.g31447.t2']\n",
      "['Sc4wPfr_338.1.g31651.t1', 'NV2t001634001.1']\n",
      "['Sc4wPfr_417.3.g31863.t1', 'Sc4wPfr_417.3.g31863.t2']\n"
     ]
    },
    {
     "name": "stderr",
     "output_type": "stream",
     "text": [
      "C:\\Users\\gideon.b\\AppData\\Local\\Temp\\ipykernel_3796\\3167065733.py:89: FutureWarning: The default dtype for empty Series will be 'object' instead of 'float64' in a future version. Specify a dtype explicitly to silence this warning.\n",
      "  legend = pandas.Series(legend).sort_index()\n",
      "C:\\Users\\gideon.b\\AppData\\Local\\Temp\\ipykernel_3796\\3167065733.py:89: FutureWarning: The default dtype for empty Series will be 'object' instead of 'float64' in a future version. Specify a dtype explicitly to silence this warning.\n",
      "  legend = pandas.Series(legend).sort_index()\n",
      "C:\\Users\\gideon.b\\AppData\\Local\\Temp\\ipykernel_3796\\3167065733.py:89: FutureWarning: The default dtype for empty Series will be 'object' instead of 'float64' in a future version. Specify a dtype explicitly to silence this warning.\n",
      "  legend = pandas.Series(legend).sort_index()\n",
      "C:\\Users\\gideon.b\\AppData\\Local\\Temp\\ipykernel_3796\\3167065733.py:89: FutureWarning: The default dtype for empty Series will be 'object' instead of 'float64' in a future version. Specify a dtype explicitly to silence this warning.\n",
      "  legend = pandas.Series(legend).sort_index()\n",
      "C:\\Users\\gideon.b\\AppData\\Local\\Temp\\ipykernel_3796\\3167065733.py:89: FutureWarning: The default dtype for empty Series will be 'object' instead of 'float64' in a future version. Specify a dtype explicitly to silence this warning.\n",
      "  legend = pandas.Series(legend).sort_index()\n",
      "C:\\Users\\gideon.b\\AppData\\Local\\Temp\\ipykernel_3796\\3167065733.py:89: FutureWarning: The default dtype for empty Series will be 'object' instead of 'float64' in a future version. Specify a dtype explicitly to silence this warning.\n",
      "  legend = pandas.Series(legend).sort_index()\n",
      "C:\\Users\\gideon.b\\AppData\\Local\\Temp\\ipykernel_3796\\3167065733.py:89: FutureWarning: The default dtype for empty Series will be 'object' instead of 'float64' in a future version. Specify a dtype explicitly to silence this warning.\n",
      "  legend = pandas.Series(legend).sort_index()\n",
      "C:\\Users\\gideon.b\\AppData\\Local\\Temp\\ipykernel_3796\\3167065733.py:89: FutureWarning: The default dtype for empty Series will be 'object' instead of 'float64' in a future version. Specify a dtype explicitly to silence this warning.\n",
      "  legend = pandas.Series(legend).sort_index()\n",
      "C:\\Users\\gideon.b\\AppData\\Local\\Temp\\ipykernel_3796\\3167065733.py:89: FutureWarning: The default dtype for empty Series will be 'object' instead of 'float64' in a future version. Specify a dtype explicitly to silence this warning.\n",
      "  legend = pandas.Series(legend).sort_index()\n"
     ]
    },
    {
     "name": "stdout",
     "output_type": "stream",
     "text": [
      "['Sc4wPfr_417.3.g31939.t1', 'NV2t004625001.1']\n",
      "['Sc4wPfr_672.g32789.t1', 'NV2t023594001.1']\n",
      "['Sc4wPfr_628.g32860.t1', 'Sc4wPfr_628.g32860.t2']\n",
      "['Sc4wPfr_628.g32869.t1', 'NV2t005944001.1']\n",
      "['Sc4wPfr_1416.g33239.t1', 'NV2t000638001.1']\n"
     ]
    },
    {
     "name": "stderr",
     "output_type": "stream",
     "text": [
      "C:\\Users\\gideon.b\\AppData\\Local\\Temp\\ipykernel_3796\\3167065733.py:89: FutureWarning: The default dtype for empty Series will be 'object' instead of 'float64' in a future version. Specify a dtype explicitly to silence this warning.\n",
      "  legend = pandas.Series(legend).sort_index()\n",
      "C:\\Users\\gideon.b\\AppData\\Local\\Temp\\ipykernel_3796\\3167065733.py:89: FutureWarning: The default dtype for empty Series will be 'object' instead of 'float64' in a future version. Specify a dtype explicitly to silence this warning.\n",
      "  legend = pandas.Series(legend).sort_index()\n",
      "C:\\Users\\gideon.b\\AppData\\Local\\Temp\\ipykernel_3796\\3167065733.py:89: FutureWarning: The default dtype for empty Series will be 'object' instead of 'float64' in a future version. Specify a dtype explicitly to silence this warning.\n",
      "  legend = pandas.Series(legend).sort_index()\n",
      "C:\\Users\\gideon.b\\AppData\\Local\\Temp\\ipykernel_3796\\3167065733.py:89: FutureWarning: The default dtype for empty Series will be 'object' instead of 'float64' in a future version. Specify a dtype explicitly to silence this warning.\n",
      "  legend = pandas.Series(legend).sort_index()\n",
      "C:\\Users\\gideon.b\\AppData\\Local\\Temp\\ipykernel_3796\\3167065733.py:89: FutureWarning: The default dtype for empty Series will be 'object' instead of 'float64' in a future version. Specify a dtype explicitly to silence this warning.\n",
      "  legend = pandas.Series(legend).sort_index()\n",
      "C:\\Users\\gideon.b\\AppData\\Local\\Temp\\ipykernel_3796\\3167065733.py:89: FutureWarning: The default dtype for empty Series will be 'object' instead of 'float64' in a future version. Specify a dtype explicitly to silence this warning.\n",
      "  legend = pandas.Series(legend).sort_index()\n",
      "C:\\Users\\gideon.b\\AppData\\Local\\Temp\\ipykernel_3796\\3167065733.py:89: FutureWarning: The default dtype for empty Series will be 'object' instead of 'float64' in a future version. Specify a dtype explicitly to silence this warning.\n",
      "  legend = pandas.Series(legend).sort_index()\n",
      "C:\\Users\\gideon.b\\AppData\\Local\\Temp\\ipykernel_3796\\3167065733.py:89: FutureWarning: The default dtype for empty Series will be 'object' instead of 'float64' in a future version. Specify a dtype explicitly to silence this warning.\n",
      "  legend = pandas.Series(legend).sort_index()\n",
      "C:\\Users\\gideon.b\\AppData\\Local\\Temp\\ipykernel_3796\\3167065733.py:89: FutureWarning: The default dtype for empty Series will be 'object' instead of 'float64' in a future version. Specify a dtype explicitly to silence this warning.\n",
      "  legend = pandas.Series(legend).sort_index()\n"
     ]
    },
    {
     "name": "stdout",
     "output_type": "stream",
     "text": [
      "['Sc4wPfr_909.g33497.t1', 'Sc4wPfr_909.g33497.t2']\n",
      "['Sc4wPfr_259.g33644.t1', 'NV2t002853001.1']\n",
      "['NV2t000244001.1', 'NV2t000244002.1']\n",
      "['NV2t000363001.1', 'NV2t000363002.1']\n",
      "['NV2t000399001.1', 'NV2t001129001.1']\n",
      "['NV2t000553001.1', 'NV2t000553002.1']\n",
      "['NV2t000600001.1', 'NV2t001804001.1']\n",
      "['NV2t000668001.1', 'NV2t009493001.1']\n",
      "['NV2t000807001.1', 'NV2t000808002.1']\n"
     ]
    },
    {
     "name": "stderr",
     "output_type": "stream",
     "text": [
      "C:\\Users\\gideon.b\\AppData\\Local\\Temp\\ipykernel_3796\\3167065733.py:89: FutureWarning: The default dtype for empty Series will be 'object' instead of 'float64' in a future version. Specify a dtype explicitly to silence this warning.\n",
      "  legend = pandas.Series(legend).sort_index()\n",
      "C:\\Users\\gideon.b\\AppData\\Local\\Temp\\ipykernel_3796\\3167065733.py:89: FutureWarning: The default dtype for empty Series will be 'object' instead of 'float64' in a future version. Specify a dtype explicitly to silence this warning.\n",
      "  legend = pandas.Series(legend).sort_index()\n",
      "C:\\Users\\gideon.b\\AppData\\Local\\Temp\\ipykernel_3796\\3167065733.py:89: FutureWarning: The default dtype for empty Series will be 'object' instead of 'float64' in a future version. Specify a dtype explicitly to silence this warning.\n",
      "  legend = pandas.Series(legend).sort_index()\n",
      "C:\\Users\\gideon.b\\AppData\\Local\\Temp\\ipykernel_3796\\3167065733.py:89: FutureWarning: The default dtype for empty Series will be 'object' instead of 'float64' in a future version. Specify a dtype explicitly to silence this warning.\n",
      "  legend = pandas.Series(legend).sort_index()\n",
      "C:\\Users\\gideon.b\\AppData\\Local\\Temp\\ipykernel_3796\\3167065733.py:89: FutureWarning: The default dtype for empty Series will be 'object' instead of 'float64' in a future version. Specify a dtype explicitly to silence this warning.\n",
      "  legend = pandas.Series(legend).sort_index()\n",
      "C:\\Users\\gideon.b\\AppData\\Local\\Temp\\ipykernel_3796\\3167065733.py:89: FutureWarning: The default dtype for empty Series will be 'object' instead of 'float64' in a future version. Specify a dtype explicitly to silence this warning.\n",
      "  legend = pandas.Series(legend).sort_index()\n",
      "C:\\Users\\gideon.b\\AppData\\Local\\Temp\\ipykernel_3796\\3167065733.py:89: FutureWarning: The default dtype for empty Series will be 'object' instead of 'float64' in a future version. Specify a dtype explicitly to silence this warning.\n",
      "  legend = pandas.Series(legend).sort_index()\n"
     ]
    },
    {
     "name": "stdout",
     "output_type": "stream",
     "text": [
      "['NV2t000847001.1', 'NV2t000848001.1']\n",
      "['NV2t000851001.1', 'NV2t001272001.1']\n",
      "['NV2t001025001.1', 'NV2t001025003.1']\n",
      "['NV2t001314001.1', 'NV2t001314002.1']\n",
      "['NV2t001610001.1', 'NV2t001610003.1']\n",
      "['NV2t001696001.1', 'NV2t001696002.1']\n"
     ]
    },
    {
     "name": "stderr",
     "output_type": "stream",
     "text": [
      "C:\\Users\\gideon.b\\AppData\\Local\\Temp\\ipykernel_3796\\3167065733.py:89: FutureWarning: The default dtype for empty Series will be 'object' instead of 'float64' in a future version. Specify a dtype explicitly to silence this warning.\n",
      "  legend = pandas.Series(legend).sort_index()\n",
      "C:\\Users\\gideon.b\\AppData\\Local\\Temp\\ipykernel_3796\\3167065733.py:89: FutureWarning: The default dtype for empty Series will be 'object' instead of 'float64' in a future version. Specify a dtype explicitly to silence this warning.\n",
      "  legend = pandas.Series(legend).sort_index()\n",
      "C:\\Users\\gideon.b\\AppData\\Local\\Temp\\ipykernel_3796\\3167065733.py:89: FutureWarning: The default dtype for empty Series will be 'object' instead of 'float64' in a future version. Specify a dtype explicitly to silence this warning.\n",
      "  legend = pandas.Series(legend).sort_index()\n",
      "C:\\Users\\gideon.b\\AppData\\Local\\Temp\\ipykernel_3796\\3167065733.py:89: FutureWarning: The default dtype for empty Series will be 'object' instead of 'float64' in a future version. Specify a dtype explicitly to silence this warning.\n",
      "  legend = pandas.Series(legend).sort_index()\n",
      "C:\\Users\\gideon.b\\AppData\\Local\\Temp\\ipykernel_3796\\3167065733.py:89: FutureWarning: The default dtype for empty Series will be 'object' instead of 'float64' in a future version. Specify a dtype explicitly to silence this warning.\n",
      "  legend = pandas.Series(legend).sort_index()\n",
      "C:\\Users\\gideon.b\\AppData\\Local\\Temp\\ipykernel_3796\\3167065733.py:89: FutureWarning: The default dtype for empty Series will be 'object' instead of 'float64' in a future version. Specify a dtype explicitly to silence this warning.\n",
      "  legend = pandas.Series(legend).sort_index()\n",
      "C:\\Users\\gideon.b\\AppData\\Local\\Temp\\ipykernel_3796\\3167065733.py:89: FutureWarning: The default dtype for empty Series will be 'object' instead of 'float64' in a future version. Specify a dtype explicitly to silence this warning.\n",
      "  legend = pandas.Series(legend).sort_index()\n",
      "C:\\Users\\gideon.b\\AppData\\Local\\Temp\\ipykernel_3796\\3167065733.py:89: FutureWarning: The default dtype for empty Series will be 'object' instead of 'float64' in a future version. Specify a dtype explicitly to silence this warning.\n",
      "  legend = pandas.Series(legend).sort_index()\n"
     ]
    },
    {
     "name": "stdout",
     "output_type": "stream",
     "text": [
      "['NV2t002132001.1', 'NV2t008462001.1']\n",
      "['NV2t002896001.1', 'NV2t021336001.1']\n",
      "['NV2t002923001.1', 'NV2t021872001.1']\n",
      "['NV2t002939001.1', 'NV2t002940001.1']\n",
      "['NV2t003066001.1', 'NV2t003066002.1']\n",
      "['NV2t003167001.1', 'NV2t003167002.1']\n",
      "['NV2t003266001.1', 'NV2t003632001.1']\n",
      "['NV2t003527001.1', 'NV2t003527002.1']\n",
      "['NV2t003577001.1', 'NV2t021782001.1']\n",
      "['NV2t003580003.1', 'NV2t003580004.1']\n",
      "['NV2t003768001.1', 'NV2t003768002.1']\n"
     ]
    },
    {
     "name": "stderr",
     "output_type": "stream",
     "text": [
      "C:\\Users\\gideon.b\\AppData\\Local\\Temp\\ipykernel_3796\\3167065733.py:89: FutureWarning: The default dtype for empty Series will be 'object' instead of 'float64' in a future version. Specify a dtype explicitly to silence this warning.\n",
      "  legend = pandas.Series(legend).sort_index()\n",
      "C:\\Users\\gideon.b\\AppData\\Local\\Temp\\ipykernel_3796\\3167065733.py:89: FutureWarning: The default dtype for empty Series will be 'object' instead of 'float64' in a future version. Specify a dtype explicitly to silence this warning.\n",
      "  legend = pandas.Series(legend).sort_index()\n",
      "C:\\Users\\gideon.b\\AppData\\Local\\Temp\\ipykernel_3796\\3167065733.py:89: FutureWarning: The default dtype for empty Series will be 'object' instead of 'float64' in a future version. Specify a dtype explicitly to silence this warning.\n",
      "  legend = pandas.Series(legend).sort_index()\n",
      "C:\\Users\\gideon.b\\AppData\\Local\\Temp\\ipykernel_3796\\3167065733.py:89: FutureWarning: The default dtype for empty Series will be 'object' instead of 'float64' in a future version. Specify a dtype explicitly to silence this warning.\n",
      "  legend = pandas.Series(legend).sort_index()\n",
      "C:\\Users\\gideon.b\\AppData\\Local\\Temp\\ipykernel_3796\\3167065733.py:89: FutureWarning: The default dtype for empty Series will be 'object' instead of 'float64' in a future version. Specify a dtype explicitly to silence this warning.\n",
      "  legend = pandas.Series(legend).sort_index()\n",
      "C:\\Users\\gideon.b\\AppData\\Local\\Temp\\ipykernel_3796\\3167065733.py:89: FutureWarning: The default dtype for empty Series will be 'object' instead of 'float64' in a future version. Specify a dtype explicitly to silence this warning.\n",
      "  legend = pandas.Series(legend).sort_index()\n",
      "C:\\Users\\gideon.b\\AppData\\Local\\Temp\\ipykernel_3796\\3167065733.py:89: FutureWarning: The default dtype for empty Series will be 'object' instead of 'float64' in a future version. Specify a dtype explicitly to silence this warning.\n",
      "  legend = pandas.Series(legend).sort_index()\n"
     ]
    },
    {
     "name": "stdout",
     "output_type": "stream",
     "text": [
      "['NV2t004033001.1', 'NV2t004034001.1']\n",
      "['NV2t004066001.1', 'NV2t004066002.1']\n",
      "['NV2t004683001.1', 'NV2t004683002.1']\n",
      "['NV2t004934001.1', 'NV2t005910001.1']\n",
      "['NV2t005188001.1', 'NV2t005188002.1']\n"
     ]
    },
    {
     "name": "stderr",
     "output_type": "stream",
     "text": [
      "C:\\Users\\gideon.b\\AppData\\Local\\Temp\\ipykernel_3796\\3167065733.py:89: FutureWarning: The default dtype for empty Series will be 'object' instead of 'float64' in a future version. Specify a dtype explicitly to silence this warning.\n",
      "  legend = pandas.Series(legend).sort_index()\n",
      "C:\\Users\\gideon.b\\AppData\\Local\\Temp\\ipykernel_3796\\3167065733.py:89: FutureWarning: The default dtype for empty Series will be 'object' instead of 'float64' in a future version. Specify a dtype explicitly to silence this warning.\n",
      "  legend = pandas.Series(legend).sort_index()\n",
      "C:\\Users\\gideon.b\\AppData\\Local\\Temp\\ipykernel_3796\\3167065733.py:89: FutureWarning: The default dtype for empty Series will be 'object' instead of 'float64' in a future version. Specify a dtype explicitly to silence this warning.\n",
      "  legend = pandas.Series(legend).sort_index()\n",
      "C:\\Users\\gideon.b\\AppData\\Local\\Temp\\ipykernel_3796\\3167065733.py:89: FutureWarning: The default dtype for empty Series will be 'object' instead of 'float64' in a future version. Specify a dtype explicitly to silence this warning.\n",
      "  legend = pandas.Series(legend).sort_index()\n",
      "C:\\Users\\gideon.b\\AppData\\Local\\Temp\\ipykernel_3796\\3167065733.py:89: FutureWarning: The default dtype for empty Series will be 'object' instead of 'float64' in a future version. Specify a dtype explicitly to silence this warning.\n",
      "  legend = pandas.Series(legend).sort_index()\n",
      "C:\\Users\\gideon.b\\AppData\\Local\\Temp\\ipykernel_3796\\3167065733.py:89: FutureWarning: The default dtype for empty Series will be 'object' instead of 'float64' in a future version. Specify a dtype explicitly to silence this warning.\n",
      "  legend = pandas.Series(legend).sort_index()\n",
      "C:\\Users\\gideon.b\\AppData\\Local\\Temp\\ipykernel_3796\\3167065733.py:89: FutureWarning: The default dtype for empty Series will be 'object' instead of 'float64' in a future version. Specify a dtype explicitly to silence this warning.\n",
      "  legend = pandas.Series(legend).sort_index()\n",
      "C:\\Users\\gideon.b\\AppData\\Local\\Temp\\ipykernel_3796\\3167065733.py:89: FutureWarning: The default dtype for empty Series will be 'object' instead of 'float64' in a future version. Specify a dtype explicitly to silence this warning.\n",
      "  legend = pandas.Series(legend).sort_index()\n"
     ]
    },
    {
     "name": "stdout",
     "output_type": "stream",
     "text": [
      "['NV2t005576001.1', 'NV2t005576002.1']\n",
      "['NV2t005700001.1', 'NV2t005700002.1']\n",
      "['NV2t005824001.1', 'NV2t005824002.1']\n",
      "['NV2t005851001.1', 'NV2t006436001.1']\n",
      "['NV2t006269001.1', 'NV2t006269002.1']\n",
      "['NV2t006437001.1', 'NV2t006437002.1']\n",
      "['NV2t006495001.1', 'NV2t017142001.1']\n",
      "['NV2t007952001.1', 'NV2t007952002.1']\n",
      "['NV2t008258001.1', 'NV2t008258002.1']\n",
      "['NV2t008406001.1', 'NV2t008406002.1']\n",
      "['NV2t008547001.1', 'NV2t009706001.1']\n"
     ]
    },
    {
     "name": "stderr",
     "output_type": "stream",
     "text": [
      "C:\\Users\\gideon.b\\AppData\\Local\\Temp\\ipykernel_3796\\3167065733.py:89: FutureWarning: The default dtype for empty Series will be 'object' instead of 'float64' in a future version. Specify a dtype explicitly to silence this warning.\n",
      "  legend = pandas.Series(legend).sort_index()\n",
      "C:\\Users\\gideon.b\\AppData\\Local\\Temp\\ipykernel_3796\\3167065733.py:89: FutureWarning: The default dtype for empty Series will be 'object' instead of 'float64' in a future version. Specify a dtype explicitly to silence this warning.\n",
      "  legend = pandas.Series(legend).sort_index()\n",
      "C:\\Users\\gideon.b\\AppData\\Local\\Temp\\ipykernel_3796\\3167065733.py:89: FutureWarning: The default dtype for empty Series will be 'object' instead of 'float64' in a future version. Specify a dtype explicitly to silence this warning.\n",
      "  legend = pandas.Series(legend).sort_index()\n",
      "C:\\Users\\gideon.b\\AppData\\Local\\Temp\\ipykernel_3796\\3167065733.py:89: FutureWarning: The default dtype for empty Series will be 'object' instead of 'float64' in a future version. Specify a dtype explicitly to silence this warning.\n",
      "  legend = pandas.Series(legend).sort_index()\n",
      "C:\\Users\\gideon.b\\AppData\\Local\\Temp\\ipykernel_3796\\3167065733.py:89: FutureWarning: The default dtype for empty Series will be 'object' instead of 'float64' in a future version. Specify a dtype explicitly to silence this warning.\n",
      "  legend = pandas.Series(legend).sort_index()\n",
      "C:\\Users\\gideon.b\\AppData\\Local\\Temp\\ipykernel_3796\\3167065733.py:89: FutureWarning: The default dtype for empty Series will be 'object' instead of 'float64' in a future version. Specify a dtype explicitly to silence this warning.\n",
      "  legend = pandas.Series(legend).sort_index()\n",
      "C:\\Users\\gideon.b\\AppData\\Local\\Temp\\ipykernel_3796\\3167065733.py:89: FutureWarning: The default dtype for empty Series will be 'object' instead of 'float64' in a future version. Specify a dtype explicitly to silence this warning.\n",
      "  legend = pandas.Series(legend).sort_index()\n",
      "C:\\Users\\gideon.b\\AppData\\Local\\Temp\\ipykernel_3796\\3167065733.py:89: FutureWarning: The default dtype for empty Series will be 'object' instead of 'float64' in a future version. Specify a dtype explicitly to silence this warning.\n",
      "  legend = pandas.Series(legend).sort_index()\n",
      "C:\\Users\\gideon.b\\AppData\\Local\\Temp\\ipykernel_3796\\3167065733.py:89: FutureWarning: The default dtype for empty Series will be 'object' instead of 'float64' in a future version. Specify a dtype explicitly to silence this warning.\n",
      "  legend = pandas.Series(legend).sort_index()\n",
      "C:\\Users\\gideon.b\\AppData\\Local\\Temp\\ipykernel_3796\\3167065733.py:89: FutureWarning: The default dtype for empty Series will be 'object' instead of 'float64' in a future version. Specify a dtype explicitly to silence this warning.\n",
      "  legend = pandas.Series(legend).sort_index()\n"
     ]
    },
    {
     "name": "stdout",
     "output_type": "stream",
     "text": [
      "['NV2t008558001.1', 'NV2t008740001.1']\n",
      "['NV2t008618001.1', 'NV2t009760001.1']\n",
      "['NV2t008818001.1', 'NV2t008819001.1']\n",
      "['NV2t008880001.1', 'NV2t008880002.1']\n",
      "['NV2t009816001.1', 'NV2t011797001.1']\n",
      "['NV2t009849001.1', 'NV2t009849002.1']\n"
     ]
    },
    {
     "name": "stderr",
     "output_type": "stream",
     "text": [
      "C:\\Users\\gideon.b\\AppData\\Local\\Temp\\ipykernel_3796\\3167065733.py:89: FutureWarning: The default dtype for empty Series will be 'object' instead of 'float64' in a future version. Specify a dtype explicitly to silence this warning.\n",
      "  legend = pandas.Series(legend).sort_index()\n",
      "C:\\Users\\gideon.b\\AppData\\Local\\Temp\\ipykernel_3796\\3167065733.py:89: FutureWarning: The default dtype for empty Series will be 'object' instead of 'float64' in a future version. Specify a dtype explicitly to silence this warning.\n",
      "  legend = pandas.Series(legend).sort_index()\n",
      "C:\\Users\\gideon.b\\AppData\\Local\\Temp\\ipykernel_3796\\3167065733.py:89: FutureWarning: The default dtype for empty Series will be 'object' instead of 'float64' in a future version. Specify a dtype explicitly to silence this warning.\n",
      "  legend = pandas.Series(legend).sort_index()\n",
      "C:\\Users\\gideon.b\\AppData\\Local\\Temp\\ipykernel_3796\\3167065733.py:89: FutureWarning: The default dtype for empty Series will be 'object' instead of 'float64' in a future version. Specify a dtype explicitly to silence this warning.\n",
      "  legend = pandas.Series(legend).sort_index()\n",
      "C:\\Users\\gideon.b\\AppData\\Local\\Temp\\ipykernel_3796\\3167065733.py:89: FutureWarning: The default dtype for empty Series will be 'object' instead of 'float64' in a future version. Specify a dtype explicitly to silence this warning.\n",
      "  legend = pandas.Series(legend).sort_index()\n",
      "C:\\Users\\gideon.b\\AppData\\Local\\Temp\\ipykernel_3796\\3167065733.py:89: FutureWarning: The default dtype for empty Series will be 'object' instead of 'float64' in a future version. Specify a dtype explicitly to silence this warning.\n",
      "  legend = pandas.Series(legend).sort_index()\n"
     ]
    },
    {
     "name": "stdout",
     "output_type": "stream",
     "text": [
      "['NV2t009856001.1', 'NV2t009856002.1']\n",
      "['NV2t010388001.1', 'NV2t010388002.1']\n",
      "['NV2t010636001.1', 'NV2t010636002.1']\n",
      "['NV2t010760001.1', 'NV2t010760002.1']\n",
      "['NV2t011373001.1', 'NV2t011373002.1']\n"
     ]
    },
    {
     "name": "stderr",
     "output_type": "stream",
     "text": [
      "C:\\Users\\gideon.b\\AppData\\Local\\Temp\\ipykernel_3796\\3167065733.py:89: FutureWarning: The default dtype for empty Series will be 'object' instead of 'float64' in a future version. Specify a dtype explicitly to silence this warning.\n",
      "  legend = pandas.Series(legend).sort_index()\n",
      "C:\\Users\\gideon.b\\AppData\\Local\\Temp\\ipykernel_3796\\3167065733.py:89: FutureWarning: The default dtype for empty Series will be 'object' instead of 'float64' in a future version. Specify a dtype explicitly to silence this warning.\n",
      "  legend = pandas.Series(legend).sort_index()\n",
      "C:\\Users\\gideon.b\\AppData\\Local\\Temp\\ipykernel_3796\\3167065733.py:89: FutureWarning: The default dtype for empty Series will be 'object' instead of 'float64' in a future version. Specify a dtype explicitly to silence this warning.\n",
      "  legend = pandas.Series(legend).sort_index()\n",
      "C:\\Users\\gideon.b\\AppData\\Local\\Temp\\ipykernel_3796\\3167065733.py:89: FutureWarning: The default dtype for empty Series will be 'object' instead of 'float64' in a future version. Specify a dtype explicitly to silence this warning.\n",
      "  legend = pandas.Series(legend).sort_index()\n",
      "C:\\Users\\gideon.b\\AppData\\Local\\Temp\\ipykernel_3796\\3167065733.py:89: FutureWarning: The default dtype for empty Series will be 'object' instead of 'float64' in a future version. Specify a dtype explicitly to silence this warning.\n",
      "  legend = pandas.Series(legend).sort_index()\n"
     ]
    },
    {
     "name": "stdout",
     "output_type": "stream",
     "text": [
      "['NV2t011507001.1', 'NV2t011509001.1']\n",
      "['NV2t011508001.1', 'NV2t011510001.1']\n",
      "['NV2t011625001.1', 'NV2t011625002.1']\n",
      "['NV2t011900001.1', 'NV2t020186001.1']\n",
      "['NV2t012207001.1', 'NV2t012207002.1']\n",
      "['NV2t012621001.1', 'NV2t012623001.1']\n",
      "['NV2t012650001.1', 'NV2t012650002.1']\n",
      "['NV2t012753001.1', 'NV2t012755001.1']\n",
      "['NV2t013120001.1', 'NV2t013120003.1']\n"
     ]
    },
    {
     "name": "stderr",
     "output_type": "stream",
     "text": [
      "C:\\Users\\gideon.b\\AppData\\Local\\Temp\\ipykernel_3796\\3167065733.py:89: FutureWarning: The default dtype for empty Series will be 'object' instead of 'float64' in a future version. Specify a dtype explicitly to silence this warning.\n",
      "  legend = pandas.Series(legend).sort_index()\n",
      "C:\\Users\\gideon.b\\AppData\\Local\\Temp\\ipykernel_3796\\3167065733.py:89: FutureWarning: The default dtype for empty Series will be 'object' instead of 'float64' in a future version. Specify a dtype explicitly to silence this warning.\n",
      "  legend = pandas.Series(legend).sort_index()\n",
      "C:\\Users\\gideon.b\\AppData\\Local\\Temp\\ipykernel_3796\\3167065733.py:89: FutureWarning: The default dtype for empty Series will be 'object' instead of 'float64' in a future version. Specify a dtype explicitly to silence this warning.\n",
      "  legend = pandas.Series(legend).sort_index()\n",
      "C:\\Users\\gideon.b\\AppData\\Local\\Temp\\ipykernel_3796\\3167065733.py:89: FutureWarning: The default dtype for empty Series will be 'object' instead of 'float64' in a future version. Specify a dtype explicitly to silence this warning.\n",
      "  legend = pandas.Series(legend).sort_index()\n",
      "C:\\Users\\gideon.b\\AppData\\Local\\Temp\\ipykernel_3796\\3167065733.py:89: FutureWarning: The default dtype for empty Series will be 'object' instead of 'float64' in a future version. Specify a dtype explicitly to silence this warning.\n",
      "  legend = pandas.Series(legend).sort_index()\n",
      "C:\\Users\\gideon.b\\AppData\\Local\\Temp\\ipykernel_3796\\3167065733.py:89: FutureWarning: The default dtype for empty Series will be 'object' instead of 'float64' in a future version. Specify a dtype explicitly to silence this warning.\n",
      "  legend = pandas.Series(legend).sort_index()\n",
      "C:\\Users\\gideon.b\\AppData\\Local\\Temp\\ipykernel_3796\\3167065733.py:89: FutureWarning: The default dtype for empty Series will be 'object' instead of 'float64' in a future version. Specify a dtype explicitly to silence this warning.\n",
      "  legend = pandas.Series(legend).sort_index()\n",
      "C:\\Users\\gideon.b\\AppData\\Local\\Temp\\ipykernel_3796\\3167065733.py:89: FutureWarning: The default dtype for empty Series will be 'object' instead of 'float64' in a future version. Specify a dtype explicitly to silence this warning.\n",
      "  legend = pandas.Series(legend).sort_index()\n",
      "C:\\Users\\gideon.b\\AppData\\Local\\Temp\\ipykernel_3796\\3167065733.py:89: FutureWarning: The default dtype for empty Series will be 'object' instead of 'float64' in a future version. Specify a dtype explicitly to silence this warning.\n",
      "  legend = pandas.Series(legend).sort_index()\n",
      "C:\\Users\\gideon.b\\AppData\\Local\\Temp\\ipykernel_3796\\3167065733.py:89: FutureWarning: The default dtype for empty Series will be 'object' instead of 'float64' in a future version. Specify a dtype explicitly to silence this warning.\n",
      "  legend = pandas.Series(legend).sort_index()\n"
     ]
    },
    {
     "name": "stdout",
     "output_type": "stream",
     "text": [
      "['NV2t013183001.1', 'NV2t013183002.1']\n",
      "['NV2t013293001.1', 'NV2t013293002.1']\n",
      "['NV2t014074001.1', 'NV2t014081001.1']\n",
      "['NV2t014103001.1', 'NV2t014103002.1']\n",
      "['NV2t014357001.1', 'NV2t014357002.1']\n",
      "['NV2t014486001.1', 'NV2t014492001.1']\n",
      "['NV2t014569001.1', 'NV2t014569002.1']\n",
      "['NV2t014678001.1', 'NV2t018043001.1']\n"
     ]
    },
    {
     "name": "stderr",
     "output_type": "stream",
     "text": [
      "C:\\Users\\gideon.b\\AppData\\Local\\Temp\\ipykernel_3796\\3167065733.py:89: FutureWarning: The default dtype for empty Series will be 'object' instead of 'float64' in a future version. Specify a dtype explicitly to silence this warning.\n",
      "  legend = pandas.Series(legend).sort_index()\n",
      "C:\\Users\\gideon.b\\AppData\\Local\\Temp\\ipykernel_3796\\3167065733.py:89: FutureWarning: The default dtype for empty Series will be 'object' instead of 'float64' in a future version. Specify a dtype explicitly to silence this warning.\n",
      "  legend = pandas.Series(legend).sort_index()\n",
      "C:\\Users\\gideon.b\\AppData\\Local\\Temp\\ipykernel_3796\\3167065733.py:89: FutureWarning: The default dtype for empty Series will be 'object' instead of 'float64' in a future version. Specify a dtype explicitly to silence this warning.\n",
      "  legend = pandas.Series(legend).sort_index()\n",
      "C:\\Users\\gideon.b\\AppData\\Local\\Temp\\ipykernel_3796\\3167065733.py:89: FutureWarning: The default dtype for empty Series will be 'object' instead of 'float64' in a future version. Specify a dtype explicitly to silence this warning.\n",
      "  legend = pandas.Series(legend).sort_index()\n",
      "C:\\Users\\gideon.b\\AppData\\Local\\Temp\\ipykernel_3796\\3167065733.py:89: FutureWarning: The default dtype for empty Series will be 'object' instead of 'float64' in a future version. Specify a dtype explicitly to silence this warning.\n",
      "  legend = pandas.Series(legend).sort_index()\n",
      "C:\\Users\\gideon.b\\AppData\\Local\\Temp\\ipykernel_3796\\3167065733.py:89: FutureWarning: The default dtype for empty Series will be 'object' instead of 'float64' in a future version. Specify a dtype explicitly to silence this warning.\n",
      "  legend = pandas.Series(legend).sort_index()\n",
      "C:\\Users\\gideon.b\\AppData\\Local\\Temp\\ipykernel_3796\\3167065733.py:89: FutureWarning: The default dtype for empty Series will be 'object' instead of 'float64' in a future version. Specify a dtype explicitly to silence this warning.\n",
      "  legend = pandas.Series(legend).sort_index()\n"
     ]
    },
    {
     "name": "stdout",
     "output_type": "stream",
     "text": [
      "['NV2t014830001.1', 'NV2t014830002.1']\n",
      "['NV2t014920001.1', 'NV2t014921001.1']\n",
      "['NV2t014958001.1', 'NV2t014958003.1']\n",
      "['NV2t015053001.1', 'NV2t015060001.1']\n",
      "['NV2t015186001.1', 'NV2t015330001.1']\n"
     ]
    },
    {
     "name": "stderr",
     "output_type": "stream",
     "text": [
      "C:\\Users\\gideon.b\\AppData\\Local\\Temp\\ipykernel_3796\\3167065733.py:89: FutureWarning: The default dtype for empty Series will be 'object' instead of 'float64' in a future version. Specify a dtype explicitly to silence this warning.\n",
      "  legend = pandas.Series(legend).sort_index()\n",
      "C:\\Users\\gideon.b\\AppData\\Local\\Temp\\ipykernel_3796\\3167065733.py:89: FutureWarning: The default dtype for empty Series will be 'object' instead of 'float64' in a future version. Specify a dtype explicitly to silence this warning.\n",
      "  legend = pandas.Series(legend).sort_index()\n",
      "C:\\Users\\gideon.b\\AppData\\Local\\Temp\\ipykernel_3796\\3167065733.py:89: FutureWarning: The default dtype for empty Series will be 'object' instead of 'float64' in a future version. Specify a dtype explicitly to silence this warning.\n",
      "  legend = pandas.Series(legend).sort_index()\n",
      "C:\\Users\\gideon.b\\AppData\\Local\\Temp\\ipykernel_3796\\3167065733.py:89: FutureWarning: The default dtype for empty Series will be 'object' instead of 'float64' in a future version. Specify a dtype explicitly to silence this warning.\n",
      "  legend = pandas.Series(legend).sort_index()\n",
      "C:\\Users\\gideon.b\\AppData\\Local\\Temp\\ipykernel_3796\\3167065733.py:89: FutureWarning: The default dtype for empty Series will be 'object' instead of 'float64' in a future version. Specify a dtype explicitly to silence this warning.\n",
      "  legend = pandas.Series(legend).sort_index()\n"
     ]
    },
    {
     "name": "stdout",
     "output_type": "stream",
     "text": [
      "['NV2t015419001.1', 'NV2t015419002.1']\n",
      "['NV2t015519001.1', 'NV2t015519002.1']\n",
      "['NV2t016117001.1', 'NV2t016117002.1']\n",
      "['NV2t016338001.1', 'NV2t016338002.1']\n",
      "['NV2t016360001.1', 'NV2t016360002.1']\n"
     ]
    },
    {
     "name": "stderr",
     "output_type": "stream",
     "text": [
      "C:\\Users\\gideon.b\\AppData\\Local\\Temp\\ipykernel_3796\\3167065733.py:89: FutureWarning: The default dtype for empty Series will be 'object' instead of 'float64' in a future version. Specify a dtype explicitly to silence this warning.\n",
      "  legend = pandas.Series(legend).sort_index()\n",
      "C:\\Users\\gideon.b\\AppData\\Local\\Temp\\ipykernel_3796\\3167065733.py:89: FutureWarning: The default dtype for empty Series will be 'object' instead of 'float64' in a future version. Specify a dtype explicitly to silence this warning.\n",
      "  legend = pandas.Series(legend).sort_index()\n",
      "C:\\Users\\gideon.b\\AppData\\Local\\Temp\\ipykernel_3796\\3167065733.py:89: FutureWarning: The default dtype for empty Series will be 'object' instead of 'float64' in a future version. Specify a dtype explicitly to silence this warning.\n",
      "  legend = pandas.Series(legend).sort_index()\n",
      "C:\\Users\\gideon.b\\AppData\\Local\\Temp\\ipykernel_3796\\3167065733.py:89: FutureWarning: The default dtype for empty Series will be 'object' instead of 'float64' in a future version. Specify a dtype explicitly to silence this warning.\n",
      "  legend = pandas.Series(legend).sort_index()\n",
      "C:\\Users\\gideon.b\\AppData\\Local\\Temp\\ipykernel_3796\\3167065733.py:89: FutureWarning: The default dtype for empty Series will be 'object' instead of 'float64' in a future version. Specify a dtype explicitly to silence this warning.\n",
      "  legend = pandas.Series(legend).sort_index()\n",
      "C:\\Users\\gideon.b\\AppData\\Local\\Temp\\ipykernel_3796\\3167065733.py:89: FutureWarning: The default dtype for empty Series will be 'object' instead of 'float64' in a future version. Specify a dtype explicitly to silence this warning.\n",
      "  legend = pandas.Series(legend).sort_index()\n",
      "C:\\Users\\gideon.b\\AppData\\Local\\Temp\\ipykernel_3796\\3167065733.py:89: FutureWarning: The default dtype for empty Series will be 'object' instead of 'float64' in a future version. Specify a dtype explicitly to silence this warning.\n",
      "  legend = pandas.Series(legend).sort_index()\n"
     ]
    },
    {
     "name": "stdout",
     "output_type": "stream",
     "text": [
      "['NV2t016585001.1', 'NV2t016585002.1']\n",
      "['NV2t017000001.1', 'NV2t017000002.1']\n",
      "['NV2t017065001.1', 'NV2t017065002.1']\n",
      "['NV2t018054001.1', 'NV2t018056001.1']\n",
      "['NV2t019080001.1', 'NV2t019080002.1']\n",
      "['NV2t019146001.1', 'NV2t019146002.1']\n",
      "['NV2t019375002.1', 'NV2t020296001.1']\n",
      "['NV2t019402002.1', 'NV2t019402004.1']\n"
     ]
    },
    {
     "name": "stderr",
     "output_type": "stream",
     "text": [
      "C:\\Users\\gideon.b\\AppData\\Local\\Temp\\ipykernel_3796\\3167065733.py:89: FutureWarning: The default dtype for empty Series will be 'object' instead of 'float64' in a future version. Specify a dtype explicitly to silence this warning.\n",
      "  legend = pandas.Series(legend).sort_index()\n",
      "C:\\Users\\gideon.b\\AppData\\Local\\Temp\\ipykernel_3796\\3167065733.py:89: FutureWarning: The default dtype for empty Series will be 'object' instead of 'float64' in a future version. Specify a dtype explicitly to silence this warning.\n",
      "  legend = pandas.Series(legend).sort_index()\n",
      "C:\\Users\\gideon.b\\AppData\\Local\\Temp\\ipykernel_3796\\3167065733.py:89: FutureWarning: The default dtype for empty Series will be 'object' instead of 'float64' in a future version. Specify a dtype explicitly to silence this warning.\n",
      "  legend = pandas.Series(legend).sort_index()\n",
      "C:\\Users\\gideon.b\\AppData\\Local\\Temp\\ipykernel_3796\\3167065733.py:89: FutureWarning: The default dtype for empty Series will be 'object' instead of 'float64' in a future version. Specify a dtype explicitly to silence this warning.\n",
      "  legend = pandas.Series(legend).sort_index()\n",
      "C:\\Users\\gideon.b\\AppData\\Local\\Temp\\ipykernel_3796\\3167065733.py:89: FutureWarning: The default dtype for empty Series will be 'object' instead of 'float64' in a future version. Specify a dtype explicitly to silence this warning.\n",
      "  legend = pandas.Series(legend).sort_index()\n",
      "C:\\Users\\gideon.b\\AppData\\Local\\Temp\\ipykernel_3796\\3167065733.py:89: FutureWarning: The default dtype for empty Series will be 'object' instead of 'float64' in a future version. Specify a dtype explicitly to silence this warning.\n",
      "  legend = pandas.Series(legend).sort_index()\n",
      "C:\\Users\\gideon.b\\AppData\\Local\\Temp\\ipykernel_3796\\3167065733.py:89: FutureWarning: The default dtype for empty Series will be 'object' instead of 'float64' in a future version. Specify a dtype explicitly to silence this warning.\n",
      "  legend = pandas.Series(legend).sort_index()\n",
      "C:\\Users\\gideon.b\\AppData\\Local\\Temp\\ipykernel_3796\\3167065733.py:89: FutureWarning: The default dtype for empty Series will be 'object' instead of 'float64' in a future version. Specify a dtype explicitly to silence this warning.\n",
      "  legend = pandas.Series(legend).sort_index()\n",
      "C:\\Users\\gideon.b\\AppData\\Local\\Temp\\ipykernel_3796\\3167065733.py:89: FutureWarning: The default dtype for empty Series will be 'object' instead of 'float64' in a future version. Specify a dtype explicitly to silence this warning.\n",
      "  legend = pandas.Series(legend).sort_index()\n"
     ]
    },
    {
     "name": "stdout",
     "output_type": "stream",
     "text": [
      "['NV2t019426001.1', 'NV2t019426002.1']\n",
      "['NV2t019847001.1', 'NV2t019847002.1']\n",
      "['NV2t020188001.1', 'NV2t020188002.1']\n",
      "['NV2t020323001.1', 'NV2t020323002.1']\n",
      "['NV2t020530001.1', 'NV2t020530002.1']\n",
      "['NV2t020956001.1', 'NV2t020957001.1']\n",
      "['NV2t021284001.1', 'NV2t021284002.1']\n",
      "['NV2t021286001.1', 'NV2t021289001.1']\n",
      "['NV2t021353001.1', 'NV2t021353003.1']\n"
     ]
    },
    {
     "name": "stderr",
     "output_type": "stream",
     "text": [
      "C:\\Users\\gideon.b\\AppData\\Local\\Temp\\ipykernel_3796\\3167065733.py:89: FutureWarning: The default dtype for empty Series will be 'object' instead of 'float64' in a future version. Specify a dtype explicitly to silence this warning.\n",
      "  legend = pandas.Series(legend).sort_index()\n",
      "C:\\Users\\gideon.b\\AppData\\Local\\Temp\\ipykernel_3796\\3167065733.py:89: FutureWarning: The default dtype for empty Series will be 'object' instead of 'float64' in a future version. Specify a dtype explicitly to silence this warning.\n",
      "  legend = pandas.Series(legend).sort_index()\n",
      "C:\\Users\\gideon.b\\AppData\\Local\\Temp\\ipykernel_3796\\3167065733.py:89: FutureWarning: The default dtype for empty Series will be 'object' instead of 'float64' in a future version. Specify a dtype explicitly to silence this warning.\n",
      "  legend = pandas.Series(legend).sort_index()\n",
      "C:\\Users\\gideon.b\\AppData\\Local\\Temp\\ipykernel_3796\\3167065733.py:89: FutureWarning: The default dtype for empty Series will be 'object' instead of 'float64' in a future version. Specify a dtype explicitly to silence this warning.\n",
      "  legend = pandas.Series(legend).sort_index()\n",
      "C:\\Users\\gideon.b\\AppData\\Local\\Temp\\ipykernel_3796\\3167065733.py:89: FutureWarning: The default dtype for empty Series will be 'object' instead of 'float64' in a future version. Specify a dtype explicitly to silence this warning.\n",
      "  legend = pandas.Series(legend).sort_index()\n",
      "C:\\Users\\gideon.b\\AppData\\Local\\Temp\\ipykernel_3796\\3167065733.py:89: FutureWarning: The default dtype for empty Series will be 'object' instead of 'float64' in a future version. Specify a dtype explicitly to silence this warning.\n",
      "  legend = pandas.Series(legend).sort_index()\n",
      "C:\\Users\\gideon.b\\AppData\\Local\\Temp\\ipykernel_3796\\3167065733.py:89: FutureWarning: The default dtype for empty Series will be 'object' instead of 'float64' in a future version. Specify a dtype explicitly to silence this warning.\n",
      "  legend = pandas.Series(legend).sort_index()\n",
      "C:\\Users\\gideon.b\\AppData\\Local\\Temp\\ipykernel_3796\\3167065733.py:89: FutureWarning: The default dtype for empty Series will be 'object' instead of 'float64' in a future version. Specify a dtype explicitly to silence this warning.\n",
      "  legend = pandas.Series(legend).sort_index()\n"
     ]
    },
    {
     "name": "stdout",
     "output_type": "stream",
     "text": [
      "['NV2t021577001.1', 'NV2t021577002.1']\n",
      "['NV2t021629001.1', 'NV2t021629002.1']\n",
      "['NV2t021638001.1', 'NV2t021638002.1']\n",
      "['NV2t021728001.1', 'NV2t021729001.1']\n",
      "['NV2t021915001.1', 'NV2t021924001.1']\n",
      "['NV2t022318001.1', 'NV2t022318002.1']\n",
      "['NV2t022444001.1', 'NV2t022444002.1']\n",
      "['NV2t022459001.1', 'NV2t022459002.1']\n",
      "['NV2t022664002.1', 'NV2t022664006.1']\n"
     ]
    },
    {
     "name": "stderr",
     "output_type": "stream",
     "text": [
      "C:\\Users\\gideon.b\\AppData\\Local\\Temp\\ipykernel_3796\\3167065733.py:89: FutureWarning: The default dtype for empty Series will be 'object' instead of 'float64' in a future version. Specify a dtype explicitly to silence this warning.\n",
      "  legend = pandas.Series(legend).sort_index()\n",
      "C:\\Users\\gideon.b\\AppData\\Local\\Temp\\ipykernel_3796\\3167065733.py:89: FutureWarning: The default dtype for empty Series will be 'object' instead of 'float64' in a future version. Specify a dtype explicitly to silence this warning.\n",
      "  legend = pandas.Series(legend).sort_index()\n",
      "C:\\Users\\gideon.b\\AppData\\Local\\Temp\\ipykernel_3796\\3167065733.py:89: FutureWarning: The default dtype for empty Series will be 'object' instead of 'float64' in a future version. Specify a dtype explicitly to silence this warning.\n",
      "  legend = pandas.Series(legend).sort_index()\n",
      "C:\\Users\\gideon.b\\AppData\\Local\\Temp\\ipykernel_3796\\3167065733.py:89: FutureWarning: The default dtype for empty Series will be 'object' instead of 'float64' in a future version. Specify a dtype explicitly to silence this warning.\n",
      "  legend = pandas.Series(legend).sort_index()\n",
      "C:\\Users\\gideon.b\\AppData\\Local\\Temp\\ipykernel_3796\\3167065733.py:89: FutureWarning: The default dtype for empty Series will be 'object' instead of 'float64' in a future version. Specify a dtype explicitly to silence this warning.\n",
      "  legend = pandas.Series(legend).sort_index()\n",
      "C:\\Users\\gideon.b\\AppData\\Local\\Temp\\ipykernel_3796\\3167065733.py:89: FutureWarning: The default dtype for empty Series will be 'object' instead of 'float64' in a future version. Specify a dtype explicitly to silence this warning.\n",
      "  legend = pandas.Series(legend).sort_index()\n",
      "C:\\Users\\gideon.b\\AppData\\Local\\Temp\\ipykernel_3796\\3167065733.py:89: FutureWarning: The default dtype for empty Series will be 'object' instead of 'float64' in a future version. Specify a dtype explicitly to silence this warning.\n",
      "  legend = pandas.Series(legend).sort_index()\n",
      "C:\\Users\\gideon.b\\AppData\\Local\\Temp\\ipykernel_3796\\3167065733.py:89: FutureWarning: The default dtype for empty Series will be 'object' instead of 'float64' in a future version. Specify a dtype explicitly to silence this warning.\n",
      "  legend = pandas.Series(legend).sort_index()\n"
     ]
    },
    {
     "name": "stdout",
     "output_type": "stream",
     "text": [
      "['NV2t023064001.1', 'NV2t023064002.1']\n",
      "['NV2t023407001.1', 'NV2t023407002.1']\n",
      "['NV2t023447001.1', 'NV2t023447002.1']\n",
      "['NV2t023884001.1', 'NV2t023884002.1']\n"
     ]
    }
   ],
   "source": [
    "# draw visualizations for each orthogroup\n",
    "for orthogroup,seqs in orthogroups.iterrows():\n",
    "    values = [v.split(\",\") for v in seqs.values if not str(v) == \"nan\"]\n",
    "    seq_ids = [item.strip() for sublist in values for item in sublist]\n",
    "    visualize(\"orthogroups/{og}\".format(og=orthogroup), seq_ids, all_annot)"
   ]
  },
  {
   "cell_type": "code",
   "execution_count": 109,
   "metadata": {},
   "outputs": [
    {
     "data": {
      "text/plain": [
       "['Sc4wPfr_570.g25944.t1',\n",
       " 'NV2t003012001.1, NV2t003941001.1, NV2t004948001.1, NV2t004953001.1, NV2t005687001.1, NV2t005688001.1, NV2t005688002.1, NV2t005873001.1, NV2t006010001.1, NV2t006013001.1, NV2t006014001.1, NV2t006014002.1, NV2t006015001.1, NV2t006016001.1, NV2t006034001.1, NV2t006207001.1, NV2t007004001.1, NV2t007038001.1, NV2t007679001.1, NV2t010046001.1, NV2t010046002.1, NV2t010046003.1, NV2t011969001.1, NV2t012138001.1, NV2t012138002.1, NV2t012138004.1, NV2t014110001.1, NV2t016067001.1, NV2t017096001.1, NV2t017198001.1, NV2t017967001.1, NV2t019779001.1, NV2t019779002.1, NV2t022115001.1, NV2t022609001.1, NV2t022609002.1, NV2t022610001.1']"
      ]
     },
     "execution_count": 109,
     "metadata": {},
     "output_type": "execute_result"
    }
   ],
   "source": [
    "all_annot.loc[]\n",
    "\n"
   ]
  }
 ],
 "metadata": {
  "kernelspec": {
   "display_name": "Python 3.8.3 ('.venv': venv)",
   "language": "python",
   "name": "python3"
  },
  "language_info": {
   "codemirror_mode": {
    "name": "ipython",
    "version": 3
   },
   "file_extension": ".py",
   "mimetype": "text/x-python",
   "name": "python",
   "nbconvert_exporter": "python",
   "pygments_lexer": "ipython3",
   "version": "3.8.3"
  },
  "vscode": {
   "interpreter": {
    "hash": "dc465123352b13523d34ae6bb9d107121edb3bfbca67b5c690ac65a480b324b1"
   }
  }
 },
 "nbformat": 4,
 "nbformat_minor": 2
}
